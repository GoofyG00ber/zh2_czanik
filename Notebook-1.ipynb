{
    "metadata": {
        "kernelspec": {
            "name": "SQL",
            "display_name": "SQL",
            "language": "sql"
        },
        "language_info": {
            "name": "sql",
            "version": ""
        }
    },
    "nbformat_minor": 2,
    "nbformat": 4,
    "cells": [
        {
            "cell_type": "markdown",
            "source": [
                ""
            ],
            "metadata": {
                "azdata_cell_guid": "58f0c742-46b4-4478-be7d-0648da139f17"
            }
        },
        {
            "cell_type": "code",
            "source": [
                "select IIF(GROUPING_ID(SZOBA_FK) = 1,'Végösszeg', SZOBA_FK) as 'szobaszam', count(*) as 'foglalas darab'\r\n",
                "from Foglalas\r\n",
                "where FELNOTT_SZAM > GYERMEK_SZAM\r\n",
                "group by rollup(SZOBA_FK)"
            ],
            "metadata": {
                "azdata_cell_guid": "9e59e35e-29d0-41e2-974e-3a33734016c9",
                "language": "sql",
                "tags": []
            },
            "outputs": [
                {
                    "output_type": "display_data",
                    "data": {
                        "text/html": "Total execution time: 00:00:00.031"
                    },
                    "metadata": {}
                },
                {
                    "output_type": "execute_result",
                    "metadata": {},
                    "execution_count": 27,
                    "data": {
                        "application/vnd.dataresource+json": {
                            "schema": {
                                "fields": [
                                    {
                                        "name": "szobaszam"
                                    },
                                    {
                                        "name": "foglalas darab"
                                    }
                                ]
                            },
                            "data": [
                                {
                                    "szobaszam": "1",
                                    "foglalas darab": "7"
                                },
                                {
                                    "szobaszam": "2",
                                    "foglalas darab": "2"
                                },
                                {
                                    "szobaszam": "3",
                                    "foglalas darab": "3"
                                },
                                {
                                    "szobaszam": "4",
                                    "foglalas darab": "5"
                                },
                                {
                                    "szobaszam": "5",
                                    "foglalas darab": "2"
                                },
                                {
                                    "szobaszam": "6",
                                    "foglalas darab": "5"
                                },
                                {
                                    "szobaszam": "7",
                                    "foglalas darab": "6"
                                },
                                {
                                    "szobaszam": "8",
                                    "foglalas darab": "5"
                                },
                                {
                                    "szobaszam": "9",
                                    "foglalas darab": "4"
                                },
                                {
                                    "szobaszam": "10",
                                    "foglalas darab": "4"
                                },
                                {
                                    "szobaszam": "11",
                                    "foglalas darab": "4"
                                },
                                {
                                    "szobaszam": "12",
                                    "foglalas darab": "7"
                                },
                                {
                                    "szobaszam": "13",
                                    "foglalas darab": "4"
                                },
                                {
                                    "szobaszam": "14",
                                    "foglalas darab": "3"
                                },
                                {
                                    "szobaszam": "15",
                                    "foglalas darab": "4"
                                },
                                {
                                    "szobaszam": "16",
                                    "foglalas darab": "1"
                                },
                                {
                                    "szobaszam": "17",
                                    "foglalas darab": "2"
                                },
                                {
                                    "szobaszam": "18",
                                    "foglalas darab": "3"
                                },
                                {
                                    "szobaszam": "19",
                                    "foglalas darab": "4"
                                },
                                {
                                    "szobaszam": "20",
                                    "foglalas darab": "5"
                                },
                                {
                                    "szobaszam": "21",
                                    "foglalas darab": "1"
                                },
                                {
                                    "szobaszam": "22",
                                    "foglalas darab": "2"
                                },
                                {
                                    "szobaszam": "23",
                                    "foglalas darab": "3"
                                },
                                {
                                    "szobaszam": "24",
                                    "foglalas darab": "3"
                                },
                                {
                                    "szobaszam": "25",
                                    "foglalas darab": "1"
                                },
                                {
                                    "szobaszam": "27",
                                    "foglalas darab": "5"
                                },
                                {
                                    "szobaszam": "28",
                                    "foglalas darab": "5"
                                },
                                {
                                    "szobaszam": "29",
                                    "foglalas darab": "3"
                                },
                                {
                                    "szobaszam": "30",
                                    "foglalas darab": "2"
                                },
                                {
                                    "szobaszam": "31",
                                    "foglalas darab": "1"
                                },
                                {
                                    "szobaszam": "32",
                                    "foglalas darab": "1"
                                },
                                {
                                    "szobaszam": "33",
                                    "foglalas darab": "3"
                                },
                                {
                                    "szobaszam": "34",
                                    "foglalas darab": "3"
                                },
                                {
                                    "szobaszam": "35",
                                    "foglalas darab": "6"
                                },
                                {
                                    "szobaszam": "36",
                                    "foglalas darab": "4"
                                },
                                {
                                    "szobaszam": "37",
                                    "foglalas darab": "2"
                                },
                                {
                                    "szobaszam": "38",
                                    "foglalas darab": "5"
                                },
                                {
                                    "szobaszam": "39",
                                    "foglalas darab": "4"
                                },
                                {
                                    "szobaszam": "40",
                                    "foglalas darab": "3"
                                },
                                {
                                    "szobaszam": "41",
                                    "foglalas darab": "1"
                                },
                                {
                                    "szobaszam": "42",
                                    "foglalas darab": "5"
                                },
                                {
                                    "szobaszam": "43",
                                    "foglalas darab": "4"
                                },
                                {
                                    "szobaszam": "44",
                                    "foglalas darab": "6"
                                },
                                {
                                    "szobaszam": "45",
                                    "foglalas darab": "4"
                                },
                                {
                                    "szobaszam": "46",
                                    "foglalas darab": "3"
                                },
                                {
                                    "szobaszam": "47",
                                    "foglalas darab": "2"
                                },
                                {
                                    "szobaszam": "48",
                                    "foglalas darab": "6"
                                },
                                {
                                    "szobaszam": "49",
                                    "foglalas darab": "5"
                                },
                                {
                                    "szobaszam": "50",
                                    "foglalas darab": "3"
                                },
                                {
                                    "szobaszam": "51",
                                    "foglalas darab": "3"
                                },
                                {
                                    "szobaszam": "52",
                                    "foglalas darab": "5"
                                },
                                {
                                    "szobaszam": "54",
                                    "foglalas darab": "4"
                                },
                                {
                                    "szobaszam": "55",
                                    "foglalas darab": "3"
                                },
                                {
                                    "szobaszam": "56",
                                    "foglalas darab": "1"
                                },
                                {
                                    "szobaszam": "57",
                                    "foglalas darab": "3"
                                },
                                {
                                    "szobaszam": "58",
                                    "foglalas darab": "8"
                                },
                                {
                                    "szobaszam": "59",
                                    "foglalas darab": "4"
                                },
                                {
                                    "szobaszam": "60",
                                    "foglalas darab": "1"
                                },
                                {
                                    "szobaszam": "61",
                                    "foglalas darab": "4"
                                },
                                {
                                    "szobaszam": "62",
                                    "foglalas darab": "3"
                                },
                                {
                                    "szobaszam": "63",
                                    "foglalas darab": "3"
                                },
                                {
                                    "szobaszam": "64",
                                    "foglalas darab": "5"
                                },
                                {
                                    "szobaszam": "66",
                                    "foglalas darab": "3"
                                },
                                {
                                    "szobaszam": "67",
                                    "foglalas darab": "2"
                                },
                                {
                                    "szobaszam": "69",
                                    "foglalas darab": "2"
                                },
                                {
                                    "szobaszam": "70",
                                    "foglalas darab": "8"
                                },
                                {
                                    "szobaszam": "71",
                                    "foglalas darab": "2"
                                },
                                {
                                    "szobaszam": "72",
                                    "foglalas darab": "2"
                                },
                                {
                                    "szobaszam": "73",
                                    "foglalas darab": "4"
                                },
                                {
                                    "szobaszam": "74",
                                    "foglalas darab": "8"
                                },
                                {
                                    "szobaszam": "75",
                                    "foglalas darab": "2"
                                },
                                {
                                    "szobaszam": "76",
                                    "foglalas darab": "2"
                                },
                                {
                                    "szobaszam": "77",
                                    "foglalas darab": "3"
                                },
                                {
                                    "szobaszam": "78",
                                    "foglalas darab": "3"
                                },
                                {
                                    "szobaszam": "79",
                                    "foglalas darab": "4"
                                },
                                {
                                    "szobaszam": "80",
                                    "foglalas darab": "5"
                                },
                                {
                                    "szobaszam": "81",
                                    "foglalas darab": "3"
                                },
                                {
                                    "szobaszam": "82",
                                    "foglalas darab": "5"
                                },
                                {
                                    "szobaszam": "83",
                                    "foglalas darab": "5"
                                },
                                {
                                    "szobaszam": "84",
                                    "foglalas darab": "3"
                                },
                                {
                                    "szobaszam": "85",
                                    "foglalas darab": "2"
                                },
                                {
                                    "szobaszam": "86",
                                    "foglalas darab": "4"
                                },
                                {
                                    "szobaszam": "87",
                                    "foglalas darab": "5"
                                },
                                {
                                    "szobaszam": "88",
                                    "foglalas darab": "5"
                                },
                                {
                                    "szobaszam": "89",
                                    "foglalas darab": "8"
                                },
                                {
                                    "szobaszam": "90",
                                    "foglalas darab": "3"
                                },
                                {
                                    "szobaszam": "91",
                                    "foglalas darab": "2"
                                },
                                {
                                    "szobaszam": "92",
                                    "foglalas darab": "5"
                                },
                                {
                                    "szobaszam": "93",
                                    "foglalas darab": "3"
                                },
                                {
                                    "szobaszam": "94",
                                    "foglalas darab": "6"
                                },
                                {
                                    "szobaszam": "95",
                                    "foglalas darab": "3"
                                },
                                {
                                    "szobaszam": "96",
                                    "foglalas darab": "6"
                                },
                                {
                                    "szobaszam": "97",
                                    "foglalas darab": "5"
                                },
                                {
                                    "szobaszam": "98",
                                    "foglalas darab": "4"
                                },
                                {
                                    "szobaszam": "99",
                                    "foglalas darab": "4"
                                },
                                {
                                    "szobaszam": "100",
                                    "foglalas darab": "2"
                                },
                                {
                                    "szobaszam": "101",
                                    "foglalas darab": "1"
                                },
                                {
                                    "szobaszam": "102",
                                    "foglalas darab": "1"
                                },
                                {
                                    "szobaszam": "103",
                                    "foglalas darab": "1"
                                },
                                {
                                    "szobaszam": "104",
                                    "foglalas darab": "3"
                                },
                                {
                                    "szobaszam": "106",
                                    "foglalas darab": "4"
                                },
                                {
                                    "szobaszam": "107",
                                    "foglalas darab": "4"
                                },
                                {
                                    "szobaszam": "108",
                                    "foglalas darab": "1"
                                },
                                {
                                    "szobaszam": "109",
                                    "foglalas darab": "2"
                                },
                                {
                                    "szobaszam": "110",
                                    "foglalas darab": "5"
                                },
                                {
                                    "szobaszam": "111",
                                    "foglalas darab": "1"
                                },
                                {
                                    "szobaszam": "112",
                                    "foglalas darab": "4"
                                },
                                {
                                    "szobaszam": "113",
                                    "foglalas darab": "2"
                                },
                                {
                                    "szobaszam": "114",
                                    "foglalas darab": "1"
                                },
                                {
                                    "szobaszam": "115",
                                    "foglalas darab": "5"
                                },
                                {
                                    "szobaszam": "117",
                                    "foglalas darab": "4"
                                },
                                {
                                    "szobaszam": "118",
                                    "foglalas darab": "2"
                                },
                                {
                                    "szobaszam": "119",
                                    "foglalas darab": "4"
                                },
                                {
                                    "szobaszam": "120",
                                    "foglalas darab": "2"
                                },
                                {
                                    "szobaszam": "121",
                                    "foglalas darab": "5"
                                },
                                {
                                    "szobaszam": "122",
                                    "foglalas darab": "3"
                                },
                                {
                                    "szobaszam": "123",
                                    "foglalas darab": "5"
                                },
                                {
                                    "szobaszam": "124",
                                    "foglalas darab": "4"
                                },
                                {
                                    "szobaszam": "126",
                                    "foglalas darab": "4"
                                },
                                {
                                    "szobaszam": "127",
                                    "foglalas darab": "5"
                                },
                                {
                                    "szobaszam": "129",
                                    "foglalas darab": "3"
                                },
                                {
                                    "szobaszam": "130",
                                    "foglalas darab": "5"
                                },
                                {
                                    "szobaszam": "131",
                                    "foglalas darab": "4"
                                },
                                {
                                    "szobaszam": "132",
                                    "foglalas darab": "4"
                                },
                                {
                                    "szobaszam": "133",
                                    "foglalas darab": "4"
                                },
                                {
                                    "szobaszam": "134",
                                    "foglalas darab": "4"
                                },
                                {
                                    "szobaszam": "135",
                                    "foglalas darab": "3"
                                },
                                {
                                    "szobaszam": "136",
                                    "foglalas darab": "2"
                                },
                                {
                                    "szobaszam": "137",
                                    "foglalas darab": "2"
                                },
                                {
                                    "szobaszam": "138",
                                    "foglalas darab": "5"
                                },
                                {
                                    "szobaszam": "139",
                                    "foglalas darab": "6"
                                },
                                {
                                    "szobaszam": "140",
                                    "foglalas darab": "5"
                                },
                                {
                                    "szobaszam": "141",
                                    "foglalas darab": "4"
                                },
                                {
                                    "szobaszam": "142",
                                    "foglalas darab": "1"
                                },
                                {
                                    "szobaszam": "143",
                                    "foglalas darab": "5"
                                },
                                {
                                    "szobaszam": "144",
                                    "foglalas darab": "2"
                                },
                                {
                                    "szobaszam": "145",
                                    "foglalas darab": "2"
                                },
                                {
                                    "szobaszam": "146",
                                    "foglalas darab": "3"
                                },
                                {
                                    "szobaszam": "147",
                                    "foglalas darab": "1"
                                },
                                {
                                    "szobaszam": "148",
                                    "foglalas darab": "5"
                                },
                                {
                                    "szobaszam": "149",
                                    "foglalas darab": "5"
                                },
                                {
                                    "szobaszam": "150",
                                    "foglalas darab": "6"
                                },
                                {
                                    "szobaszam": "151",
                                    "foglalas darab": "2"
                                },
                                {
                                    "szobaszam": "152",
                                    "foglalas darab": "3"
                                },
                                {
                                    "szobaszam": "153",
                                    "foglalas darab": "4"
                                },
                                {
                                    "szobaszam": "154",
                                    "foglalas darab": "3"
                                },
                                {
                                    "szobaszam": "155",
                                    "foglalas darab": "3"
                                },
                                {
                                    "szobaszam": "156",
                                    "foglalas darab": "2"
                                },
                                {
                                    "szobaszam": "157",
                                    "foglalas darab": "2"
                                },
                                {
                                    "szobaszam": "158",
                                    "foglalas darab": "3"
                                },
                                {
                                    "szobaszam": "160",
                                    "foglalas darab": "2"
                                },
                                {
                                    "szobaszam": "161",
                                    "foglalas darab": "3"
                                },
                                {
                                    "szobaszam": "162",
                                    "foglalas darab": "2"
                                },
                                {
                                    "szobaszam": "163",
                                    "foglalas darab": "5"
                                },
                                {
                                    "szobaszam": "164",
                                    "foglalas darab": "4"
                                },
                                {
                                    "szobaszam": "165",
                                    "foglalas darab": "5"
                                },
                                {
                                    "szobaszam": "166",
                                    "foglalas darab": "3"
                                },
                                {
                                    "szobaszam": "167",
                                    "foglalas darab": "2"
                                },
                                {
                                    "szobaszam": "168",
                                    "foglalas darab": "1"
                                },
                                {
                                    "szobaszam": "169",
                                    "foglalas darab": "3"
                                },
                                {
                                    "szobaszam": "170",
                                    "foglalas darab": "3"
                                },
                                {
                                    "szobaszam": "171",
                                    "foglalas darab": "5"
                                },
                                {
                                    "szobaszam": "172",
                                    "foglalas darab": "6"
                                },
                                {
                                    "szobaszam": "173",
                                    "foglalas darab": "3"
                                },
                                {
                                    "szobaszam": "174",
                                    "foglalas darab": "4"
                                },
                                {
                                    "szobaszam": "175",
                                    "foglalas darab": "3"
                                },
                                {
                                    "szobaszam": "176",
                                    "foglalas darab": "2"
                                },
                                {
                                    "szobaszam": "177",
                                    "foglalas darab": "1"
                                },
                                {
                                    "szobaszam": "178",
                                    "foglalas darab": "1"
                                },
                                {
                                    "szobaszam": "179",
                                    "foglalas darab": "2"
                                },
                                {
                                    "szobaszam": "180",
                                    "foglalas darab": "1"
                                },
                                {
                                    "szobaszam": "181",
                                    "foglalas darab": "5"
                                },
                                {
                                    "szobaszam": "182",
                                    "foglalas darab": "11"
                                },
                                {
                                    "szobaszam": "183",
                                    "foglalas darab": "3"
                                },
                                {
                                    "szobaszam": "184",
                                    "foglalas darab": "4"
                                },
                                {
                                    "szobaszam": "185",
                                    "foglalas darab": "10"
                                },
                                {
                                    "szobaszam": "186",
                                    "foglalas darab": "1"
                                },
                                {
                                    "szobaszam": "187",
                                    "foglalas darab": "6"
                                },
                                {
                                    "szobaszam": "188",
                                    "foglalas darab": "2"
                                },
                                {
                                    "szobaszam": "189",
                                    "foglalas darab": "1"
                                },
                                {
                                    "szobaszam": "190",
                                    "foglalas darab": "5"
                                },
                                {
                                    "szobaszam": "191",
                                    "foglalas darab": "3"
                                },
                                {
                                    "szobaszam": "192",
                                    "foglalas darab": "1"
                                },
                                {
                                    "szobaszam": "193",
                                    "foglalas darab": "2"
                                },
                                {
                                    "szobaszam": "194",
                                    "foglalas darab": "1"
                                },
                                {
                                    "szobaszam": "195",
                                    "foglalas darab": "5"
                                },
                                {
                                    "szobaszam": "196",
                                    "foglalas darab": "2"
                                },
                                {
                                    "szobaszam": "197",
                                    "foglalas darab": "6"
                                },
                                {
                                    "szobaszam": "198",
                                    "foglalas darab": "7"
                                }
                            ]
                        },
                        "text/html": [
                            "<table>",
                            "<tr><th>szobaszam</th><th>foglalas darab</th></tr>",
                            "<tr><td>1</td><td>7</td></tr>",
                            "<tr><td>2</td><td>2</td></tr>",
                            "<tr><td>3</td><td>3</td></tr>",
                            "<tr><td>4</td><td>5</td></tr>",
                            "<tr><td>5</td><td>2</td></tr>",
                            "<tr><td>6</td><td>5</td></tr>",
                            "<tr><td>7</td><td>6</td></tr>",
                            "<tr><td>8</td><td>5</td></tr>",
                            "<tr><td>9</td><td>4</td></tr>",
                            "<tr><td>10</td><td>4</td></tr>",
                            "<tr><td>11</td><td>4</td></tr>",
                            "<tr><td>12</td><td>7</td></tr>",
                            "<tr><td>13</td><td>4</td></tr>",
                            "<tr><td>14</td><td>3</td></tr>",
                            "<tr><td>15</td><td>4</td></tr>",
                            "<tr><td>16</td><td>1</td></tr>",
                            "<tr><td>17</td><td>2</td></tr>",
                            "<tr><td>18</td><td>3</td></tr>",
                            "<tr><td>19</td><td>4</td></tr>",
                            "<tr><td>20</td><td>5</td></tr>",
                            "<tr><td>21</td><td>1</td></tr>",
                            "<tr><td>22</td><td>2</td></tr>",
                            "<tr><td>23</td><td>3</td></tr>",
                            "<tr><td>24</td><td>3</td></tr>",
                            "<tr><td>25</td><td>1</td></tr>",
                            "<tr><td>27</td><td>5</td></tr>",
                            "<tr><td>28</td><td>5</td></tr>",
                            "<tr><td>29</td><td>3</td></tr>",
                            "<tr><td>30</td><td>2</td></tr>",
                            "<tr><td>31</td><td>1</td></tr>",
                            "<tr><td>32</td><td>1</td></tr>",
                            "<tr><td>33</td><td>3</td></tr>",
                            "<tr><td>34</td><td>3</td></tr>",
                            "<tr><td>35</td><td>6</td></tr>",
                            "<tr><td>36</td><td>4</td></tr>",
                            "<tr><td>37</td><td>2</td></tr>",
                            "<tr><td>38</td><td>5</td></tr>",
                            "<tr><td>39</td><td>4</td></tr>",
                            "<tr><td>40</td><td>3</td></tr>",
                            "<tr><td>41</td><td>1</td></tr>",
                            "<tr><td>42</td><td>5</td></tr>",
                            "<tr><td>43</td><td>4</td></tr>",
                            "<tr><td>44</td><td>6</td></tr>",
                            "<tr><td>45</td><td>4</td></tr>",
                            "<tr><td>46</td><td>3</td></tr>",
                            "<tr><td>47</td><td>2</td></tr>",
                            "<tr><td>48</td><td>6</td></tr>",
                            "<tr><td>49</td><td>5</td></tr>",
                            "<tr><td>50</td><td>3</td></tr>",
                            "<tr><td>51</td><td>3</td></tr>",
                            "<tr><td>52</td><td>5</td></tr>",
                            "<tr><td>54</td><td>4</td></tr>",
                            "<tr><td>55</td><td>3</td></tr>",
                            "<tr><td>56</td><td>1</td></tr>",
                            "<tr><td>57</td><td>3</td></tr>",
                            "<tr><td>58</td><td>8</td></tr>",
                            "<tr><td>59</td><td>4</td></tr>",
                            "<tr><td>60</td><td>1</td></tr>",
                            "<tr><td>61</td><td>4</td></tr>",
                            "<tr><td>62</td><td>3</td></tr>",
                            "<tr><td>63</td><td>3</td></tr>",
                            "<tr><td>64</td><td>5</td></tr>",
                            "<tr><td>66</td><td>3</td></tr>",
                            "<tr><td>67</td><td>2</td></tr>",
                            "<tr><td>69</td><td>2</td></tr>",
                            "<tr><td>70</td><td>8</td></tr>",
                            "<tr><td>71</td><td>2</td></tr>",
                            "<tr><td>72</td><td>2</td></tr>",
                            "<tr><td>73</td><td>4</td></tr>",
                            "<tr><td>74</td><td>8</td></tr>",
                            "<tr><td>75</td><td>2</td></tr>",
                            "<tr><td>76</td><td>2</td></tr>",
                            "<tr><td>77</td><td>3</td></tr>",
                            "<tr><td>78</td><td>3</td></tr>",
                            "<tr><td>79</td><td>4</td></tr>",
                            "<tr><td>80</td><td>5</td></tr>",
                            "<tr><td>81</td><td>3</td></tr>",
                            "<tr><td>82</td><td>5</td></tr>",
                            "<tr><td>83</td><td>5</td></tr>",
                            "<tr><td>84</td><td>3</td></tr>",
                            "<tr><td>85</td><td>2</td></tr>",
                            "<tr><td>86</td><td>4</td></tr>",
                            "<tr><td>87</td><td>5</td></tr>",
                            "<tr><td>88</td><td>5</td></tr>",
                            "<tr><td>89</td><td>8</td></tr>",
                            "<tr><td>90</td><td>3</td></tr>",
                            "<tr><td>91</td><td>2</td></tr>",
                            "<tr><td>92</td><td>5</td></tr>",
                            "<tr><td>93</td><td>3</td></tr>",
                            "<tr><td>94</td><td>6</td></tr>",
                            "<tr><td>95</td><td>3</td></tr>",
                            "<tr><td>96</td><td>6</td></tr>",
                            "<tr><td>97</td><td>5</td></tr>",
                            "<tr><td>98</td><td>4</td></tr>",
                            "<tr><td>99</td><td>4</td></tr>",
                            "<tr><td>100</td><td>2</td></tr>",
                            "<tr><td>101</td><td>1</td></tr>",
                            "<tr><td>102</td><td>1</td></tr>",
                            "<tr><td>103</td><td>1</td></tr>",
                            "<tr><td>104</td><td>3</td></tr>",
                            "<tr><td>106</td><td>4</td></tr>",
                            "<tr><td>107</td><td>4</td></tr>",
                            "<tr><td>108</td><td>1</td></tr>",
                            "<tr><td>109</td><td>2</td></tr>",
                            "<tr><td>110</td><td>5</td></tr>",
                            "<tr><td>111</td><td>1</td></tr>",
                            "<tr><td>112</td><td>4</td></tr>",
                            "<tr><td>113</td><td>2</td></tr>",
                            "<tr><td>114</td><td>1</td></tr>",
                            "<tr><td>115</td><td>5</td></tr>",
                            "<tr><td>117</td><td>4</td></tr>",
                            "<tr><td>118</td><td>2</td></tr>",
                            "<tr><td>119</td><td>4</td></tr>",
                            "<tr><td>120</td><td>2</td></tr>",
                            "<tr><td>121</td><td>5</td></tr>",
                            "<tr><td>122</td><td>3</td></tr>",
                            "<tr><td>123</td><td>5</td></tr>",
                            "<tr><td>124</td><td>4</td></tr>",
                            "<tr><td>126</td><td>4</td></tr>",
                            "<tr><td>127</td><td>5</td></tr>",
                            "<tr><td>129</td><td>3</td></tr>",
                            "<tr><td>130</td><td>5</td></tr>",
                            "<tr><td>131</td><td>4</td></tr>",
                            "<tr><td>132</td><td>4</td></tr>",
                            "<tr><td>133</td><td>4</td></tr>",
                            "<tr><td>134</td><td>4</td></tr>",
                            "<tr><td>135</td><td>3</td></tr>",
                            "<tr><td>136</td><td>2</td></tr>",
                            "<tr><td>137</td><td>2</td></tr>",
                            "<tr><td>138</td><td>5</td></tr>",
                            "<tr><td>139</td><td>6</td></tr>",
                            "<tr><td>140</td><td>5</td></tr>",
                            "<tr><td>141</td><td>4</td></tr>",
                            "<tr><td>142</td><td>1</td></tr>",
                            "<tr><td>143</td><td>5</td></tr>",
                            "<tr><td>144</td><td>2</td></tr>",
                            "<tr><td>145</td><td>2</td></tr>",
                            "<tr><td>146</td><td>3</td></tr>",
                            "<tr><td>147</td><td>1</td></tr>",
                            "<tr><td>148</td><td>5</td></tr>",
                            "<tr><td>149</td><td>5</td></tr>",
                            "<tr><td>150</td><td>6</td></tr>",
                            "<tr><td>151</td><td>2</td></tr>",
                            "<tr><td>152</td><td>3</td></tr>",
                            "<tr><td>153</td><td>4</td></tr>",
                            "<tr><td>154</td><td>3</td></tr>",
                            "<tr><td>155</td><td>3</td></tr>",
                            "<tr><td>156</td><td>2</td></tr>",
                            "<tr><td>157</td><td>2</td></tr>",
                            "<tr><td>158</td><td>3</td></tr>",
                            "<tr><td>160</td><td>2</td></tr>",
                            "<tr><td>161</td><td>3</td></tr>",
                            "<tr><td>162</td><td>2</td></tr>",
                            "<tr><td>163</td><td>5</td></tr>",
                            "<tr><td>164</td><td>4</td></tr>",
                            "<tr><td>165</td><td>5</td></tr>",
                            "<tr><td>166</td><td>3</td></tr>",
                            "<tr><td>167</td><td>2</td></tr>",
                            "<tr><td>168</td><td>1</td></tr>",
                            "<tr><td>169</td><td>3</td></tr>",
                            "<tr><td>170</td><td>3</td></tr>",
                            "<tr><td>171</td><td>5</td></tr>",
                            "<tr><td>172</td><td>6</td></tr>",
                            "<tr><td>173</td><td>3</td></tr>",
                            "<tr><td>174</td><td>4</td></tr>",
                            "<tr><td>175</td><td>3</td></tr>",
                            "<tr><td>176</td><td>2</td></tr>",
                            "<tr><td>177</td><td>1</td></tr>",
                            "<tr><td>178</td><td>1</td></tr>",
                            "<tr><td>179</td><td>2</td></tr>",
                            "<tr><td>180</td><td>1</td></tr>",
                            "<tr><td>181</td><td>5</td></tr>",
                            "<tr><td>182</td><td>11</td></tr>",
                            "<tr><td>183</td><td>3</td></tr>",
                            "<tr><td>184</td><td>4</td></tr>",
                            "<tr><td>185</td><td>10</td></tr>",
                            "<tr><td>186</td><td>1</td></tr>",
                            "<tr><td>187</td><td>6</td></tr>",
                            "<tr><td>188</td><td>2</td></tr>",
                            "<tr><td>189</td><td>1</td></tr>",
                            "<tr><td>190</td><td>5</td></tr>",
                            "<tr><td>191</td><td>3</td></tr>",
                            "<tr><td>192</td><td>1</td></tr>",
                            "<tr><td>193</td><td>2</td></tr>",
                            "<tr><td>194</td><td>1</td></tr>",
                            "<tr><td>195</td><td>5</td></tr>",
                            "<tr><td>196</td><td>2</td></tr>",
                            "<tr><td>197</td><td>6</td></tr>",
                            "<tr><td>198</td><td>7</td></tr>",
                            "</table>"
                        ]
                    }
                },
                {
                    "output_type": "error",
                    "evalue": "Msg 245, Level 16, State 1, Line 1\r\nConversion failed when converting the varchar value 'Végösszeg' to data type int.",
                    "ename": "",
                    "traceback": []
                }
            ],
            "execution_count": 27
        },
        {
            "cell_type": "markdown",
            "source": [
                ""
            ],
            "metadata": {
                "azdata_cell_guid": "0f037564-5348-4d6d-bb86-692ce607a743"
            }
        },
        {
            "cell_type": "code",
            "source": [
                "select sz.SZOBA_ID,  sz.FEROHELY, count(f.FOGLALAS_PK) as 'Foglalasok szama'\r\n",
                "from szoba sz join Foglalas f on sz.SZOBA_ID = f.SZOBA_FK\r\n",
                "group by sz.SZOBA_ID, sz.FEROHELY\r\n",
                "\r\n",
                ""
            ],
            "metadata": {
                "azdata_cell_guid": "558d0c89-7361-4121-8945-1a8b4a76ca00",
                "language": "sql"
            },
            "outputs": [
                {
                    "output_type": "display_data",
                    "data": {
                        "text/html": "(197 rows affected)"
                    },
                    "metadata": {}
                },
                {
                    "output_type": "display_data",
                    "data": {
                        "text/html": "Total execution time: 00:00:00.042"
                    },
                    "metadata": {}
                },
                {
                    "output_type": "execute_result",
                    "metadata": {},
                    "execution_count": 31,
                    "data": {
                        "application/vnd.dataresource+json": {
                            "schema": {
                                "fields": [
                                    {
                                        "name": "SZOBA_ID"
                                    },
                                    {
                                        "name": "Foglalasok szama"
                                    },
                                    {
                                        "name": "FEROHELY"
                                    }
                                ]
                            },
                            "data": [
                                {
                                    "SZOBA_ID": "1",
                                    "Foglalasok szama": "8",
                                    "FEROHELY": "3"
                                },
                                {
                                    "SZOBA_ID": "2",
                                    "Foglalasok szama": "4",
                                    "FEROHELY": "3"
                                },
                                {
                                    "SZOBA_ID": "3",
                                    "Foglalasok szama": "8",
                                    "FEROHELY": "3"
                                },
                                {
                                    "SZOBA_ID": "4",
                                    "Foglalasok szama": "6",
                                    "FEROHELY": "2"
                                },
                                {
                                    "SZOBA_ID": "5",
                                    "Foglalasok szama": "4",
                                    "FEROHELY": "2"
                                },
                                {
                                    "SZOBA_ID": "6",
                                    "Foglalasok szama": "6",
                                    "FEROHELY": "3"
                                },
                                {
                                    "SZOBA_ID": "7",
                                    "Foglalasok szama": "6",
                                    "FEROHELY": "2"
                                },
                                {
                                    "SZOBA_ID": "8",
                                    "Foglalasok szama": "5",
                                    "FEROHELY": "3"
                                },
                                {
                                    "SZOBA_ID": "9",
                                    "Foglalasok szama": "6",
                                    "FEROHELY": "3"
                                },
                                {
                                    "SZOBA_ID": "10",
                                    "Foglalasok szama": "4",
                                    "FEROHELY": "3"
                                },
                                {
                                    "SZOBA_ID": "11",
                                    "Foglalasok szama": "4",
                                    "FEROHELY": "2"
                                },
                                {
                                    "SZOBA_ID": "12",
                                    "Foglalasok szama": "9",
                                    "FEROHELY": "2"
                                },
                                {
                                    "SZOBA_ID": "13",
                                    "Foglalasok szama": "4",
                                    "FEROHELY": "3"
                                },
                                {
                                    "SZOBA_ID": "14",
                                    "Foglalasok szama": "3",
                                    "FEROHELY": "3"
                                },
                                {
                                    "SZOBA_ID": "15",
                                    "Foglalasok szama": "6",
                                    "FEROHELY": "2"
                                },
                                {
                                    "SZOBA_ID": "16",
                                    "Foglalasok szama": "5",
                                    "FEROHELY": "3"
                                },
                                {
                                    "SZOBA_ID": "17",
                                    "Foglalasok szama": "6",
                                    "FEROHELY": "3"
                                },
                                {
                                    "SZOBA_ID": "18",
                                    "Foglalasok szama": "6",
                                    "FEROHELY": "3"
                                },
                                {
                                    "SZOBA_ID": "19",
                                    "Foglalasok szama": "6",
                                    "FEROHELY": "2"
                                },
                                {
                                    "SZOBA_ID": "20",
                                    "Foglalasok szama": "5",
                                    "FEROHELY": "3"
                                },
                                {
                                    "SZOBA_ID": "21",
                                    "Foglalasok szama": "4",
                                    "FEROHELY": "2"
                                },
                                {
                                    "SZOBA_ID": "22",
                                    "Foglalasok szama": "6",
                                    "FEROHELY": "3"
                                },
                                {
                                    "SZOBA_ID": "23",
                                    "Foglalasok szama": "3",
                                    "FEROHELY": "2"
                                },
                                {
                                    "SZOBA_ID": "24",
                                    "Foglalasok szama": "3",
                                    "FEROHELY": "4"
                                },
                                {
                                    "SZOBA_ID": "25",
                                    "Foglalasok szama": "2",
                                    "FEROHELY": "3"
                                },
                                {
                                    "SZOBA_ID": "26",
                                    "Foglalasok szama": "2",
                                    "FEROHELY": "2"
                                },
                                {
                                    "SZOBA_ID": "27",
                                    "Foglalasok szama": "7",
                                    "FEROHELY": "3"
                                },
                                {
                                    "SZOBA_ID": "28",
                                    "Foglalasok szama": "6",
                                    "FEROHELY": "2"
                                },
                                {
                                    "SZOBA_ID": "29",
                                    "Foglalasok szama": "6",
                                    "FEROHELY": "2"
                                },
                                {
                                    "SZOBA_ID": "30",
                                    "Foglalasok szama": "3",
                                    "FEROHELY": "3"
                                },
                                {
                                    "SZOBA_ID": "31",
                                    "Foglalasok szama": "3",
                                    "FEROHELY": "3"
                                },
                                {
                                    "SZOBA_ID": "32",
                                    "Foglalasok szama": "1",
                                    "FEROHELY": "2"
                                },
                                {
                                    "SZOBA_ID": "33",
                                    "Foglalasok szama": "6",
                                    "FEROHELY": "2"
                                },
                                {
                                    "SZOBA_ID": "34",
                                    "Foglalasok szama": "4",
                                    "FEROHELY": "3"
                                },
                                {
                                    "SZOBA_ID": "35",
                                    "Foglalasok szama": "9",
                                    "FEROHELY": "3"
                                },
                                {
                                    "SZOBA_ID": "36",
                                    "Foglalasok szama": "6",
                                    "FEROHELY": "3"
                                },
                                {
                                    "SZOBA_ID": "37",
                                    "Foglalasok szama": "3",
                                    "FEROHELY": "2"
                                },
                                {
                                    "SZOBA_ID": "38",
                                    "Foglalasok szama": "8",
                                    "FEROHELY": "2"
                                },
                                {
                                    "SZOBA_ID": "39",
                                    "Foglalasok szama": "7",
                                    "FEROHELY": "2"
                                },
                                {
                                    "SZOBA_ID": "40",
                                    "Foglalasok szama": "4",
                                    "FEROHELY": "3"
                                },
                                {
                                    "SZOBA_ID": "41",
                                    "Foglalasok szama": "2",
                                    "FEROHELY": "3"
                                },
                                {
                                    "SZOBA_ID": "42",
                                    "Foglalasok szama": "6",
                                    "FEROHELY": "2"
                                },
                                {
                                    "SZOBA_ID": "43",
                                    "Foglalasok szama": "8",
                                    "FEROHELY": "3"
                                },
                                {
                                    "SZOBA_ID": "44",
                                    "Foglalasok szama": "6",
                                    "FEROHELY": "3"
                                },
                                {
                                    "SZOBA_ID": "45",
                                    "Foglalasok szama": "5",
                                    "FEROHELY": "2"
                                },
                                {
                                    "SZOBA_ID": "46",
                                    "Foglalasok szama": "4",
                                    "FEROHELY": "3"
                                },
                                {
                                    "SZOBA_ID": "47",
                                    "Foglalasok szama": "2",
                                    "FEROHELY": "2"
                                },
                                {
                                    "SZOBA_ID": "48",
                                    "Foglalasok szama": "9",
                                    "FEROHELY": "3"
                                },
                                {
                                    "SZOBA_ID": "49",
                                    "Foglalasok szama": "7",
                                    "FEROHELY": "3"
                                },
                                {
                                    "SZOBA_ID": "50",
                                    "Foglalasok szama": "4",
                                    "FEROHELY": "2"
                                },
                                {
                                    "SZOBA_ID": "51",
                                    "Foglalasok szama": "5",
                                    "FEROHELY": "3"
                                },
                                {
                                    "SZOBA_ID": "52",
                                    "Foglalasok szama": "5",
                                    "FEROHELY": "2"
                                },
                                {
                                    "SZOBA_ID": "53",
                                    "Foglalasok szama": "2",
                                    "FEROHELY": "2"
                                },
                                {
                                    "SZOBA_ID": "54",
                                    "Foglalasok szama": "6",
                                    "FEROHELY": "3"
                                },
                                {
                                    "SZOBA_ID": "55",
                                    "Foglalasok szama": "8",
                                    "FEROHELY": "2"
                                },
                                {
                                    "SZOBA_ID": "56",
                                    "Foglalasok szama": "2",
                                    "FEROHELY": "2"
                                },
                                {
                                    "SZOBA_ID": "57",
                                    "Foglalasok szama": "4",
                                    "FEROHELY": "2"
                                },
                                {
                                    "SZOBA_ID": "58",
                                    "Foglalasok szama": "13",
                                    "FEROHELY": "2"
                                },
                                {
                                    "SZOBA_ID": "59",
                                    "Foglalasok szama": "7",
                                    "FEROHELY": "2"
                                },
                                {
                                    "SZOBA_ID": "60",
                                    "Foglalasok szama": "1",
                                    "FEROHELY": "3"
                                },
                                {
                                    "SZOBA_ID": "61",
                                    "Foglalasok szama": "5",
                                    "FEROHELY": "3"
                                },
                                {
                                    "SZOBA_ID": "62",
                                    "Foglalasok szama": "5",
                                    "FEROHELY": "2"
                                },
                                {
                                    "SZOBA_ID": "63",
                                    "Foglalasok szama": "4",
                                    "FEROHELY": "2"
                                },
                                {
                                    "SZOBA_ID": "64",
                                    "Foglalasok szama": "6",
                                    "FEROHELY": "2"
                                },
                                {
                                    "SZOBA_ID": "65",
                                    "Foglalasok szama": "1",
                                    "FEROHELY": "2"
                                },
                                {
                                    "SZOBA_ID": "66",
                                    "Foglalasok szama": "4",
                                    "FEROHELY": "3"
                                },
                                {
                                    "SZOBA_ID": "67",
                                    "Foglalasok szama": "6",
                                    "FEROHELY": "2"
                                },
                                {
                                    "SZOBA_ID": "68",
                                    "Foglalasok szama": "3",
                                    "FEROHELY": "2"
                                },
                                {
                                    "SZOBA_ID": "69",
                                    "Foglalasok szama": "4",
                                    "FEROHELY": "3"
                                },
                                {
                                    "SZOBA_ID": "70",
                                    "Foglalasok szama": "11",
                                    "FEROHELY": "2"
                                },
                                {
                                    "SZOBA_ID": "71",
                                    "Foglalasok szama": "3",
                                    "FEROHELY": "3"
                                },
                                {
                                    "SZOBA_ID": "72",
                                    "Foglalasok szama": "4",
                                    "FEROHELY": "2"
                                },
                                {
                                    "SZOBA_ID": "73",
                                    "Foglalasok szama": "4",
                                    "FEROHELY": "2"
                                },
                                {
                                    "SZOBA_ID": "74",
                                    "Foglalasok szama": "9",
                                    "FEROHELY": "3"
                                },
                                {
                                    "SZOBA_ID": "75",
                                    "Foglalasok szama": "3",
                                    "FEROHELY": "2"
                                },
                                {
                                    "SZOBA_ID": "76",
                                    "Foglalasok szama": "3",
                                    "FEROHELY": "2"
                                },
                                {
                                    "SZOBA_ID": "77",
                                    "Foglalasok szama": "6",
                                    "FEROHELY": "3"
                                },
                                {
                                    "SZOBA_ID": "78",
                                    "Foglalasok szama": "6",
                                    "FEROHELY": "2"
                                },
                                {
                                    "SZOBA_ID": "79",
                                    "Foglalasok szama": "5",
                                    "FEROHELY": "3"
                                },
                                {
                                    "SZOBA_ID": "80",
                                    "Foglalasok szama": "7",
                                    "FEROHELY": "2"
                                },
                                {
                                    "SZOBA_ID": "81",
                                    "Foglalasok szama": "5",
                                    "FEROHELY": "2"
                                },
                                {
                                    "SZOBA_ID": "82",
                                    "Foglalasok szama": "6",
                                    "FEROHELY": "3"
                                },
                                {
                                    "SZOBA_ID": "83",
                                    "Foglalasok szama": "8",
                                    "FEROHELY": "3"
                                },
                                {
                                    "SZOBA_ID": "84",
                                    "Foglalasok szama": "4",
                                    "FEROHELY": "3"
                                },
                                {
                                    "SZOBA_ID": "85",
                                    "Foglalasok szama": "4",
                                    "FEROHELY": "2"
                                },
                                {
                                    "SZOBA_ID": "86",
                                    "Foglalasok szama": "5",
                                    "FEROHELY": "2"
                                },
                                {
                                    "SZOBA_ID": "87",
                                    "Foglalasok szama": "5",
                                    "FEROHELY": "3"
                                },
                                {
                                    "SZOBA_ID": "88",
                                    "Foglalasok szama": "8",
                                    "FEROHELY": "3"
                                },
                                {
                                    "SZOBA_ID": "89",
                                    "Foglalasok szama": "8",
                                    "FEROHELY": "3"
                                },
                                {
                                    "SZOBA_ID": "90",
                                    "Foglalasok szama": "4",
                                    "FEROHELY": "3"
                                },
                                {
                                    "SZOBA_ID": "91",
                                    "Foglalasok szama": "4",
                                    "FEROHELY": "2"
                                },
                                {
                                    "SZOBA_ID": "92",
                                    "Foglalasok szama": "6",
                                    "FEROHELY": "3"
                                },
                                {
                                    "SZOBA_ID": "93",
                                    "Foglalasok szama": "5",
                                    "FEROHELY": "3"
                                },
                                {
                                    "SZOBA_ID": "94",
                                    "Foglalasok szama": "10",
                                    "FEROHELY": "2"
                                },
                                {
                                    "SZOBA_ID": "95",
                                    "Foglalasok szama": "4",
                                    "FEROHELY": "3"
                                },
                                {
                                    "SZOBA_ID": "96",
                                    "Foglalasok szama": "7",
                                    "FEROHELY": "3"
                                },
                                {
                                    "SZOBA_ID": "97",
                                    "Foglalasok szama": "7",
                                    "FEROHELY": "3"
                                },
                                {
                                    "SZOBA_ID": "98",
                                    "Foglalasok szama": "4",
                                    "FEROHELY": "2"
                                },
                                {
                                    "SZOBA_ID": "99",
                                    "Foglalasok szama": "5",
                                    "FEROHELY": "2"
                                },
                                {
                                    "SZOBA_ID": "100",
                                    "Foglalasok szama": "4",
                                    "FEROHELY": "2"
                                },
                                {
                                    "SZOBA_ID": "101",
                                    "Foglalasok szama": "3",
                                    "FEROHELY": "2"
                                },
                                {
                                    "SZOBA_ID": "102",
                                    "Foglalasok szama": "2",
                                    "FEROHELY": "2"
                                },
                                {
                                    "SZOBA_ID": "103",
                                    "Foglalasok szama": "4",
                                    "FEROHELY": "2"
                                },
                                {
                                    "SZOBA_ID": "104",
                                    "Foglalasok szama": "4",
                                    "FEROHELY": "3"
                                },
                                {
                                    "SZOBA_ID": "105",
                                    "Foglalasok szama": "2",
                                    "FEROHELY": "2"
                                },
                                {
                                    "SZOBA_ID": "106",
                                    "Foglalasok szama": "6",
                                    "FEROHELY": "2"
                                },
                                {
                                    "SZOBA_ID": "107",
                                    "Foglalasok szama": "5",
                                    "FEROHELY": "2"
                                },
                                {
                                    "SZOBA_ID": "108",
                                    "Foglalasok szama": "2",
                                    "FEROHELY": "2"
                                },
                                {
                                    "SZOBA_ID": "109",
                                    "Foglalasok szama": "7",
                                    "FEROHELY": "2"
                                },
                                {
                                    "SZOBA_ID": "110",
                                    "Foglalasok szama": "8",
                                    "FEROHELY": "2"
                                },
                                {
                                    "SZOBA_ID": "111",
                                    "Foglalasok szama": "5",
                                    "FEROHELY": "2"
                                },
                                {
                                    "SZOBA_ID": "112",
                                    "Foglalasok szama": "5",
                                    "FEROHELY": "3"
                                },
                                {
                                    "SZOBA_ID": "113",
                                    "Foglalasok szama": "5",
                                    "FEROHELY": "3"
                                },
                                {
                                    "SZOBA_ID": "114",
                                    "Foglalasok szama": "4",
                                    "FEROHELY": "2"
                                },
                                {
                                    "SZOBA_ID": "115",
                                    "Foglalasok szama": "7",
                                    "FEROHELY": "3"
                                },
                                {
                                    "SZOBA_ID": "116",
                                    "Foglalasok szama": "2",
                                    "FEROHELY": "3"
                                },
                                {
                                    "SZOBA_ID": "117",
                                    "Foglalasok szama": "8",
                                    "FEROHELY": "3"
                                },
                                {
                                    "SZOBA_ID": "118",
                                    "Foglalasok szama": "7",
                                    "FEROHELY": "2"
                                },
                                {
                                    "SZOBA_ID": "119",
                                    "Foglalasok szama": "5",
                                    "FEROHELY": "2"
                                },
                                {
                                    "SZOBA_ID": "120",
                                    "Foglalasok szama": "6",
                                    "FEROHELY": "3"
                                },
                                {
                                    "SZOBA_ID": "121",
                                    "Foglalasok szama": "8",
                                    "FEROHELY": "2"
                                },
                                {
                                    "SZOBA_ID": "122",
                                    "Foglalasok szama": "9",
                                    "FEROHELY": "3"
                                },
                                {
                                    "SZOBA_ID": "123",
                                    "Foglalasok szama": "5",
                                    "FEROHELY": "3"
                                },
                                {
                                    "SZOBA_ID": "124",
                                    "Foglalasok szama": "6",
                                    "FEROHELY": "3"
                                },
                                {
                                    "SZOBA_ID": "125",
                                    "Foglalasok szama": "1",
                                    "FEROHELY": "2"
                                },
                                {
                                    "SZOBA_ID": "126",
                                    "Foglalasok szama": "6",
                                    "FEROHELY": "2"
                                },
                                {
                                    "SZOBA_ID": "127",
                                    "Foglalasok szama": "7",
                                    "FEROHELY": "2"
                                },
                                {
                                    "SZOBA_ID": "128",
                                    "Foglalasok szama": "5",
                                    "FEROHELY": "2"
                                },
                                {
                                    "SZOBA_ID": "129",
                                    "Foglalasok szama": "4",
                                    "FEROHELY": "2"
                                },
                                {
                                    "SZOBA_ID": "130",
                                    "Foglalasok szama": "6",
                                    "FEROHELY": "2"
                                },
                                {
                                    "SZOBA_ID": "131",
                                    "Foglalasok szama": "5",
                                    "FEROHELY": "2"
                                },
                                {
                                    "SZOBA_ID": "132",
                                    "Foglalasok szama": "6",
                                    "FEROHELY": "3"
                                },
                                {
                                    "SZOBA_ID": "133",
                                    "Foglalasok szama": "6",
                                    "FEROHELY": "3"
                                },
                                {
                                    "SZOBA_ID": "134",
                                    "Foglalasok szama": "6",
                                    "FEROHELY": "3"
                                },
                                {
                                    "SZOBA_ID": "135",
                                    "Foglalasok szama": "3",
                                    "FEROHELY": "3"
                                },
                                {
                                    "SZOBA_ID": "136",
                                    "Foglalasok szama": "3",
                                    "FEROHELY": "2"
                                },
                                {
                                    "SZOBA_ID": "137",
                                    "Foglalasok szama": "6",
                                    "FEROHELY": "2"
                                },
                                {
                                    "SZOBA_ID": "138",
                                    "Foglalasok szama": "7",
                                    "FEROHELY": "3"
                                },
                                {
                                    "SZOBA_ID": "139",
                                    "Foglalasok szama": "7",
                                    "FEROHELY": "2"
                                },
                                {
                                    "SZOBA_ID": "140",
                                    "Foglalasok szama": "8",
                                    "FEROHELY": "2"
                                },
                                {
                                    "SZOBA_ID": "141",
                                    "Foglalasok szama": "6",
                                    "FEROHELY": "2"
                                },
                                {
                                    "SZOBA_ID": "142",
                                    "Foglalasok szama": "2",
                                    "FEROHELY": "3"
                                },
                                {
                                    "SZOBA_ID": "143",
                                    "Foglalasok szama": "7",
                                    "FEROHELY": "3"
                                },
                                {
                                    "SZOBA_ID": "144",
                                    "Foglalasok szama": "5",
                                    "FEROHELY": "3"
                                },
                                {
                                    "SZOBA_ID": "145",
                                    "Foglalasok szama": "6",
                                    "FEROHELY": "2"
                                },
                                {
                                    "SZOBA_ID": "146",
                                    "Foglalasok szama": "6",
                                    "FEROHELY": "3"
                                },
                                {
                                    "SZOBA_ID": "147",
                                    "Foglalasok szama": "1",
                                    "FEROHELY": "2"
                                },
                                {
                                    "SZOBA_ID": "148",
                                    "Foglalasok szama": "6",
                                    "FEROHELY": "2"
                                },
                                {
                                    "SZOBA_ID": "149",
                                    "Foglalasok szama": "7",
                                    "FEROHELY": "2"
                                },
                                {
                                    "SZOBA_ID": "150",
                                    "Foglalasok szama": "6",
                                    "FEROHELY": "2"
                                },
                                {
                                    "SZOBA_ID": "151",
                                    "Foglalasok szama": "3",
                                    "FEROHELY": "2"
                                },
                                {
                                    "SZOBA_ID": "152",
                                    "Foglalasok szama": "4",
                                    "FEROHELY": "2"
                                },
                                {
                                    "SZOBA_ID": "153",
                                    "Foglalasok szama": "5",
                                    "FEROHELY": "3"
                                },
                                {
                                    "SZOBA_ID": "154",
                                    "Foglalasok szama": "5",
                                    "FEROHELY": "2"
                                },
                                {
                                    "SZOBA_ID": "155",
                                    "Foglalasok szama": "5",
                                    "FEROHELY": "3"
                                },
                                {
                                    "SZOBA_ID": "156",
                                    "Foglalasok szama": "7",
                                    "FEROHELY": "2"
                                },
                                {
                                    "SZOBA_ID": "157",
                                    "Foglalasok szama": "5",
                                    "FEROHELY": "2"
                                },
                                {
                                    "SZOBA_ID": "158",
                                    "Foglalasok szama": "3",
                                    "FEROHELY": "2"
                                },
                                {
                                    "SZOBA_ID": "160",
                                    "Foglalasok szama": "5",
                                    "FEROHELY": "3"
                                },
                                {
                                    "SZOBA_ID": "161",
                                    "Foglalasok szama": "6",
                                    "FEROHELY": "2"
                                },
                                {
                                    "SZOBA_ID": "162",
                                    "Foglalasok szama": "3",
                                    "FEROHELY": "3"
                                },
                                {
                                    "SZOBA_ID": "163",
                                    "Foglalasok szama": "7",
                                    "FEROHELY": "2"
                                },
                                {
                                    "SZOBA_ID": "164",
                                    "Foglalasok szama": "5",
                                    "FEROHELY": "2"
                                },
                                {
                                    "SZOBA_ID": "165",
                                    "Foglalasok szama": "7",
                                    "FEROHELY": "2"
                                },
                                {
                                    "SZOBA_ID": "166",
                                    "Foglalasok szama": "3",
                                    "FEROHELY": "2"
                                },
                                {
                                    "SZOBA_ID": "167",
                                    "Foglalasok szama": "2",
                                    "FEROHELY": "3"
                                },
                                {
                                    "SZOBA_ID": "168",
                                    "Foglalasok szama": "5",
                                    "FEROHELY": "2"
                                },
                                {
                                    "SZOBA_ID": "169",
                                    "Foglalasok szama": "6",
                                    "FEROHELY": "2"
                                },
                                {
                                    "SZOBA_ID": "170",
                                    "Foglalasok szama": "5",
                                    "FEROHELY": "2"
                                },
                                {
                                    "SZOBA_ID": "171",
                                    "Foglalasok szama": "5",
                                    "FEROHELY": "2"
                                },
                                {
                                    "SZOBA_ID": "172",
                                    "Foglalasok szama": "9",
                                    "FEROHELY": "2"
                                },
                                {
                                    "SZOBA_ID": "173",
                                    "Foglalasok szama": "4",
                                    "FEROHELY": "2"
                                },
                                {
                                    "SZOBA_ID": "174",
                                    "Foglalasok szama": "4",
                                    "FEROHELY": "2"
                                },
                                {
                                    "SZOBA_ID": "175",
                                    "Foglalasok szama": "5",
                                    "FEROHELY": "2"
                                },
                                {
                                    "SZOBA_ID": "176",
                                    "Foglalasok szama": "6",
                                    "FEROHELY": "3"
                                },
                                {
                                    "SZOBA_ID": "177",
                                    "Foglalasok szama": "4",
                                    "FEROHELY": "3"
                                },
                                {
                                    "SZOBA_ID": "178",
                                    "Foglalasok szama": "4",
                                    "FEROHELY": "3"
                                },
                                {
                                    "SZOBA_ID": "179",
                                    "Foglalasok szama": "3",
                                    "FEROHELY": "3"
                                },
                                {
                                    "SZOBA_ID": "180",
                                    "Foglalasok szama": "3",
                                    "FEROHELY": "2"
                                },
                                {
                                    "SZOBA_ID": "181",
                                    "Foglalasok szama": "6",
                                    "FEROHELY": "3"
                                },
                                {
                                    "SZOBA_ID": "182",
                                    "Foglalasok szama": "12",
                                    "FEROHELY": "2"
                                },
                                {
                                    "SZOBA_ID": "183",
                                    "Foglalasok szama": "4",
                                    "FEROHELY": "3"
                                },
                                {
                                    "SZOBA_ID": "184",
                                    "Foglalasok szama": "4",
                                    "FEROHELY": "2"
                                },
                                {
                                    "SZOBA_ID": "185",
                                    "Foglalasok szama": "12",
                                    "FEROHELY": "3"
                                },
                                {
                                    "SZOBA_ID": "186",
                                    "Foglalasok szama": "4",
                                    "FEROHELY": "2"
                                },
                                {
                                    "SZOBA_ID": "187",
                                    "Foglalasok szama": "7",
                                    "FEROHELY": "3"
                                },
                                {
                                    "SZOBA_ID": "188",
                                    "Foglalasok szama": "6",
                                    "FEROHELY": "3"
                                },
                                {
                                    "SZOBA_ID": "189",
                                    "Foglalasok szama": "5",
                                    "FEROHELY": "2"
                                },
                                {
                                    "SZOBA_ID": "190",
                                    "Foglalasok szama": "5",
                                    "FEROHELY": "2"
                                },
                                {
                                    "SZOBA_ID": "191",
                                    "Foglalasok szama": "5",
                                    "FEROHELY": "2"
                                },
                                {
                                    "SZOBA_ID": "192",
                                    "Foglalasok szama": "2",
                                    "FEROHELY": "2"
                                },
                                {
                                    "SZOBA_ID": "193",
                                    "Foglalasok szama": "7",
                                    "FEROHELY": "3"
                                },
                                {
                                    "SZOBA_ID": "194",
                                    "Foglalasok szama": "1",
                                    "FEROHELY": "2"
                                },
                                {
                                    "SZOBA_ID": "195",
                                    "Foglalasok szama": "6",
                                    "FEROHELY": "2"
                                },
                                {
                                    "SZOBA_ID": "196",
                                    "Foglalasok szama": "4",
                                    "FEROHELY": "2"
                                },
                                {
                                    "SZOBA_ID": "197",
                                    "Foglalasok szama": "6",
                                    "FEROHELY": "3"
                                },
                                {
                                    "SZOBA_ID": "198",
                                    "Foglalasok szama": "8",
                                    "FEROHELY": "3"
                                }
                            ]
                        },
                        "text/html": [
                            "<table>",
                            "<tr><th>SZOBA_ID</th><th>Foglalasok szama</th><th>FEROHELY</th></tr>",
                            "<tr><td>1</td><td>8</td><td>3</td></tr>",
                            "<tr><td>2</td><td>4</td><td>3</td></tr>",
                            "<tr><td>3</td><td>8</td><td>3</td></tr>",
                            "<tr><td>4</td><td>6</td><td>2</td></tr>",
                            "<tr><td>5</td><td>4</td><td>2</td></tr>",
                            "<tr><td>6</td><td>6</td><td>3</td></tr>",
                            "<tr><td>7</td><td>6</td><td>2</td></tr>",
                            "<tr><td>8</td><td>5</td><td>3</td></tr>",
                            "<tr><td>9</td><td>6</td><td>3</td></tr>",
                            "<tr><td>10</td><td>4</td><td>3</td></tr>",
                            "<tr><td>11</td><td>4</td><td>2</td></tr>",
                            "<tr><td>12</td><td>9</td><td>2</td></tr>",
                            "<tr><td>13</td><td>4</td><td>3</td></tr>",
                            "<tr><td>14</td><td>3</td><td>3</td></tr>",
                            "<tr><td>15</td><td>6</td><td>2</td></tr>",
                            "<tr><td>16</td><td>5</td><td>3</td></tr>",
                            "<tr><td>17</td><td>6</td><td>3</td></tr>",
                            "<tr><td>18</td><td>6</td><td>3</td></tr>",
                            "<tr><td>19</td><td>6</td><td>2</td></tr>",
                            "<tr><td>20</td><td>5</td><td>3</td></tr>",
                            "<tr><td>21</td><td>4</td><td>2</td></tr>",
                            "<tr><td>22</td><td>6</td><td>3</td></tr>",
                            "<tr><td>23</td><td>3</td><td>2</td></tr>",
                            "<tr><td>24</td><td>3</td><td>4</td></tr>",
                            "<tr><td>25</td><td>2</td><td>3</td></tr>",
                            "<tr><td>26</td><td>2</td><td>2</td></tr>",
                            "<tr><td>27</td><td>7</td><td>3</td></tr>",
                            "<tr><td>28</td><td>6</td><td>2</td></tr>",
                            "<tr><td>29</td><td>6</td><td>2</td></tr>",
                            "<tr><td>30</td><td>3</td><td>3</td></tr>",
                            "<tr><td>31</td><td>3</td><td>3</td></tr>",
                            "<tr><td>32</td><td>1</td><td>2</td></tr>",
                            "<tr><td>33</td><td>6</td><td>2</td></tr>",
                            "<tr><td>34</td><td>4</td><td>3</td></tr>",
                            "<tr><td>35</td><td>9</td><td>3</td></tr>",
                            "<tr><td>36</td><td>6</td><td>3</td></tr>",
                            "<tr><td>37</td><td>3</td><td>2</td></tr>",
                            "<tr><td>38</td><td>8</td><td>2</td></tr>",
                            "<tr><td>39</td><td>7</td><td>2</td></tr>",
                            "<tr><td>40</td><td>4</td><td>3</td></tr>",
                            "<tr><td>41</td><td>2</td><td>3</td></tr>",
                            "<tr><td>42</td><td>6</td><td>2</td></tr>",
                            "<tr><td>43</td><td>8</td><td>3</td></tr>",
                            "<tr><td>44</td><td>6</td><td>3</td></tr>",
                            "<tr><td>45</td><td>5</td><td>2</td></tr>",
                            "<tr><td>46</td><td>4</td><td>3</td></tr>",
                            "<tr><td>47</td><td>2</td><td>2</td></tr>",
                            "<tr><td>48</td><td>9</td><td>3</td></tr>",
                            "<tr><td>49</td><td>7</td><td>3</td></tr>",
                            "<tr><td>50</td><td>4</td><td>2</td></tr>",
                            "<tr><td>51</td><td>5</td><td>3</td></tr>",
                            "<tr><td>52</td><td>5</td><td>2</td></tr>",
                            "<tr><td>53</td><td>2</td><td>2</td></tr>",
                            "<tr><td>54</td><td>6</td><td>3</td></tr>",
                            "<tr><td>55</td><td>8</td><td>2</td></tr>",
                            "<tr><td>56</td><td>2</td><td>2</td></tr>",
                            "<tr><td>57</td><td>4</td><td>2</td></tr>",
                            "<tr><td>58</td><td>13</td><td>2</td></tr>",
                            "<tr><td>59</td><td>7</td><td>2</td></tr>",
                            "<tr><td>60</td><td>1</td><td>3</td></tr>",
                            "<tr><td>61</td><td>5</td><td>3</td></tr>",
                            "<tr><td>62</td><td>5</td><td>2</td></tr>",
                            "<tr><td>63</td><td>4</td><td>2</td></tr>",
                            "<tr><td>64</td><td>6</td><td>2</td></tr>",
                            "<tr><td>65</td><td>1</td><td>2</td></tr>",
                            "<tr><td>66</td><td>4</td><td>3</td></tr>",
                            "<tr><td>67</td><td>6</td><td>2</td></tr>",
                            "<tr><td>68</td><td>3</td><td>2</td></tr>",
                            "<tr><td>69</td><td>4</td><td>3</td></tr>",
                            "<tr><td>70</td><td>11</td><td>2</td></tr>",
                            "<tr><td>71</td><td>3</td><td>3</td></tr>",
                            "<tr><td>72</td><td>4</td><td>2</td></tr>",
                            "<tr><td>73</td><td>4</td><td>2</td></tr>",
                            "<tr><td>74</td><td>9</td><td>3</td></tr>",
                            "<tr><td>75</td><td>3</td><td>2</td></tr>",
                            "<tr><td>76</td><td>3</td><td>2</td></tr>",
                            "<tr><td>77</td><td>6</td><td>3</td></tr>",
                            "<tr><td>78</td><td>6</td><td>2</td></tr>",
                            "<tr><td>79</td><td>5</td><td>3</td></tr>",
                            "<tr><td>80</td><td>7</td><td>2</td></tr>",
                            "<tr><td>81</td><td>5</td><td>2</td></tr>",
                            "<tr><td>82</td><td>6</td><td>3</td></tr>",
                            "<tr><td>83</td><td>8</td><td>3</td></tr>",
                            "<tr><td>84</td><td>4</td><td>3</td></tr>",
                            "<tr><td>85</td><td>4</td><td>2</td></tr>",
                            "<tr><td>86</td><td>5</td><td>2</td></tr>",
                            "<tr><td>87</td><td>5</td><td>3</td></tr>",
                            "<tr><td>88</td><td>8</td><td>3</td></tr>",
                            "<tr><td>89</td><td>8</td><td>3</td></tr>",
                            "<tr><td>90</td><td>4</td><td>3</td></tr>",
                            "<tr><td>91</td><td>4</td><td>2</td></tr>",
                            "<tr><td>92</td><td>6</td><td>3</td></tr>",
                            "<tr><td>93</td><td>5</td><td>3</td></tr>",
                            "<tr><td>94</td><td>10</td><td>2</td></tr>",
                            "<tr><td>95</td><td>4</td><td>3</td></tr>",
                            "<tr><td>96</td><td>7</td><td>3</td></tr>",
                            "<tr><td>97</td><td>7</td><td>3</td></tr>",
                            "<tr><td>98</td><td>4</td><td>2</td></tr>",
                            "<tr><td>99</td><td>5</td><td>2</td></tr>",
                            "<tr><td>100</td><td>4</td><td>2</td></tr>",
                            "<tr><td>101</td><td>3</td><td>2</td></tr>",
                            "<tr><td>102</td><td>2</td><td>2</td></tr>",
                            "<tr><td>103</td><td>4</td><td>2</td></tr>",
                            "<tr><td>104</td><td>4</td><td>3</td></tr>",
                            "<tr><td>105</td><td>2</td><td>2</td></tr>",
                            "<tr><td>106</td><td>6</td><td>2</td></tr>",
                            "<tr><td>107</td><td>5</td><td>2</td></tr>",
                            "<tr><td>108</td><td>2</td><td>2</td></tr>",
                            "<tr><td>109</td><td>7</td><td>2</td></tr>",
                            "<tr><td>110</td><td>8</td><td>2</td></tr>",
                            "<tr><td>111</td><td>5</td><td>2</td></tr>",
                            "<tr><td>112</td><td>5</td><td>3</td></tr>",
                            "<tr><td>113</td><td>5</td><td>3</td></tr>",
                            "<tr><td>114</td><td>4</td><td>2</td></tr>",
                            "<tr><td>115</td><td>7</td><td>3</td></tr>",
                            "<tr><td>116</td><td>2</td><td>3</td></tr>",
                            "<tr><td>117</td><td>8</td><td>3</td></tr>",
                            "<tr><td>118</td><td>7</td><td>2</td></tr>",
                            "<tr><td>119</td><td>5</td><td>2</td></tr>",
                            "<tr><td>120</td><td>6</td><td>3</td></tr>",
                            "<tr><td>121</td><td>8</td><td>2</td></tr>",
                            "<tr><td>122</td><td>9</td><td>3</td></tr>",
                            "<tr><td>123</td><td>5</td><td>3</td></tr>",
                            "<tr><td>124</td><td>6</td><td>3</td></tr>",
                            "<tr><td>125</td><td>1</td><td>2</td></tr>",
                            "<tr><td>126</td><td>6</td><td>2</td></tr>",
                            "<tr><td>127</td><td>7</td><td>2</td></tr>",
                            "<tr><td>128</td><td>5</td><td>2</td></tr>",
                            "<tr><td>129</td><td>4</td><td>2</td></tr>",
                            "<tr><td>130</td><td>6</td><td>2</td></tr>",
                            "<tr><td>131</td><td>5</td><td>2</td></tr>",
                            "<tr><td>132</td><td>6</td><td>3</td></tr>",
                            "<tr><td>133</td><td>6</td><td>3</td></tr>",
                            "<tr><td>134</td><td>6</td><td>3</td></tr>",
                            "<tr><td>135</td><td>3</td><td>3</td></tr>",
                            "<tr><td>136</td><td>3</td><td>2</td></tr>",
                            "<tr><td>137</td><td>6</td><td>2</td></tr>",
                            "<tr><td>138</td><td>7</td><td>3</td></tr>",
                            "<tr><td>139</td><td>7</td><td>2</td></tr>",
                            "<tr><td>140</td><td>8</td><td>2</td></tr>",
                            "<tr><td>141</td><td>6</td><td>2</td></tr>",
                            "<tr><td>142</td><td>2</td><td>3</td></tr>",
                            "<tr><td>143</td><td>7</td><td>3</td></tr>",
                            "<tr><td>144</td><td>5</td><td>3</td></tr>",
                            "<tr><td>145</td><td>6</td><td>2</td></tr>",
                            "<tr><td>146</td><td>6</td><td>3</td></tr>",
                            "<tr><td>147</td><td>1</td><td>2</td></tr>",
                            "<tr><td>148</td><td>6</td><td>2</td></tr>",
                            "<tr><td>149</td><td>7</td><td>2</td></tr>",
                            "<tr><td>150</td><td>6</td><td>2</td></tr>",
                            "<tr><td>151</td><td>3</td><td>2</td></tr>",
                            "<tr><td>152</td><td>4</td><td>2</td></tr>",
                            "<tr><td>153</td><td>5</td><td>3</td></tr>",
                            "<tr><td>154</td><td>5</td><td>2</td></tr>",
                            "<tr><td>155</td><td>5</td><td>3</td></tr>",
                            "<tr><td>156</td><td>7</td><td>2</td></tr>",
                            "<tr><td>157</td><td>5</td><td>2</td></tr>",
                            "<tr><td>158</td><td>3</td><td>2</td></tr>",
                            "<tr><td>160</td><td>5</td><td>3</td></tr>",
                            "<tr><td>161</td><td>6</td><td>2</td></tr>",
                            "<tr><td>162</td><td>3</td><td>3</td></tr>",
                            "<tr><td>163</td><td>7</td><td>2</td></tr>",
                            "<tr><td>164</td><td>5</td><td>2</td></tr>",
                            "<tr><td>165</td><td>7</td><td>2</td></tr>",
                            "<tr><td>166</td><td>3</td><td>2</td></tr>",
                            "<tr><td>167</td><td>2</td><td>3</td></tr>",
                            "<tr><td>168</td><td>5</td><td>2</td></tr>",
                            "<tr><td>169</td><td>6</td><td>2</td></tr>",
                            "<tr><td>170</td><td>5</td><td>2</td></tr>",
                            "<tr><td>171</td><td>5</td><td>2</td></tr>",
                            "<tr><td>172</td><td>9</td><td>2</td></tr>",
                            "<tr><td>173</td><td>4</td><td>2</td></tr>",
                            "<tr><td>174</td><td>4</td><td>2</td></tr>",
                            "<tr><td>175</td><td>5</td><td>2</td></tr>",
                            "<tr><td>176</td><td>6</td><td>3</td></tr>",
                            "<tr><td>177</td><td>4</td><td>3</td></tr>",
                            "<tr><td>178</td><td>4</td><td>3</td></tr>",
                            "<tr><td>179</td><td>3</td><td>3</td></tr>",
                            "<tr><td>180</td><td>3</td><td>2</td></tr>",
                            "<tr><td>181</td><td>6</td><td>3</td></tr>",
                            "<tr><td>182</td><td>12</td><td>2</td></tr>",
                            "<tr><td>183</td><td>4</td><td>3</td></tr>",
                            "<tr><td>184</td><td>4</td><td>2</td></tr>",
                            "<tr><td>185</td><td>12</td><td>3</td></tr>",
                            "<tr><td>186</td><td>4</td><td>2</td></tr>",
                            "<tr><td>187</td><td>7</td><td>3</td></tr>",
                            "<tr><td>188</td><td>6</td><td>3</td></tr>",
                            "<tr><td>189</td><td>5</td><td>2</td></tr>",
                            "<tr><td>190</td><td>5</td><td>2</td></tr>",
                            "<tr><td>191</td><td>5</td><td>2</td></tr>",
                            "<tr><td>192</td><td>2</td><td>2</td></tr>",
                            "<tr><td>193</td><td>7</td><td>3</td></tr>",
                            "<tr><td>194</td><td>1</td><td>2</td></tr>",
                            "<tr><td>195</td><td>6</td><td>2</td></tr>",
                            "<tr><td>196</td><td>4</td><td>2</td></tr>",
                            "<tr><td>197</td><td>6</td><td>3</td></tr>",
                            "<tr><td>198</td><td>8</td><td>3</td></tr>",
                            "</table>"
                        ]
                    }
                }
            ],
            "execution_count": 31
        },
        {
            "cell_type": "markdown",
            "source": [
                ""
            ],
            "metadata": {
                "azdata_cell_guid": "12fb75d1-ed2a-4f9f-bbe3-f79be405f17a"
            }
        },
        {
            "cell_type": "code",
            "source": [
                ""
            ],
            "metadata": {
                "azdata_cell_guid": "b918f4e5-54f3-4468-aa15-a38d9ddb64b7",
                "language": "sql"
            },
            "outputs": [],
            "execution_count": null
        }
    ]
}