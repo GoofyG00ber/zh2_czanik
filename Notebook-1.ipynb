{
    "metadata": {
        "kernelspec": {
            "name": "SQL",
            "display_name": "SQL",
            "language": "sql"
        },
        "language_info": {
            "name": "sql",
            "version": ""
        }
    },
    "nbformat_minor": 2,
    "nbformat": 4,
    "cells": [
        {
            "cell_type": "markdown",
            "source": [
                ""
            ],
            "metadata": {
                "azdata_cell_guid": "58f0c742-46b4-4478-be7d-0648da139f17"
            }
        },
        {
            "cell_type": "code",
            "source": [
                "select IIF(GROUPING_ID(SZOBA_FK) = 1, cast('Végösszeg' as nvarchar(9)), SZOBA_FK) as 'szobaszam', count(*) as 'foglalas darab'\r\n",
                "from Foglalas\r\n",
                "where FELNOTT_SZAM > GYERMEK_SZAM\r\n",
                "group by rollup(SZOBA_FK)"
            ],
            "metadata": {
                "azdata_cell_guid": "9e59e35e-29d0-41e2-974e-3a33734016c9",
                "language": "sql",
                "tags": []
            },
            "outputs": [
                {
                    "output_type": "display_data",
                    "data": {
                        "text/html": "Total execution time: 00:00:00.010"
                    },
                    "metadata": {}
                },
                {
                    "output_type": "execute_result",
                    "metadata": {},
                    "execution_count": 36,
                    "data": {
                        "application/vnd.dataresource+json": {
                            "schema": {
                                "fields": [
                                    {
                                        "name": "szobaszam"
                                    },
                                    {
                                        "name": "foglalas darab"
                                    }
                                ]
                            },
                            "data": [
                                {
                                    "szobaszam": "1",
                                    "foglalas darab": "7"
                                },
                                {
                                    "szobaszam": "2",
                                    "foglalas darab": "2"
                                },
                                {
                                    "szobaszam": "3",
                                    "foglalas darab": "3"
                                },
                                {
                                    "szobaszam": "4",
                                    "foglalas darab": "5"
                                },
                                {
                                    "szobaszam": "5",
                                    "foglalas darab": "2"
                                },
                                {
                                    "szobaszam": "6",
                                    "foglalas darab": "5"
                                },
                                {
                                    "szobaszam": "7",
                                    "foglalas darab": "6"
                                },
                                {
                                    "szobaszam": "8",
                                    "foglalas darab": "5"
                                },
                                {
                                    "szobaszam": "9",
                                    "foglalas darab": "4"
                                },
                                {
                                    "szobaszam": "10",
                                    "foglalas darab": "4"
                                },
                                {
                                    "szobaszam": "11",
                                    "foglalas darab": "4"
                                },
                                {
                                    "szobaszam": "12",
                                    "foglalas darab": "7"
                                },
                                {
                                    "szobaszam": "13",
                                    "foglalas darab": "4"
                                },
                                {
                                    "szobaszam": "14",
                                    "foglalas darab": "3"
                                },
                                {
                                    "szobaszam": "15",
                                    "foglalas darab": "4"
                                },
                                {
                                    "szobaszam": "16",
                                    "foglalas darab": "1"
                                },
                                {
                                    "szobaszam": "17",
                                    "foglalas darab": "2"
                                },
                                {
                                    "szobaszam": "18",
                                    "foglalas darab": "3"
                                },
                                {
                                    "szobaszam": "19",
                                    "foglalas darab": "4"
                                },
                                {
                                    "szobaszam": "20",
                                    "foglalas darab": "5"
                                },
                                {
                                    "szobaszam": "21",
                                    "foglalas darab": "1"
                                },
                                {
                                    "szobaszam": "22",
                                    "foglalas darab": "2"
                                },
                                {
                                    "szobaszam": "23",
                                    "foglalas darab": "3"
                                },
                                {
                                    "szobaszam": "24",
                                    "foglalas darab": "3"
                                },
                                {
                                    "szobaszam": "25",
                                    "foglalas darab": "1"
                                },
                                {
                                    "szobaszam": "27",
                                    "foglalas darab": "5"
                                },
                                {
                                    "szobaszam": "28",
                                    "foglalas darab": "5"
                                },
                                {
                                    "szobaszam": "29",
                                    "foglalas darab": "3"
                                },
                                {
                                    "szobaszam": "30",
                                    "foglalas darab": "2"
                                },
                                {
                                    "szobaszam": "31",
                                    "foglalas darab": "1"
                                },
                                {
                                    "szobaszam": "32",
                                    "foglalas darab": "1"
                                },
                                {
                                    "szobaszam": "33",
                                    "foglalas darab": "3"
                                },
                                {
                                    "szobaszam": "34",
                                    "foglalas darab": "3"
                                },
                                {
                                    "szobaszam": "35",
                                    "foglalas darab": "6"
                                },
                                {
                                    "szobaszam": "36",
                                    "foglalas darab": "4"
                                },
                                {
                                    "szobaszam": "37",
                                    "foglalas darab": "2"
                                },
                                {
                                    "szobaszam": "38",
                                    "foglalas darab": "5"
                                },
                                {
                                    "szobaszam": "39",
                                    "foglalas darab": "4"
                                },
                                {
                                    "szobaszam": "40",
                                    "foglalas darab": "3"
                                },
                                {
                                    "szobaszam": "41",
                                    "foglalas darab": "1"
                                },
                                {
                                    "szobaszam": "42",
                                    "foglalas darab": "5"
                                },
                                {
                                    "szobaszam": "43",
                                    "foglalas darab": "4"
                                },
                                {
                                    "szobaszam": "44",
                                    "foglalas darab": "6"
                                },
                                {
                                    "szobaszam": "45",
                                    "foglalas darab": "4"
                                },
                                {
                                    "szobaszam": "46",
                                    "foglalas darab": "3"
                                },
                                {
                                    "szobaszam": "47",
                                    "foglalas darab": "2"
                                },
                                {
                                    "szobaszam": "48",
                                    "foglalas darab": "6"
                                },
                                {
                                    "szobaszam": "49",
                                    "foglalas darab": "5"
                                },
                                {
                                    "szobaszam": "50",
                                    "foglalas darab": "3"
                                },
                                {
                                    "szobaszam": "51",
                                    "foglalas darab": "3"
                                },
                                {
                                    "szobaszam": "52",
                                    "foglalas darab": "5"
                                },
                                {
                                    "szobaszam": "54",
                                    "foglalas darab": "4"
                                },
                                {
                                    "szobaszam": "55",
                                    "foglalas darab": "3"
                                },
                                {
                                    "szobaszam": "56",
                                    "foglalas darab": "1"
                                },
                                {
                                    "szobaszam": "57",
                                    "foglalas darab": "3"
                                },
                                {
                                    "szobaszam": "58",
                                    "foglalas darab": "8"
                                },
                                {
                                    "szobaszam": "59",
                                    "foglalas darab": "4"
                                },
                                {
                                    "szobaszam": "60",
                                    "foglalas darab": "1"
                                },
                                {
                                    "szobaszam": "61",
                                    "foglalas darab": "4"
                                },
                                {
                                    "szobaszam": "62",
                                    "foglalas darab": "3"
                                },
                                {
                                    "szobaszam": "63",
                                    "foglalas darab": "3"
                                },
                                {
                                    "szobaszam": "64",
                                    "foglalas darab": "5"
                                },
                                {
                                    "szobaszam": "66",
                                    "foglalas darab": "3"
                                },
                                {
                                    "szobaszam": "67",
                                    "foglalas darab": "2"
                                },
                                {
                                    "szobaszam": "69",
                                    "foglalas darab": "2"
                                },
                                {
                                    "szobaszam": "70",
                                    "foglalas darab": "8"
                                },
                                {
                                    "szobaszam": "71",
                                    "foglalas darab": "2"
                                },
                                {
                                    "szobaszam": "72",
                                    "foglalas darab": "2"
                                },
                                {
                                    "szobaszam": "73",
                                    "foglalas darab": "4"
                                },
                                {
                                    "szobaszam": "74",
                                    "foglalas darab": "8"
                                },
                                {
                                    "szobaszam": "75",
                                    "foglalas darab": "2"
                                },
                                {
                                    "szobaszam": "76",
                                    "foglalas darab": "2"
                                },
                                {
                                    "szobaszam": "77",
                                    "foglalas darab": "3"
                                },
                                {
                                    "szobaszam": "78",
                                    "foglalas darab": "3"
                                },
                                {
                                    "szobaszam": "79",
                                    "foglalas darab": "4"
                                },
                                {
                                    "szobaszam": "80",
                                    "foglalas darab": "5"
                                },
                                {
                                    "szobaszam": "81",
                                    "foglalas darab": "3"
                                },
                                {
                                    "szobaszam": "82",
                                    "foglalas darab": "5"
                                },
                                {
                                    "szobaszam": "83",
                                    "foglalas darab": "5"
                                },
                                {
                                    "szobaszam": "84",
                                    "foglalas darab": "3"
                                },
                                {
                                    "szobaszam": "85",
                                    "foglalas darab": "2"
                                },
                                {
                                    "szobaszam": "86",
                                    "foglalas darab": "4"
                                },
                                {
                                    "szobaszam": "87",
                                    "foglalas darab": "5"
                                },
                                {
                                    "szobaszam": "88",
                                    "foglalas darab": "5"
                                },
                                {
                                    "szobaszam": "89",
                                    "foglalas darab": "8"
                                },
                                {
                                    "szobaszam": "90",
                                    "foglalas darab": "3"
                                },
                                {
                                    "szobaszam": "91",
                                    "foglalas darab": "2"
                                },
                                {
                                    "szobaszam": "92",
                                    "foglalas darab": "5"
                                },
                                {
                                    "szobaszam": "93",
                                    "foglalas darab": "3"
                                },
                                {
                                    "szobaszam": "94",
                                    "foglalas darab": "6"
                                },
                                {
                                    "szobaszam": "95",
                                    "foglalas darab": "3"
                                },
                                {
                                    "szobaszam": "96",
                                    "foglalas darab": "6"
                                },
                                {
                                    "szobaszam": "97",
                                    "foglalas darab": "5"
                                },
                                {
                                    "szobaszam": "98",
                                    "foglalas darab": "4"
                                },
                                {
                                    "szobaszam": "99",
                                    "foglalas darab": "4"
                                },
                                {
                                    "szobaszam": "100",
                                    "foglalas darab": "2"
                                },
                                {
                                    "szobaszam": "101",
                                    "foglalas darab": "1"
                                },
                                {
                                    "szobaszam": "102",
                                    "foglalas darab": "1"
                                },
                                {
                                    "szobaszam": "103",
                                    "foglalas darab": "1"
                                },
                                {
                                    "szobaszam": "104",
                                    "foglalas darab": "3"
                                },
                                {
                                    "szobaszam": "106",
                                    "foglalas darab": "4"
                                },
                                {
                                    "szobaszam": "107",
                                    "foglalas darab": "4"
                                },
                                {
                                    "szobaszam": "108",
                                    "foglalas darab": "1"
                                },
                                {
                                    "szobaszam": "109",
                                    "foglalas darab": "2"
                                },
                                {
                                    "szobaszam": "110",
                                    "foglalas darab": "5"
                                },
                                {
                                    "szobaszam": "111",
                                    "foglalas darab": "1"
                                },
                                {
                                    "szobaszam": "112",
                                    "foglalas darab": "4"
                                },
                                {
                                    "szobaszam": "113",
                                    "foglalas darab": "2"
                                },
                                {
                                    "szobaszam": "114",
                                    "foglalas darab": "1"
                                },
                                {
                                    "szobaszam": "115",
                                    "foglalas darab": "5"
                                },
                                {
                                    "szobaszam": "117",
                                    "foglalas darab": "4"
                                },
                                {
                                    "szobaszam": "118",
                                    "foglalas darab": "2"
                                },
                                {
                                    "szobaszam": "119",
                                    "foglalas darab": "4"
                                },
                                {
                                    "szobaszam": "120",
                                    "foglalas darab": "2"
                                },
                                {
                                    "szobaszam": "121",
                                    "foglalas darab": "5"
                                },
                                {
                                    "szobaszam": "122",
                                    "foglalas darab": "3"
                                },
                                {
                                    "szobaszam": "123",
                                    "foglalas darab": "5"
                                },
                                {
                                    "szobaszam": "124",
                                    "foglalas darab": "4"
                                },
                                {
                                    "szobaszam": "126",
                                    "foglalas darab": "4"
                                },
                                {
                                    "szobaszam": "127",
                                    "foglalas darab": "5"
                                },
                                {
                                    "szobaszam": "129",
                                    "foglalas darab": "3"
                                },
                                {
                                    "szobaszam": "130",
                                    "foglalas darab": "5"
                                },
                                {
                                    "szobaszam": "131",
                                    "foglalas darab": "4"
                                },
                                {
                                    "szobaszam": "132",
                                    "foglalas darab": "4"
                                },
                                {
                                    "szobaszam": "133",
                                    "foglalas darab": "4"
                                },
                                {
                                    "szobaszam": "134",
                                    "foglalas darab": "4"
                                },
                                {
                                    "szobaszam": "135",
                                    "foglalas darab": "3"
                                },
                                {
                                    "szobaszam": "136",
                                    "foglalas darab": "2"
                                },
                                {
                                    "szobaszam": "137",
                                    "foglalas darab": "2"
                                },
                                {
                                    "szobaszam": "138",
                                    "foglalas darab": "5"
                                },
                                {
                                    "szobaszam": "139",
                                    "foglalas darab": "6"
                                },
                                {
                                    "szobaszam": "140",
                                    "foglalas darab": "5"
                                },
                                {
                                    "szobaszam": "141",
                                    "foglalas darab": "4"
                                },
                                {
                                    "szobaszam": "142",
                                    "foglalas darab": "1"
                                },
                                {
                                    "szobaszam": "143",
                                    "foglalas darab": "5"
                                },
                                {
                                    "szobaszam": "144",
                                    "foglalas darab": "2"
                                },
                                {
                                    "szobaszam": "145",
                                    "foglalas darab": "2"
                                },
                                {
                                    "szobaszam": "146",
                                    "foglalas darab": "3"
                                },
                                {
                                    "szobaszam": "147",
                                    "foglalas darab": "1"
                                },
                                {
                                    "szobaszam": "148",
                                    "foglalas darab": "5"
                                },
                                {
                                    "szobaszam": "149",
                                    "foglalas darab": "5"
                                },
                                {
                                    "szobaszam": "150",
                                    "foglalas darab": "6"
                                },
                                {
                                    "szobaszam": "151",
                                    "foglalas darab": "2"
                                },
                                {
                                    "szobaszam": "152",
                                    "foglalas darab": "3"
                                },
                                {
                                    "szobaszam": "153",
                                    "foglalas darab": "4"
                                },
                                {
                                    "szobaszam": "154",
                                    "foglalas darab": "3"
                                },
                                {
                                    "szobaszam": "155",
                                    "foglalas darab": "3"
                                },
                                {
                                    "szobaszam": "156",
                                    "foglalas darab": "2"
                                },
                                {
                                    "szobaszam": "157",
                                    "foglalas darab": "2"
                                },
                                {
                                    "szobaszam": "158",
                                    "foglalas darab": "3"
                                },
                                {
                                    "szobaszam": "160",
                                    "foglalas darab": "2"
                                },
                                {
                                    "szobaszam": "161",
                                    "foglalas darab": "3"
                                },
                                {
                                    "szobaszam": "162",
                                    "foglalas darab": "2"
                                },
                                {
                                    "szobaszam": "163",
                                    "foglalas darab": "5"
                                },
                                {
                                    "szobaszam": "164",
                                    "foglalas darab": "4"
                                },
                                {
                                    "szobaszam": "165",
                                    "foglalas darab": "5"
                                },
                                {
                                    "szobaszam": "166",
                                    "foglalas darab": "3"
                                },
                                {
                                    "szobaszam": "167",
                                    "foglalas darab": "2"
                                },
                                {
                                    "szobaszam": "168",
                                    "foglalas darab": "1"
                                },
                                {
                                    "szobaszam": "169",
                                    "foglalas darab": "3"
                                },
                                {
                                    "szobaszam": "170",
                                    "foglalas darab": "3"
                                },
                                {
                                    "szobaszam": "171",
                                    "foglalas darab": "5"
                                },
                                {
                                    "szobaszam": "172",
                                    "foglalas darab": "6"
                                },
                                {
                                    "szobaszam": "173",
                                    "foglalas darab": "3"
                                },
                                {
                                    "szobaszam": "174",
                                    "foglalas darab": "4"
                                },
                                {
                                    "szobaszam": "175",
                                    "foglalas darab": "3"
                                },
                                {
                                    "szobaszam": "176",
                                    "foglalas darab": "2"
                                },
                                {
                                    "szobaszam": "177",
                                    "foglalas darab": "1"
                                },
                                {
                                    "szobaszam": "178",
                                    "foglalas darab": "1"
                                },
                                {
                                    "szobaszam": "179",
                                    "foglalas darab": "2"
                                },
                                {
                                    "szobaszam": "180",
                                    "foglalas darab": "1"
                                },
                                {
                                    "szobaszam": "181",
                                    "foglalas darab": "5"
                                },
                                {
                                    "szobaszam": "182",
                                    "foglalas darab": "11"
                                },
                                {
                                    "szobaszam": "183",
                                    "foglalas darab": "3"
                                },
                                {
                                    "szobaszam": "184",
                                    "foglalas darab": "4"
                                },
                                {
                                    "szobaszam": "185",
                                    "foglalas darab": "10"
                                },
                                {
                                    "szobaszam": "186",
                                    "foglalas darab": "1"
                                },
                                {
                                    "szobaszam": "187",
                                    "foglalas darab": "6"
                                },
                                {
                                    "szobaszam": "188",
                                    "foglalas darab": "2"
                                },
                                {
                                    "szobaszam": "189",
                                    "foglalas darab": "1"
                                },
                                {
                                    "szobaszam": "190",
                                    "foglalas darab": "5"
                                },
                                {
                                    "szobaszam": "191",
                                    "foglalas darab": "3"
                                },
                                {
                                    "szobaszam": "192",
                                    "foglalas darab": "1"
                                },
                                {
                                    "szobaszam": "193",
                                    "foglalas darab": "2"
                                },
                                {
                                    "szobaszam": "194",
                                    "foglalas darab": "1"
                                },
                                {
                                    "szobaszam": "195",
                                    "foglalas darab": "5"
                                },
                                {
                                    "szobaszam": "196",
                                    "foglalas darab": "2"
                                },
                                {
                                    "szobaszam": "197",
                                    "foglalas darab": "6"
                                },
                                {
                                    "szobaszam": "198",
                                    "foglalas darab": "7"
                                }
                            ]
                        },
                        "text/html": [
                            "<table>",
                            "<tr><th>szobaszam</th><th>foglalas darab</th></tr>",
                            "<tr><td>1</td><td>7</td></tr>",
                            "<tr><td>2</td><td>2</td></tr>",
                            "<tr><td>3</td><td>3</td></tr>",
                            "<tr><td>4</td><td>5</td></tr>",
                            "<tr><td>5</td><td>2</td></tr>",
                            "<tr><td>6</td><td>5</td></tr>",
                            "<tr><td>7</td><td>6</td></tr>",
                            "<tr><td>8</td><td>5</td></tr>",
                            "<tr><td>9</td><td>4</td></tr>",
                            "<tr><td>10</td><td>4</td></tr>",
                            "<tr><td>11</td><td>4</td></tr>",
                            "<tr><td>12</td><td>7</td></tr>",
                            "<tr><td>13</td><td>4</td></tr>",
                            "<tr><td>14</td><td>3</td></tr>",
                            "<tr><td>15</td><td>4</td></tr>",
                            "<tr><td>16</td><td>1</td></tr>",
                            "<tr><td>17</td><td>2</td></tr>",
                            "<tr><td>18</td><td>3</td></tr>",
                            "<tr><td>19</td><td>4</td></tr>",
                            "<tr><td>20</td><td>5</td></tr>",
                            "<tr><td>21</td><td>1</td></tr>",
                            "<tr><td>22</td><td>2</td></tr>",
                            "<tr><td>23</td><td>3</td></tr>",
                            "<tr><td>24</td><td>3</td></tr>",
                            "<tr><td>25</td><td>1</td></tr>",
                            "<tr><td>27</td><td>5</td></tr>",
                            "<tr><td>28</td><td>5</td></tr>",
                            "<tr><td>29</td><td>3</td></tr>",
                            "<tr><td>30</td><td>2</td></tr>",
                            "<tr><td>31</td><td>1</td></tr>",
                            "<tr><td>32</td><td>1</td></tr>",
                            "<tr><td>33</td><td>3</td></tr>",
                            "<tr><td>34</td><td>3</td></tr>",
                            "<tr><td>35</td><td>6</td></tr>",
                            "<tr><td>36</td><td>4</td></tr>",
                            "<tr><td>37</td><td>2</td></tr>",
                            "<tr><td>38</td><td>5</td></tr>",
                            "<tr><td>39</td><td>4</td></tr>",
                            "<tr><td>40</td><td>3</td></tr>",
                            "<tr><td>41</td><td>1</td></tr>",
                            "<tr><td>42</td><td>5</td></tr>",
                            "<tr><td>43</td><td>4</td></tr>",
                            "<tr><td>44</td><td>6</td></tr>",
                            "<tr><td>45</td><td>4</td></tr>",
                            "<tr><td>46</td><td>3</td></tr>",
                            "<tr><td>47</td><td>2</td></tr>",
                            "<tr><td>48</td><td>6</td></tr>",
                            "<tr><td>49</td><td>5</td></tr>",
                            "<tr><td>50</td><td>3</td></tr>",
                            "<tr><td>51</td><td>3</td></tr>",
                            "<tr><td>52</td><td>5</td></tr>",
                            "<tr><td>54</td><td>4</td></tr>",
                            "<tr><td>55</td><td>3</td></tr>",
                            "<tr><td>56</td><td>1</td></tr>",
                            "<tr><td>57</td><td>3</td></tr>",
                            "<tr><td>58</td><td>8</td></tr>",
                            "<tr><td>59</td><td>4</td></tr>",
                            "<tr><td>60</td><td>1</td></tr>",
                            "<tr><td>61</td><td>4</td></tr>",
                            "<tr><td>62</td><td>3</td></tr>",
                            "<tr><td>63</td><td>3</td></tr>",
                            "<tr><td>64</td><td>5</td></tr>",
                            "<tr><td>66</td><td>3</td></tr>",
                            "<tr><td>67</td><td>2</td></tr>",
                            "<tr><td>69</td><td>2</td></tr>",
                            "<tr><td>70</td><td>8</td></tr>",
                            "<tr><td>71</td><td>2</td></tr>",
                            "<tr><td>72</td><td>2</td></tr>",
                            "<tr><td>73</td><td>4</td></tr>",
                            "<tr><td>74</td><td>8</td></tr>",
                            "<tr><td>75</td><td>2</td></tr>",
                            "<tr><td>76</td><td>2</td></tr>",
                            "<tr><td>77</td><td>3</td></tr>",
                            "<tr><td>78</td><td>3</td></tr>",
                            "<tr><td>79</td><td>4</td></tr>",
                            "<tr><td>80</td><td>5</td></tr>",
                            "<tr><td>81</td><td>3</td></tr>",
                            "<tr><td>82</td><td>5</td></tr>",
                            "<tr><td>83</td><td>5</td></tr>",
                            "<tr><td>84</td><td>3</td></tr>",
                            "<tr><td>85</td><td>2</td></tr>",
                            "<tr><td>86</td><td>4</td></tr>",
                            "<tr><td>87</td><td>5</td></tr>",
                            "<tr><td>88</td><td>5</td></tr>",
                            "<tr><td>89</td><td>8</td></tr>",
                            "<tr><td>90</td><td>3</td></tr>",
                            "<tr><td>91</td><td>2</td></tr>",
                            "<tr><td>92</td><td>5</td></tr>",
                            "<tr><td>93</td><td>3</td></tr>",
                            "<tr><td>94</td><td>6</td></tr>",
                            "<tr><td>95</td><td>3</td></tr>",
                            "<tr><td>96</td><td>6</td></tr>",
                            "<tr><td>97</td><td>5</td></tr>",
                            "<tr><td>98</td><td>4</td></tr>",
                            "<tr><td>99</td><td>4</td></tr>",
                            "<tr><td>100</td><td>2</td></tr>",
                            "<tr><td>101</td><td>1</td></tr>",
                            "<tr><td>102</td><td>1</td></tr>",
                            "<tr><td>103</td><td>1</td></tr>",
                            "<tr><td>104</td><td>3</td></tr>",
                            "<tr><td>106</td><td>4</td></tr>",
                            "<tr><td>107</td><td>4</td></tr>",
                            "<tr><td>108</td><td>1</td></tr>",
                            "<tr><td>109</td><td>2</td></tr>",
                            "<tr><td>110</td><td>5</td></tr>",
                            "<tr><td>111</td><td>1</td></tr>",
                            "<tr><td>112</td><td>4</td></tr>",
                            "<tr><td>113</td><td>2</td></tr>",
                            "<tr><td>114</td><td>1</td></tr>",
                            "<tr><td>115</td><td>5</td></tr>",
                            "<tr><td>117</td><td>4</td></tr>",
                            "<tr><td>118</td><td>2</td></tr>",
                            "<tr><td>119</td><td>4</td></tr>",
                            "<tr><td>120</td><td>2</td></tr>",
                            "<tr><td>121</td><td>5</td></tr>",
                            "<tr><td>122</td><td>3</td></tr>",
                            "<tr><td>123</td><td>5</td></tr>",
                            "<tr><td>124</td><td>4</td></tr>",
                            "<tr><td>126</td><td>4</td></tr>",
                            "<tr><td>127</td><td>5</td></tr>",
                            "<tr><td>129</td><td>3</td></tr>",
                            "<tr><td>130</td><td>5</td></tr>",
                            "<tr><td>131</td><td>4</td></tr>",
                            "<tr><td>132</td><td>4</td></tr>",
                            "<tr><td>133</td><td>4</td></tr>",
                            "<tr><td>134</td><td>4</td></tr>",
                            "<tr><td>135</td><td>3</td></tr>",
                            "<tr><td>136</td><td>2</td></tr>",
                            "<tr><td>137</td><td>2</td></tr>",
                            "<tr><td>138</td><td>5</td></tr>",
                            "<tr><td>139</td><td>6</td></tr>",
                            "<tr><td>140</td><td>5</td></tr>",
                            "<tr><td>141</td><td>4</td></tr>",
                            "<tr><td>142</td><td>1</td></tr>",
                            "<tr><td>143</td><td>5</td></tr>",
                            "<tr><td>144</td><td>2</td></tr>",
                            "<tr><td>145</td><td>2</td></tr>",
                            "<tr><td>146</td><td>3</td></tr>",
                            "<tr><td>147</td><td>1</td></tr>",
                            "<tr><td>148</td><td>5</td></tr>",
                            "<tr><td>149</td><td>5</td></tr>",
                            "<tr><td>150</td><td>6</td></tr>",
                            "<tr><td>151</td><td>2</td></tr>",
                            "<tr><td>152</td><td>3</td></tr>",
                            "<tr><td>153</td><td>4</td></tr>",
                            "<tr><td>154</td><td>3</td></tr>",
                            "<tr><td>155</td><td>3</td></tr>",
                            "<tr><td>156</td><td>2</td></tr>",
                            "<tr><td>157</td><td>2</td></tr>",
                            "<tr><td>158</td><td>3</td></tr>",
                            "<tr><td>160</td><td>2</td></tr>",
                            "<tr><td>161</td><td>3</td></tr>",
                            "<tr><td>162</td><td>2</td></tr>",
                            "<tr><td>163</td><td>5</td></tr>",
                            "<tr><td>164</td><td>4</td></tr>",
                            "<tr><td>165</td><td>5</td></tr>",
                            "<tr><td>166</td><td>3</td></tr>",
                            "<tr><td>167</td><td>2</td></tr>",
                            "<tr><td>168</td><td>1</td></tr>",
                            "<tr><td>169</td><td>3</td></tr>",
                            "<tr><td>170</td><td>3</td></tr>",
                            "<tr><td>171</td><td>5</td></tr>",
                            "<tr><td>172</td><td>6</td></tr>",
                            "<tr><td>173</td><td>3</td></tr>",
                            "<tr><td>174</td><td>4</td></tr>",
                            "<tr><td>175</td><td>3</td></tr>",
                            "<tr><td>176</td><td>2</td></tr>",
                            "<tr><td>177</td><td>1</td></tr>",
                            "<tr><td>178</td><td>1</td></tr>",
                            "<tr><td>179</td><td>2</td></tr>",
                            "<tr><td>180</td><td>1</td></tr>",
                            "<tr><td>181</td><td>5</td></tr>",
                            "<tr><td>182</td><td>11</td></tr>",
                            "<tr><td>183</td><td>3</td></tr>",
                            "<tr><td>184</td><td>4</td></tr>",
                            "<tr><td>185</td><td>10</td></tr>",
                            "<tr><td>186</td><td>1</td></tr>",
                            "<tr><td>187</td><td>6</td></tr>",
                            "<tr><td>188</td><td>2</td></tr>",
                            "<tr><td>189</td><td>1</td></tr>",
                            "<tr><td>190</td><td>5</td></tr>",
                            "<tr><td>191</td><td>3</td></tr>",
                            "<tr><td>192</td><td>1</td></tr>",
                            "<tr><td>193</td><td>2</td></tr>",
                            "<tr><td>194</td><td>1</td></tr>",
                            "<tr><td>195</td><td>5</td></tr>",
                            "<tr><td>196</td><td>2</td></tr>",
                            "<tr><td>197</td><td>6</td></tr>",
                            "<tr><td>198</td><td>7</td></tr>",
                            "</table>"
                        ]
                    }
                },
                {
                    "output_type": "error",
                    "evalue": "Msg 245, Level 16, State 1, Line 1\r\nConversion failed when converting the nvarchar value 'Végösszeg' to data type int.",
                    "ename": "",
                    "traceback": []
                }
            ],
            "execution_count": 36
        },
        {
            "cell_type": "markdown",
            "source": [
                ""
            ],
            "metadata": {
                "azdata_cell_guid": "0f037564-5348-4d6d-bb86-692ce607a743"
            }
        },
        {
            "cell_type": "code",
            "source": [
                "select sz.SZOBA_ID,  sz.FEROHELY,\r\n",
                " dense_rank() over(PARTITION by sz.szoba_id order by count(FOGLALAS_PK), sz.ferohely asc) as 'Foglalasok szama'\r\n",
                "from szoba sz join Foglalas f on sz.SZOBA_ID = f.SZOBA_FK\r\n",
                "group by sz.SZOBA_ID, sz.FEROHELY\r\n",
                "\r\n",
                ""
            ],
            "metadata": {
                "azdata_cell_guid": "558d0c89-7361-4121-8945-1a8b4a76ca00",
                "language": "sql"
            },
            "outputs": [
                {
                    "output_type": "display_data",
                    "data": {
                        "text/html": "(197 rows affected)"
                    },
                    "metadata": {}
                },
                {
                    "output_type": "display_data",
                    "data": {
                        "text/html": "Total execution time: 00:00:00.014"
                    },
                    "metadata": {}
                },
                {
                    "output_type": "execute_result",
                    "metadata": {},
                    "execution_count": 37,
                    "data": {
                        "application/vnd.dataresource+json": {
                            "schema": {
                                "fields": [
                                    {
                                        "name": "SZOBA_ID"
                                    },
                                    {
                                        "name": "FEROHELY"
                                    },
                                    {
                                        "name": "Foglalasok szama"
                                    }
                                ]
                            },
                            "data": [
                                {
                                    "SZOBA_ID": "1",
                                    "FEROHELY": "3",
                                    "Foglalasok szama": "1"
                                },
                                {
                                    "SZOBA_ID": "2",
                                    "FEROHELY": "3",
                                    "Foglalasok szama": "1"
                                },
                                {
                                    "SZOBA_ID": "3",
                                    "FEROHELY": "3",
                                    "Foglalasok szama": "1"
                                },
                                {
                                    "SZOBA_ID": "4",
                                    "FEROHELY": "2",
                                    "Foglalasok szama": "1"
                                },
                                {
                                    "SZOBA_ID": "5",
                                    "FEROHELY": "2",
                                    "Foglalasok szama": "1"
                                },
                                {
                                    "SZOBA_ID": "6",
                                    "FEROHELY": "3",
                                    "Foglalasok szama": "1"
                                },
                                {
                                    "SZOBA_ID": "7",
                                    "FEROHELY": "2",
                                    "Foglalasok szama": "1"
                                },
                                {
                                    "SZOBA_ID": "8",
                                    "FEROHELY": "3",
                                    "Foglalasok szama": "1"
                                },
                                {
                                    "SZOBA_ID": "9",
                                    "FEROHELY": "3",
                                    "Foglalasok szama": "1"
                                },
                                {
                                    "SZOBA_ID": "10",
                                    "FEROHELY": "3",
                                    "Foglalasok szama": "1"
                                },
                                {
                                    "SZOBA_ID": "11",
                                    "FEROHELY": "2",
                                    "Foglalasok szama": "1"
                                },
                                {
                                    "SZOBA_ID": "12",
                                    "FEROHELY": "2",
                                    "Foglalasok szama": "1"
                                },
                                {
                                    "SZOBA_ID": "13",
                                    "FEROHELY": "3",
                                    "Foglalasok szama": "1"
                                },
                                {
                                    "SZOBA_ID": "14",
                                    "FEROHELY": "3",
                                    "Foglalasok szama": "1"
                                },
                                {
                                    "SZOBA_ID": "15",
                                    "FEROHELY": "2",
                                    "Foglalasok szama": "1"
                                },
                                {
                                    "SZOBA_ID": "16",
                                    "FEROHELY": "3",
                                    "Foglalasok szama": "1"
                                },
                                {
                                    "SZOBA_ID": "17",
                                    "FEROHELY": "3",
                                    "Foglalasok szama": "1"
                                },
                                {
                                    "SZOBA_ID": "18",
                                    "FEROHELY": "3",
                                    "Foglalasok szama": "1"
                                },
                                {
                                    "SZOBA_ID": "19",
                                    "FEROHELY": "2",
                                    "Foglalasok szama": "1"
                                },
                                {
                                    "SZOBA_ID": "20",
                                    "FEROHELY": "3",
                                    "Foglalasok szama": "1"
                                },
                                {
                                    "SZOBA_ID": "21",
                                    "FEROHELY": "2",
                                    "Foglalasok szama": "1"
                                },
                                {
                                    "SZOBA_ID": "22",
                                    "FEROHELY": "3",
                                    "Foglalasok szama": "1"
                                },
                                {
                                    "SZOBA_ID": "23",
                                    "FEROHELY": "2",
                                    "Foglalasok szama": "1"
                                },
                                {
                                    "SZOBA_ID": "24",
                                    "FEROHELY": "4",
                                    "Foglalasok szama": "1"
                                },
                                {
                                    "SZOBA_ID": "25",
                                    "FEROHELY": "3",
                                    "Foglalasok szama": "1"
                                },
                                {
                                    "SZOBA_ID": "26",
                                    "FEROHELY": "2",
                                    "Foglalasok szama": "1"
                                },
                                {
                                    "SZOBA_ID": "27",
                                    "FEROHELY": "3",
                                    "Foglalasok szama": "1"
                                },
                                {
                                    "SZOBA_ID": "28",
                                    "FEROHELY": "2",
                                    "Foglalasok szama": "1"
                                },
                                {
                                    "SZOBA_ID": "29",
                                    "FEROHELY": "2",
                                    "Foglalasok szama": "1"
                                },
                                {
                                    "SZOBA_ID": "30",
                                    "FEROHELY": "3",
                                    "Foglalasok szama": "1"
                                },
                                {
                                    "SZOBA_ID": "31",
                                    "FEROHELY": "3",
                                    "Foglalasok szama": "1"
                                },
                                {
                                    "SZOBA_ID": "32",
                                    "FEROHELY": "2",
                                    "Foglalasok szama": "1"
                                },
                                {
                                    "SZOBA_ID": "33",
                                    "FEROHELY": "2",
                                    "Foglalasok szama": "1"
                                },
                                {
                                    "SZOBA_ID": "34",
                                    "FEROHELY": "3",
                                    "Foglalasok szama": "1"
                                },
                                {
                                    "SZOBA_ID": "35",
                                    "FEROHELY": "3",
                                    "Foglalasok szama": "1"
                                },
                                {
                                    "SZOBA_ID": "36",
                                    "FEROHELY": "3",
                                    "Foglalasok szama": "1"
                                },
                                {
                                    "SZOBA_ID": "37",
                                    "FEROHELY": "2",
                                    "Foglalasok szama": "1"
                                },
                                {
                                    "SZOBA_ID": "38",
                                    "FEROHELY": "2",
                                    "Foglalasok szama": "1"
                                },
                                {
                                    "SZOBA_ID": "39",
                                    "FEROHELY": "2",
                                    "Foglalasok szama": "1"
                                },
                                {
                                    "SZOBA_ID": "40",
                                    "FEROHELY": "3",
                                    "Foglalasok szama": "1"
                                },
                                {
                                    "SZOBA_ID": "41",
                                    "FEROHELY": "3",
                                    "Foglalasok szama": "1"
                                },
                                {
                                    "SZOBA_ID": "42",
                                    "FEROHELY": "2",
                                    "Foglalasok szama": "1"
                                },
                                {
                                    "SZOBA_ID": "43",
                                    "FEROHELY": "3",
                                    "Foglalasok szama": "1"
                                },
                                {
                                    "SZOBA_ID": "44",
                                    "FEROHELY": "3",
                                    "Foglalasok szama": "1"
                                },
                                {
                                    "SZOBA_ID": "45",
                                    "FEROHELY": "2",
                                    "Foglalasok szama": "1"
                                },
                                {
                                    "SZOBA_ID": "46",
                                    "FEROHELY": "3",
                                    "Foglalasok szama": "1"
                                },
                                {
                                    "SZOBA_ID": "47",
                                    "FEROHELY": "2",
                                    "Foglalasok szama": "1"
                                },
                                {
                                    "SZOBA_ID": "48",
                                    "FEROHELY": "3",
                                    "Foglalasok szama": "1"
                                },
                                {
                                    "SZOBA_ID": "49",
                                    "FEROHELY": "3",
                                    "Foglalasok szama": "1"
                                },
                                {
                                    "SZOBA_ID": "50",
                                    "FEROHELY": "2",
                                    "Foglalasok szama": "1"
                                },
                                {
                                    "SZOBA_ID": "51",
                                    "FEROHELY": "3",
                                    "Foglalasok szama": "1"
                                },
                                {
                                    "SZOBA_ID": "52",
                                    "FEROHELY": "2",
                                    "Foglalasok szama": "1"
                                },
                                {
                                    "SZOBA_ID": "53",
                                    "FEROHELY": "2",
                                    "Foglalasok szama": "1"
                                },
                                {
                                    "SZOBA_ID": "54",
                                    "FEROHELY": "3",
                                    "Foglalasok szama": "1"
                                },
                                {
                                    "SZOBA_ID": "55",
                                    "FEROHELY": "2",
                                    "Foglalasok szama": "1"
                                },
                                {
                                    "SZOBA_ID": "56",
                                    "FEROHELY": "2",
                                    "Foglalasok szama": "1"
                                },
                                {
                                    "SZOBA_ID": "57",
                                    "FEROHELY": "2",
                                    "Foglalasok szama": "1"
                                },
                                {
                                    "SZOBA_ID": "58",
                                    "FEROHELY": "2",
                                    "Foglalasok szama": "1"
                                },
                                {
                                    "SZOBA_ID": "59",
                                    "FEROHELY": "2",
                                    "Foglalasok szama": "1"
                                },
                                {
                                    "SZOBA_ID": "60",
                                    "FEROHELY": "3",
                                    "Foglalasok szama": "1"
                                },
                                {
                                    "SZOBA_ID": "61",
                                    "FEROHELY": "3",
                                    "Foglalasok szama": "1"
                                },
                                {
                                    "SZOBA_ID": "62",
                                    "FEROHELY": "2",
                                    "Foglalasok szama": "1"
                                },
                                {
                                    "SZOBA_ID": "63",
                                    "FEROHELY": "2",
                                    "Foglalasok szama": "1"
                                },
                                {
                                    "SZOBA_ID": "64",
                                    "FEROHELY": "2",
                                    "Foglalasok szama": "1"
                                },
                                {
                                    "SZOBA_ID": "65",
                                    "FEROHELY": "2",
                                    "Foglalasok szama": "1"
                                },
                                {
                                    "SZOBA_ID": "66",
                                    "FEROHELY": "3",
                                    "Foglalasok szama": "1"
                                },
                                {
                                    "SZOBA_ID": "67",
                                    "FEROHELY": "2",
                                    "Foglalasok szama": "1"
                                },
                                {
                                    "SZOBA_ID": "68",
                                    "FEROHELY": "2",
                                    "Foglalasok szama": "1"
                                },
                                {
                                    "SZOBA_ID": "69",
                                    "FEROHELY": "3",
                                    "Foglalasok szama": "1"
                                },
                                {
                                    "SZOBA_ID": "70",
                                    "FEROHELY": "2",
                                    "Foglalasok szama": "1"
                                },
                                {
                                    "SZOBA_ID": "71",
                                    "FEROHELY": "3",
                                    "Foglalasok szama": "1"
                                },
                                {
                                    "SZOBA_ID": "72",
                                    "FEROHELY": "2",
                                    "Foglalasok szama": "1"
                                },
                                {
                                    "SZOBA_ID": "73",
                                    "FEROHELY": "2",
                                    "Foglalasok szama": "1"
                                },
                                {
                                    "SZOBA_ID": "74",
                                    "FEROHELY": "3",
                                    "Foglalasok szama": "1"
                                },
                                {
                                    "SZOBA_ID": "75",
                                    "FEROHELY": "2",
                                    "Foglalasok szama": "1"
                                },
                                {
                                    "SZOBA_ID": "76",
                                    "FEROHELY": "2",
                                    "Foglalasok szama": "1"
                                },
                                {
                                    "SZOBA_ID": "77",
                                    "FEROHELY": "3",
                                    "Foglalasok szama": "1"
                                },
                                {
                                    "SZOBA_ID": "78",
                                    "FEROHELY": "2",
                                    "Foglalasok szama": "1"
                                },
                                {
                                    "SZOBA_ID": "79",
                                    "FEROHELY": "3",
                                    "Foglalasok szama": "1"
                                },
                                {
                                    "SZOBA_ID": "80",
                                    "FEROHELY": "2",
                                    "Foglalasok szama": "1"
                                },
                                {
                                    "SZOBA_ID": "81",
                                    "FEROHELY": "2",
                                    "Foglalasok szama": "1"
                                },
                                {
                                    "SZOBA_ID": "82",
                                    "FEROHELY": "3",
                                    "Foglalasok szama": "1"
                                },
                                {
                                    "SZOBA_ID": "83",
                                    "FEROHELY": "3",
                                    "Foglalasok szama": "1"
                                },
                                {
                                    "SZOBA_ID": "84",
                                    "FEROHELY": "3",
                                    "Foglalasok szama": "1"
                                },
                                {
                                    "SZOBA_ID": "85",
                                    "FEROHELY": "2",
                                    "Foglalasok szama": "1"
                                },
                                {
                                    "SZOBA_ID": "86",
                                    "FEROHELY": "2",
                                    "Foglalasok szama": "1"
                                },
                                {
                                    "SZOBA_ID": "87",
                                    "FEROHELY": "3",
                                    "Foglalasok szama": "1"
                                },
                                {
                                    "SZOBA_ID": "88",
                                    "FEROHELY": "3",
                                    "Foglalasok szama": "1"
                                },
                                {
                                    "SZOBA_ID": "89",
                                    "FEROHELY": "3",
                                    "Foglalasok szama": "1"
                                },
                                {
                                    "SZOBA_ID": "90",
                                    "FEROHELY": "3",
                                    "Foglalasok szama": "1"
                                },
                                {
                                    "SZOBA_ID": "91",
                                    "FEROHELY": "2",
                                    "Foglalasok szama": "1"
                                },
                                {
                                    "SZOBA_ID": "92",
                                    "FEROHELY": "3",
                                    "Foglalasok szama": "1"
                                },
                                {
                                    "SZOBA_ID": "93",
                                    "FEROHELY": "3",
                                    "Foglalasok szama": "1"
                                },
                                {
                                    "SZOBA_ID": "94",
                                    "FEROHELY": "2",
                                    "Foglalasok szama": "1"
                                },
                                {
                                    "SZOBA_ID": "95",
                                    "FEROHELY": "3",
                                    "Foglalasok szama": "1"
                                },
                                {
                                    "SZOBA_ID": "96",
                                    "FEROHELY": "3",
                                    "Foglalasok szama": "1"
                                },
                                {
                                    "SZOBA_ID": "97",
                                    "FEROHELY": "3",
                                    "Foglalasok szama": "1"
                                },
                                {
                                    "SZOBA_ID": "98",
                                    "FEROHELY": "2",
                                    "Foglalasok szama": "1"
                                },
                                {
                                    "SZOBA_ID": "99",
                                    "FEROHELY": "2",
                                    "Foglalasok szama": "1"
                                },
                                {
                                    "SZOBA_ID": "100",
                                    "FEROHELY": "2",
                                    "Foglalasok szama": "1"
                                },
                                {
                                    "SZOBA_ID": "101",
                                    "FEROHELY": "2",
                                    "Foglalasok szama": "1"
                                },
                                {
                                    "SZOBA_ID": "102",
                                    "FEROHELY": "2",
                                    "Foglalasok szama": "1"
                                },
                                {
                                    "SZOBA_ID": "103",
                                    "FEROHELY": "2",
                                    "Foglalasok szama": "1"
                                },
                                {
                                    "SZOBA_ID": "104",
                                    "FEROHELY": "3",
                                    "Foglalasok szama": "1"
                                },
                                {
                                    "SZOBA_ID": "105",
                                    "FEROHELY": "2",
                                    "Foglalasok szama": "1"
                                },
                                {
                                    "SZOBA_ID": "106",
                                    "FEROHELY": "2",
                                    "Foglalasok szama": "1"
                                },
                                {
                                    "SZOBA_ID": "107",
                                    "FEROHELY": "2",
                                    "Foglalasok szama": "1"
                                },
                                {
                                    "SZOBA_ID": "108",
                                    "FEROHELY": "2",
                                    "Foglalasok szama": "1"
                                },
                                {
                                    "SZOBA_ID": "109",
                                    "FEROHELY": "2",
                                    "Foglalasok szama": "1"
                                },
                                {
                                    "SZOBA_ID": "110",
                                    "FEROHELY": "2",
                                    "Foglalasok szama": "1"
                                },
                                {
                                    "SZOBA_ID": "111",
                                    "FEROHELY": "2",
                                    "Foglalasok szama": "1"
                                },
                                {
                                    "SZOBA_ID": "112",
                                    "FEROHELY": "3",
                                    "Foglalasok szama": "1"
                                },
                                {
                                    "SZOBA_ID": "113",
                                    "FEROHELY": "3",
                                    "Foglalasok szama": "1"
                                },
                                {
                                    "SZOBA_ID": "114",
                                    "FEROHELY": "2",
                                    "Foglalasok szama": "1"
                                },
                                {
                                    "SZOBA_ID": "115",
                                    "FEROHELY": "3",
                                    "Foglalasok szama": "1"
                                },
                                {
                                    "SZOBA_ID": "116",
                                    "FEROHELY": "3",
                                    "Foglalasok szama": "1"
                                },
                                {
                                    "SZOBA_ID": "117",
                                    "FEROHELY": "3",
                                    "Foglalasok szama": "1"
                                },
                                {
                                    "SZOBA_ID": "118",
                                    "FEROHELY": "2",
                                    "Foglalasok szama": "1"
                                },
                                {
                                    "SZOBA_ID": "119",
                                    "FEROHELY": "2",
                                    "Foglalasok szama": "1"
                                },
                                {
                                    "SZOBA_ID": "120",
                                    "FEROHELY": "3",
                                    "Foglalasok szama": "1"
                                },
                                {
                                    "SZOBA_ID": "121",
                                    "FEROHELY": "2",
                                    "Foglalasok szama": "1"
                                },
                                {
                                    "SZOBA_ID": "122",
                                    "FEROHELY": "3",
                                    "Foglalasok szama": "1"
                                },
                                {
                                    "SZOBA_ID": "123",
                                    "FEROHELY": "3",
                                    "Foglalasok szama": "1"
                                },
                                {
                                    "SZOBA_ID": "124",
                                    "FEROHELY": "3",
                                    "Foglalasok szama": "1"
                                },
                                {
                                    "SZOBA_ID": "125",
                                    "FEROHELY": "2",
                                    "Foglalasok szama": "1"
                                },
                                {
                                    "SZOBA_ID": "126",
                                    "FEROHELY": "2",
                                    "Foglalasok szama": "1"
                                },
                                {
                                    "SZOBA_ID": "127",
                                    "FEROHELY": "2",
                                    "Foglalasok szama": "1"
                                },
                                {
                                    "SZOBA_ID": "128",
                                    "FEROHELY": "2",
                                    "Foglalasok szama": "1"
                                },
                                {
                                    "SZOBA_ID": "129",
                                    "FEROHELY": "2",
                                    "Foglalasok szama": "1"
                                },
                                {
                                    "SZOBA_ID": "130",
                                    "FEROHELY": "2",
                                    "Foglalasok szama": "1"
                                },
                                {
                                    "SZOBA_ID": "131",
                                    "FEROHELY": "2",
                                    "Foglalasok szama": "1"
                                },
                                {
                                    "SZOBA_ID": "132",
                                    "FEROHELY": "3",
                                    "Foglalasok szama": "1"
                                },
                                {
                                    "SZOBA_ID": "133",
                                    "FEROHELY": "3",
                                    "Foglalasok szama": "1"
                                },
                                {
                                    "SZOBA_ID": "134",
                                    "FEROHELY": "3",
                                    "Foglalasok szama": "1"
                                },
                                {
                                    "SZOBA_ID": "135",
                                    "FEROHELY": "3",
                                    "Foglalasok szama": "1"
                                },
                                {
                                    "SZOBA_ID": "136",
                                    "FEROHELY": "2",
                                    "Foglalasok szama": "1"
                                },
                                {
                                    "SZOBA_ID": "137",
                                    "FEROHELY": "2",
                                    "Foglalasok szama": "1"
                                },
                                {
                                    "SZOBA_ID": "138",
                                    "FEROHELY": "3",
                                    "Foglalasok szama": "1"
                                },
                                {
                                    "SZOBA_ID": "139",
                                    "FEROHELY": "2",
                                    "Foglalasok szama": "1"
                                },
                                {
                                    "SZOBA_ID": "140",
                                    "FEROHELY": "2",
                                    "Foglalasok szama": "1"
                                },
                                {
                                    "SZOBA_ID": "141",
                                    "FEROHELY": "2",
                                    "Foglalasok szama": "1"
                                },
                                {
                                    "SZOBA_ID": "142",
                                    "FEROHELY": "3",
                                    "Foglalasok szama": "1"
                                },
                                {
                                    "SZOBA_ID": "143",
                                    "FEROHELY": "3",
                                    "Foglalasok szama": "1"
                                },
                                {
                                    "SZOBA_ID": "144",
                                    "FEROHELY": "3",
                                    "Foglalasok szama": "1"
                                },
                                {
                                    "SZOBA_ID": "145",
                                    "FEROHELY": "2",
                                    "Foglalasok szama": "1"
                                },
                                {
                                    "SZOBA_ID": "146",
                                    "FEROHELY": "3",
                                    "Foglalasok szama": "1"
                                },
                                {
                                    "SZOBA_ID": "147",
                                    "FEROHELY": "2",
                                    "Foglalasok szama": "1"
                                },
                                {
                                    "SZOBA_ID": "148",
                                    "FEROHELY": "2",
                                    "Foglalasok szama": "1"
                                },
                                {
                                    "SZOBA_ID": "149",
                                    "FEROHELY": "2",
                                    "Foglalasok szama": "1"
                                },
                                {
                                    "SZOBA_ID": "150",
                                    "FEROHELY": "2",
                                    "Foglalasok szama": "1"
                                },
                                {
                                    "SZOBA_ID": "151",
                                    "FEROHELY": "2",
                                    "Foglalasok szama": "1"
                                },
                                {
                                    "SZOBA_ID": "152",
                                    "FEROHELY": "2",
                                    "Foglalasok szama": "1"
                                },
                                {
                                    "SZOBA_ID": "153",
                                    "FEROHELY": "3",
                                    "Foglalasok szama": "1"
                                },
                                {
                                    "SZOBA_ID": "154",
                                    "FEROHELY": "2",
                                    "Foglalasok szama": "1"
                                },
                                {
                                    "SZOBA_ID": "155",
                                    "FEROHELY": "3",
                                    "Foglalasok szama": "1"
                                },
                                {
                                    "SZOBA_ID": "156",
                                    "FEROHELY": "2",
                                    "Foglalasok szama": "1"
                                },
                                {
                                    "SZOBA_ID": "157",
                                    "FEROHELY": "2",
                                    "Foglalasok szama": "1"
                                },
                                {
                                    "SZOBA_ID": "158",
                                    "FEROHELY": "2",
                                    "Foglalasok szama": "1"
                                },
                                {
                                    "SZOBA_ID": "160",
                                    "FEROHELY": "3",
                                    "Foglalasok szama": "1"
                                },
                                {
                                    "SZOBA_ID": "161",
                                    "FEROHELY": "2",
                                    "Foglalasok szama": "1"
                                },
                                {
                                    "SZOBA_ID": "162",
                                    "FEROHELY": "3",
                                    "Foglalasok szama": "1"
                                },
                                {
                                    "SZOBA_ID": "163",
                                    "FEROHELY": "2",
                                    "Foglalasok szama": "1"
                                },
                                {
                                    "SZOBA_ID": "164",
                                    "FEROHELY": "2",
                                    "Foglalasok szama": "1"
                                },
                                {
                                    "SZOBA_ID": "165",
                                    "FEROHELY": "2",
                                    "Foglalasok szama": "1"
                                },
                                {
                                    "SZOBA_ID": "166",
                                    "FEROHELY": "2",
                                    "Foglalasok szama": "1"
                                },
                                {
                                    "SZOBA_ID": "167",
                                    "FEROHELY": "3",
                                    "Foglalasok szama": "1"
                                },
                                {
                                    "SZOBA_ID": "168",
                                    "FEROHELY": "2",
                                    "Foglalasok szama": "1"
                                },
                                {
                                    "SZOBA_ID": "169",
                                    "FEROHELY": "2",
                                    "Foglalasok szama": "1"
                                },
                                {
                                    "SZOBA_ID": "170",
                                    "FEROHELY": "2",
                                    "Foglalasok szama": "1"
                                },
                                {
                                    "SZOBA_ID": "171",
                                    "FEROHELY": "2",
                                    "Foglalasok szama": "1"
                                },
                                {
                                    "SZOBA_ID": "172",
                                    "FEROHELY": "2",
                                    "Foglalasok szama": "1"
                                },
                                {
                                    "SZOBA_ID": "173",
                                    "FEROHELY": "2",
                                    "Foglalasok szama": "1"
                                },
                                {
                                    "SZOBA_ID": "174",
                                    "FEROHELY": "2",
                                    "Foglalasok szama": "1"
                                },
                                {
                                    "SZOBA_ID": "175",
                                    "FEROHELY": "2",
                                    "Foglalasok szama": "1"
                                },
                                {
                                    "SZOBA_ID": "176",
                                    "FEROHELY": "3",
                                    "Foglalasok szama": "1"
                                },
                                {
                                    "SZOBA_ID": "177",
                                    "FEROHELY": "3",
                                    "Foglalasok szama": "1"
                                },
                                {
                                    "SZOBA_ID": "178",
                                    "FEROHELY": "3",
                                    "Foglalasok szama": "1"
                                },
                                {
                                    "SZOBA_ID": "179",
                                    "FEROHELY": "3",
                                    "Foglalasok szama": "1"
                                },
                                {
                                    "SZOBA_ID": "180",
                                    "FEROHELY": "2",
                                    "Foglalasok szama": "1"
                                },
                                {
                                    "SZOBA_ID": "181",
                                    "FEROHELY": "3",
                                    "Foglalasok szama": "1"
                                },
                                {
                                    "SZOBA_ID": "182",
                                    "FEROHELY": "2",
                                    "Foglalasok szama": "1"
                                },
                                {
                                    "SZOBA_ID": "183",
                                    "FEROHELY": "3",
                                    "Foglalasok szama": "1"
                                },
                                {
                                    "SZOBA_ID": "184",
                                    "FEROHELY": "2",
                                    "Foglalasok szama": "1"
                                },
                                {
                                    "SZOBA_ID": "185",
                                    "FEROHELY": "3",
                                    "Foglalasok szama": "1"
                                },
                                {
                                    "SZOBA_ID": "186",
                                    "FEROHELY": "2",
                                    "Foglalasok szama": "1"
                                },
                                {
                                    "SZOBA_ID": "187",
                                    "FEROHELY": "3",
                                    "Foglalasok szama": "1"
                                },
                                {
                                    "SZOBA_ID": "188",
                                    "FEROHELY": "3",
                                    "Foglalasok szama": "1"
                                },
                                {
                                    "SZOBA_ID": "189",
                                    "FEROHELY": "2",
                                    "Foglalasok szama": "1"
                                },
                                {
                                    "SZOBA_ID": "190",
                                    "FEROHELY": "2",
                                    "Foglalasok szama": "1"
                                },
                                {
                                    "SZOBA_ID": "191",
                                    "FEROHELY": "2",
                                    "Foglalasok szama": "1"
                                },
                                {
                                    "SZOBA_ID": "192",
                                    "FEROHELY": "2",
                                    "Foglalasok szama": "1"
                                },
                                {
                                    "SZOBA_ID": "193",
                                    "FEROHELY": "3",
                                    "Foglalasok szama": "1"
                                },
                                {
                                    "SZOBA_ID": "194",
                                    "FEROHELY": "2",
                                    "Foglalasok szama": "1"
                                },
                                {
                                    "SZOBA_ID": "195",
                                    "FEROHELY": "2",
                                    "Foglalasok szama": "1"
                                },
                                {
                                    "SZOBA_ID": "196",
                                    "FEROHELY": "2",
                                    "Foglalasok szama": "1"
                                },
                                {
                                    "SZOBA_ID": "197",
                                    "FEROHELY": "3",
                                    "Foglalasok szama": "1"
                                },
                                {
                                    "SZOBA_ID": "198",
                                    "FEROHELY": "3",
                                    "Foglalasok szama": "1"
                                }
                            ]
                        },
                        "text/html": [
                            "<table>",
                            "<tr><th>SZOBA_ID</th><th>FEROHELY</th><th>Foglalasok szama</th></tr>",
                            "<tr><td>1</td><td>3</td><td>1</td></tr>",
                            "<tr><td>2</td><td>3</td><td>1</td></tr>",
                            "<tr><td>3</td><td>3</td><td>1</td></tr>",
                            "<tr><td>4</td><td>2</td><td>1</td></tr>",
                            "<tr><td>5</td><td>2</td><td>1</td></tr>",
                            "<tr><td>6</td><td>3</td><td>1</td></tr>",
                            "<tr><td>7</td><td>2</td><td>1</td></tr>",
                            "<tr><td>8</td><td>3</td><td>1</td></tr>",
                            "<tr><td>9</td><td>3</td><td>1</td></tr>",
                            "<tr><td>10</td><td>3</td><td>1</td></tr>",
                            "<tr><td>11</td><td>2</td><td>1</td></tr>",
                            "<tr><td>12</td><td>2</td><td>1</td></tr>",
                            "<tr><td>13</td><td>3</td><td>1</td></tr>",
                            "<tr><td>14</td><td>3</td><td>1</td></tr>",
                            "<tr><td>15</td><td>2</td><td>1</td></tr>",
                            "<tr><td>16</td><td>3</td><td>1</td></tr>",
                            "<tr><td>17</td><td>3</td><td>1</td></tr>",
                            "<tr><td>18</td><td>3</td><td>1</td></tr>",
                            "<tr><td>19</td><td>2</td><td>1</td></tr>",
                            "<tr><td>20</td><td>3</td><td>1</td></tr>",
                            "<tr><td>21</td><td>2</td><td>1</td></tr>",
                            "<tr><td>22</td><td>3</td><td>1</td></tr>",
                            "<tr><td>23</td><td>2</td><td>1</td></tr>",
                            "<tr><td>24</td><td>4</td><td>1</td></tr>",
                            "<tr><td>25</td><td>3</td><td>1</td></tr>",
                            "<tr><td>26</td><td>2</td><td>1</td></tr>",
                            "<tr><td>27</td><td>3</td><td>1</td></tr>",
                            "<tr><td>28</td><td>2</td><td>1</td></tr>",
                            "<tr><td>29</td><td>2</td><td>1</td></tr>",
                            "<tr><td>30</td><td>3</td><td>1</td></tr>",
                            "<tr><td>31</td><td>3</td><td>1</td></tr>",
                            "<tr><td>32</td><td>2</td><td>1</td></tr>",
                            "<tr><td>33</td><td>2</td><td>1</td></tr>",
                            "<tr><td>34</td><td>3</td><td>1</td></tr>",
                            "<tr><td>35</td><td>3</td><td>1</td></tr>",
                            "<tr><td>36</td><td>3</td><td>1</td></tr>",
                            "<tr><td>37</td><td>2</td><td>1</td></tr>",
                            "<tr><td>38</td><td>2</td><td>1</td></tr>",
                            "<tr><td>39</td><td>2</td><td>1</td></tr>",
                            "<tr><td>40</td><td>3</td><td>1</td></tr>",
                            "<tr><td>41</td><td>3</td><td>1</td></tr>",
                            "<tr><td>42</td><td>2</td><td>1</td></tr>",
                            "<tr><td>43</td><td>3</td><td>1</td></tr>",
                            "<tr><td>44</td><td>3</td><td>1</td></tr>",
                            "<tr><td>45</td><td>2</td><td>1</td></tr>",
                            "<tr><td>46</td><td>3</td><td>1</td></tr>",
                            "<tr><td>47</td><td>2</td><td>1</td></tr>",
                            "<tr><td>48</td><td>3</td><td>1</td></tr>",
                            "<tr><td>49</td><td>3</td><td>1</td></tr>",
                            "<tr><td>50</td><td>2</td><td>1</td></tr>",
                            "<tr><td>51</td><td>3</td><td>1</td></tr>",
                            "<tr><td>52</td><td>2</td><td>1</td></tr>",
                            "<tr><td>53</td><td>2</td><td>1</td></tr>",
                            "<tr><td>54</td><td>3</td><td>1</td></tr>",
                            "<tr><td>55</td><td>2</td><td>1</td></tr>",
                            "<tr><td>56</td><td>2</td><td>1</td></tr>",
                            "<tr><td>57</td><td>2</td><td>1</td></tr>",
                            "<tr><td>58</td><td>2</td><td>1</td></tr>",
                            "<tr><td>59</td><td>2</td><td>1</td></tr>",
                            "<tr><td>60</td><td>3</td><td>1</td></tr>",
                            "<tr><td>61</td><td>3</td><td>1</td></tr>",
                            "<tr><td>62</td><td>2</td><td>1</td></tr>",
                            "<tr><td>63</td><td>2</td><td>1</td></tr>",
                            "<tr><td>64</td><td>2</td><td>1</td></tr>",
                            "<tr><td>65</td><td>2</td><td>1</td></tr>",
                            "<tr><td>66</td><td>3</td><td>1</td></tr>",
                            "<tr><td>67</td><td>2</td><td>1</td></tr>",
                            "<tr><td>68</td><td>2</td><td>1</td></tr>",
                            "<tr><td>69</td><td>3</td><td>1</td></tr>",
                            "<tr><td>70</td><td>2</td><td>1</td></tr>",
                            "<tr><td>71</td><td>3</td><td>1</td></tr>",
                            "<tr><td>72</td><td>2</td><td>1</td></tr>",
                            "<tr><td>73</td><td>2</td><td>1</td></tr>",
                            "<tr><td>74</td><td>3</td><td>1</td></tr>",
                            "<tr><td>75</td><td>2</td><td>1</td></tr>",
                            "<tr><td>76</td><td>2</td><td>1</td></tr>",
                            "<tr><td>77</td><td>3</td><td>1</td></tr>",
                            "<tr><td>78</td><td>2</td><td>1</td></tr>",
                            "<tr><td>79</td><td>3</td><td>1</td></tr>",
                            "<tr><td>80</td><td>2</td><td>1</td></tr>",
                            "<tr><td>81</td><td>2</td><td>1</td></tr>",
                            "<tr><td>82</td><td>3</td><td>1</td></tr>",
                            "<tr><td>83</td><td>3</td><td>1</td></tr>",
                            "<tr><td>84</td><td>3</td><td>1</td></tr>",
                            "<tr><td>85</td><td>2</td><td>1</td></tr>",
                            "<tr><td>86</td><td>2</td><td>1</td></tr>",
                            "<tr><td>87</td><td>3</td><td>1</td></tr>",
                            "<tr><td>88</td><td>3</td><td>1</td></tr>",
                            "<tr><td>89</td><td>3</td><td>1</td></tr>",
                            "<tr><td>90</td><td>3</td><td>1</td></tr>",
                            "<tr><td>91</td><td>2</td><td>1</td></tr>",
                            "<tr><td>92</td><td>3</td><td>1</td></tr>",
                            "<tr><td>93</td><td>3</td><td>1</td></tr>",
                            "<tr><td>94</td><td>2</td><td>1</td></tr>",
                            "<tr><td>95</td><td>3</td><td>1</td></tr>",
                            "<tr><td>96</td><td>3</td><td>1</td></tr>",
                            "<tr><td>97</td><td>3</td><td>1</td></tr>",
                            "<tr><td>98</td><td>2</td><td>1</td></tr>",
                            "<tr><td>99</td><td>2</td><td>1</td></tr>",
                            "<tr><td>100</td><td>2</td><td>1</td></tr>",
                            "<tr><td>101</td><td>2</td><td>1</td></tr>",
                            "<tr><td>102</td><td>2</td><td>1</td></tr>",
                            "<tr><td>103</td><td>2</td><td>1</td></tr>",
                            "<tr><td>104</td><td>3</td><td>1</td></tr>",
                            "<tr><td>105</td><td>2</td><td>1</td></tr>",
                            "<tr><td>106</td><td>2</td><td>1</td></tr>",
                            "<tr><td>107</td><td>2</td><td>1</td></tr>",
                            "<tr><td>108</td><td>2</td><td>1</td></tr>",
                            "<tr><td>109</td><td>2</td><td>1</td></tr>",
                            "<tr><td>110</td><td>2</td><td>1</td></tr>",
                            "<tr><td>111</td><td>2</td><td>1</td></tr>",
                            "<tr><td>112</td><td>3</td><td>1</td></tr>",
                            "<tr><td>113</td><td>3</td><td>1</td></tr>",
                            "<tr><td>114</td><td>2</td><td>1</td></tr>",
                            "<tr><td>115</td><td>3</td><td>1</td></tr>",
                            "<tr><td>116</td><td>3</td><td>1</td></tr>",
                            "<tr><td>117</td><td>3</td><td>1</td></tr>",
                            "<tr><td>118</td><td>2</td><td>1</td></tr>",
                            "<tr><td>119</td><td>2</td><td>1</td></tr>",
                            "<tr><td>120</td><td>3</td><td>1</td></tr>",
                            "<tr><td>121</td><td>2</td><td>1</td></tr>",
                            "<tr><td>122</td><td>3</td><td>1</td></tr>",
                            "<tr><td>123</td><td>3</td><td>1</td></tr>",
                            "<tr><td>124</td><td>3</td><td>1</td></tr>",
                            "<tr><td>125</td><td>2</td><td>1</td></tr>",
                            "<tr><td>126</td><td>2</td><td>1</td></tr>",
                            "<tr><td>127</td><td>2</td><td>1</td></tr>",
                            "<tr><td>128</td><td>2</td><td>1</td></tr>",
                            "<tr><td>129</td><td>2</td><td>1</td></tr>",
                            "<tr><td>130</td><td>2</td><td>1</td></tr>",
                            "<tr><td>131</td><td>2</td><td>1</td></tr>",
                            "<tr><td>132</td><td>3</td><td>1</td></tr>",
                            "<tr><td>133</td><td>3</td><td>1</td></tr>",
                            "<tr><td>134</td><td>3</td><td>1</td></tr>",
                            "<tr><td>135</td><td>3</td><td>1</td></tr>",
                            "<tr><td>136</td><td>2</td><td>1</td></tr>",
                            "<tr><td>137</td><td>2</td><td>1</td></tr>",
                            "<tr><td>138</td><td>3</td><td>1</td></tr>",
                            "<tr><td>139</td><td>2</td><td>1</td></tr>",
                            "<tr><td>140</td><td>2</td><td>1</td></tr>",
                            "<tr><td>141</td><td>2</td><td>1</td></tr>",
                            "<tr><td>142</td><td>3</td><td>1</td></tr>",
                            "<tr><td>143</td><td>3</td><td>1</td></tr>",
                            "<tr><td>144</td><td>3</td><td>1</td></tr>",
                            "<tr><td>145</td><td>2</td><td>1</td></tr>",
                            "<tr><td>146</td><td>3</td><td>1</td></tr>",
                            "<tr><td>147</td><td>2</td><td>1</td></tr>",
                            "<tr><td>148</td><td>2</td><td>1</td></tr>",
                            "<tr><td>149</td><td>2</td><td>1</td></tr>",
                            "<tr><td>150</td><td>2</td><td>1</td></tr>",
                            "<tr><td>151</td><td>2</td><td>1</td></tr>",
                            "<tr><td>152</td><td>2</td><td>1</td></tr>",
                            "<tr><td>153</td><td>3</td><td>1</td></tr>",
                            "<tr><td>154</td><td>2</td><td>1</td></tr>",
                            "<tr><td>155</td><td>3</td><td>1</td></tr>",
                            "<tr><td>156</td><td>2</td><td>1</td></tr>",
                            "<tr><td>157</td><td>2</td><td>1</td></tr>",
                            "<tr><td>158</td><td>2</td><td>1</td></tr>",
                            "<tr><td>160</td><td>3</td><td>1</td></tr>",
                            "<tr><td>161</td><td>2</td><td>1</td></tr>",
                            "<tr><td>162</td><td>3</td><td>1</td></tr>",
                            "<tr><td>163</td><td>2</td><td>1</td></tr>",
                            "<tr><td>164</td><td>2</td><td>1</td></tr>",
                            "<tr><td>165</td><td>2</td><td>1</td></tr>",
                            "<tr><td>166</td><td>2</td><td>1</td></tr>",
                            "<tr><td>167</td><td>3</td><td>1</td></tr>",
                            "<tr><td>168</td><td>2</td><td>1</td></tr>",
                            "<tr><td>169</td><td>2</td><td>1</td></tr>",
                            "<tr><td>170</td><td>2</td><td>1</td></tr>",
                            "<tr><td>171</td><td>2</td><td>1</td></tr>",
                            "<tr><td>172</td><td>2</td><td>1</td></tr>",
                            "<tr><td>173</td><td>2</td><td>1</td></tr>",
                            "<tr><td>174</td><td>2</td><td>1</td></tr>",
                            "<tr><td>175</td><td>2</td><td>1</td></tr>",
                            "<tr><td>176</td><td>3</td><td>1</td></tr>",
                            "<tr><td>177</td><td>3</td><td>1</td></tr>",
                            "<tr><td>178</td><td>3</td><td>1</td></tr>",
                            "<tr><td>179</td><td>3</td><td>1</td></tr>",
                            "<tr><td>180</td><td>2</td><td>1</td></tr>",
                            "<tr><td>181</td><td>3</td><td>1</td></tr>",
                            "<tr><td>182</td><td>2</td><td>1</td></tr>",
                            "<tr><td>183</td><td>3</td><td>1</td></tr>",
                            "<tr><td>184</td><td>2</td><td>1</td></tr>",
                            "<tr><td>185</td><td>3</td><td>1</td></tr>",
                            "<tr><td>186</td><td>2</td><td>1</td></tr>",
                            "<tr><td>187</td><td>3</td><td>1</td></tr>",
                            "<tr><td>188</td><td>3</td><td>1</td></tr>",
                            "<tr><td>189</td><td>2</td><td>1</td></tr>",
                            "<tr><td>190</td><td>2</td><td>1</td></tr>",
                            "<tr><td>191</td><td>2</td><td>1</td></tr>",
                            "<tr><td>192</td><td>2</td><td>1</td></tr>",
                            "<tr><td>193</td><td>3</td><td>1</td></tr>",
                            "<tr><td>194</td><td>2</td><td>1</td></tr>",
                            "<tr><td>195</td><td>2</td><td>1</td></tr>",
                            "<tr><td>196</td><td>2</td><td>1</td></tr>",
                            "<tr><td>197</td><td>3</td><td>1</td></tr>",
                            "<tr><td>198</td><td>3</td><td>1</td></tr>",
                            "</table>"
                        ]
                    }
                }
            ],
            "execution_count": 37
        },
        {
            "cell_type": "markdown",
            "source": [
                ""
            ],
            "metadata": {
                "azdata_cell_guid": "12fb75d1-ed2a-4f9f-bbe3-f79be405f17a"
            }
        },
        {
            "cell_type": "code",
            "source": [
                "select foglalas.*, Vendeg.NEV, avg(FOGLALAS_PK) \t   \r\n",
                "OVER(PARTITION BY foglalas_pk ORDER BY FOGLALAS_PK\r\n",
                "\t   ROWS BETWEEN 3 PRECEDING AND 1 PRECEDING) as 'Előző három foglalás átlaga'\r\n",
                "from Foglalas JOIN Vendeg on Foglalas.UGYFEL_FK = Vendeg.USERNEV\r\n",
                "where FELNOTT_SZAM + GYERMEK_SZAM < (\r\n",
                "    select AVG( FELNOTT_SZAM + GYERMEK_SZAM)\r\n",
                "    from Foglalas\r\n",
                ")"
            ],
            "metadata": {
                "azdata_cell_guid": "b918f4e5-54f3-4468-aa15-a38d9ddb64b7",
                "language": "sql"
            },
            "outputs": [
{
    "output_type": "display_data",
    "data": {
        "text/html": "(147 rows affected)"
    },
    "metadata": {}
}, {
    "output_type": "display_data",
    "data": {
        "text/html": "Total execution time: 00:00:00.055"
    },
    "metadata": {}
}, {
    "output_type": "execute_result",
    "metadata": {},
    "execution_count": 43,
    "data": {
        "application/vnd.dataresource+json": {
            "schema": {
                "fields": [
                    {
                        "name": "FOGLALAS_PK"
                    },
                    {
                        "name": "UGYFEL_FK"
                    },
                    {
                        "name": "SZOBA_FK"
                    },
                    {
                        "name": "METTOL"
                    },
                    {
                        "name": "MEDDIG"
                    },
                    {
                        "name": "FELNOTT_SZAM"
                    },
                    {
                        "name": "GYERMEK_SZAM"
                    },
                    {
                        "name": "NEV"
                    },
                    {
                        "name": "Előző három foglalás átlaga"
                    }
                ]
            },
            "data": [
                {
                    "FOGLALAS_PK": "562",
                    "UGYFEL_FK": "PETERB",
                    "SZOBA_FK": "7",
                    "METTOL": "2016-04-06",
                    "MEDDIG": "2016-04-10",
                    "FELNOTT_SZAM": "1",
                    "GYERMEK_SZAM": "0",
                    "NEV": "Berendi Péter",
                    "Előző három foglalás átlaga": "NULL"
                },
                {
                    "FOGLALAS_PK": "567",
                    "UGYFEL_FK": "anett3",
                    "SZOBA_FK": "170",
                    "METTOL": "2016-04-10",
                    "MEDDIG": "2016-04-17",
                    "FELNOTT_SZAM": "1",
                    "GYERMEK_SZAM": "0",
                    "NEV": "Pivarcsi Anett",
                    "Előző három foglalás átlaga": "NULL"
                },
                {
                    "FOGLALAS_PK": "586",
                    "UGYFEL_FK": "BEATRIXS",
                    "SZOBA_FK": "107",
                    "METTOL": "2016-04-18",
                    "MEDDIG": "2016-04-24",
                    "FELNOTT_SZAM": "1",
                    "GYERMEK_SZAM": "0",
                    "NEV": "Szekendi Beatrix",
                    "Előző három foglalás átlaga": "NULL"
                },
                {
                    "FOGLALAS_PK": "587",
                    "UGYFEL_FK": "norbert2",
                    "SZOBA_FK": "123",
                    "METTOL": "2016-04-19",
                    "MEDDIG": "2016-04-26",
                    "FELNOTT_SZAM": "1",
                    "GYERMEK_SZAM": "0",
                    "NEV": "Hegedűs Norbert",
                    "Előző három foglalás átlaga": "NULL"
                },
                {
                    "FOGLALAS_PK": "600",
                    "UGYFEL_FK": "ANDRASE",
                    "SZOBA_FK": "190",
                    "METTOL": "2016-04-24",
                    "MEDDIG": "2016-05-01",
                    "FELNOTT_SZAM": "1",
                    "GYERMEK_SZAM": "0",
                    "NEV": "Erdei András",
                    "Előző három foglalás átlaga": "NULL"
                },
                {
                    "FOGLALAS_PK": "601",
                    "UGYFEL_FK": "kata",
                    "SZOBA_FK": "39",
                    "METTOL": "2016-04-25",
                    "MEDDIG": "2016-05-01",
                    "FELNOTT_SZAM": "1",
                    "GYERMEK_SZAM": "0",
                    "NEV": "Gondos Katalin",
                    "Előző három foglalás átlaga": "NULL"
                },
                {
                    "FOGLALAS_PK": "610",
                    "UGYFEL_FK": "VIKTORIAU",
                    "SZOBA_FK": "106",
                    "METTOL": "2016-04-30",
                    "MEDDIG": "2016-05-03",
                    "FELNOTT_SZAM": "1",
                    "GYERMEK_SZAM": "0",
                    "NEV": "Urbán Viktoria",
                    "Előző három foglalás átlaga": "NULL"
                },
                {
                    "FOGLALAS_PK": "620",
                    "UGYFEL_FK": "marton",
                    "SZOBA_FK": "1",
                    "METTOL": "2016-05-05",
                    "MEDDIG": "2016-05-10",
                    "FELNOTT_SZAM": "1",
                    "GYERMEK_SZAM": "0",
                    "NEV": "Kalacsi Márton",
                    "Előző három foglalás átlaga": "NULL"
                },
                {
                    "FOGLALAS_PK": "631",
                    "UGYFEL_FK": "JANOSG",
                    "SZOBA_FK": "98",
                    "METTOL": "2016-05-09",
                    "MEDDIG": "2016-05-15",
                    "FELNOTT_SZAM": "1",
                    "GYERMEK_SZAM": "0",
                    "NEV": "Giliga János",
                    "Előző három foglalás átlaga": "NULL"
                },
                {
                    "FOGLALAS_PK": "638",
                    "UGYFEL_FK": "julia",
                    "SZOBA_FK": "67",
                    "METTOL": "2016-05-12",
                    "MEDDIG": "2016-05-17",
                    "FELNOTT_SZAM": "1",
                    "GYERMEK_SZAM": "0",
                    "NEV": "Tóth Júlia",
                    "Előző három foglalás átlaga": "NULL"
                },
                {
                    "FOGLALAS_PK": "648",
                    "UGYFEL_FK": "krisztina1",
                    "SZOBA_FK": "157",
                    "METTOL": "2016-05-16",
                    "MEDDIG": "2016-05-20",
                    "FELNOTT_SZAM": "1",
                    "GYERMEK_SZAM": "0",
                    "NEV": "Bori Krisztina",
                    "Előző három foglalás átlaga": "NULL"
                },
                {
                    "FOGLALAS_PK": "651",
                    "UGYFEL_FK": "aladar",
                    "SZOBA_FK": "4",
                    "METTOL": "2016-05-17",
                    "MEDDIG": "2016-05-24",
                    "FELNOTT_SZAM": "1",
                    "GYERMEK_SZAM": "0",
                    "NEV": "Dunai Aladár",
                    "Előző három foglalás átlaga": "NULL"
                },
                {
                    "FOGLALAS_PK": "652",
                    "UGYFEL_FK": "maria1",
                    "SZOBA_FK": "149",
                    "METTOL": "2016-05-18",
                    "MEDDIG": "2016-05-19",
                    "FELNOTT_SZAM": "1",
                    "GYERMEK_SZAM": "0",
                    "NEV": "Baráth Mária",
                    "Előző három foglalás átlaga": "NULL"
                },
                {
                    "FOGLALAS_PK": "657",
                    "UGYFEL_FK": "attila1",
                    "SZOBA_FK": "137",
                    "METTOL": "2016-05-20",
                    "MEDDIG": "2016-05-26",
                    "FELNOTT_SZAM": "1",
                    "GYERMEK_SZAM": "0",
                    "NEV": "Gulyás Attila",
                    "Előző három foglalás átlaga": "NULL"
                },
                {
                    "FOGLALAS_PK": "661",
                    "UGYFEL_FK": "katalin",
                    "SZOBA_FK": "136",
                    "METTOL": "2016-05-21",
                    "MEDDIG": "2016-05-26",
                    "FELNOTT_SZAM": "1",
                    "GYERMEK_SZAM": "0",
                    "NEV": "Horváth Katalin",
                    "Előző három foglalás átlaga": "NULL"
                },
                {
                    "FOGLALAS_PK": "669",
                    "UGYFEL_FK": "tunde",
                    "SZOBA_FK": "173",
                    "METTOL": "2016-07-14",
                    "MEDDIG": "2016-07-21",
                    "FELNOTT_SZAM": "1",
                    "GYERMEK_SZAM": "0",
                    "NEV": "Turcsik Tünde",
                    "Előző három foglalás átlaga": "NULL"
                },
                {
                    "FOGLALAS_PK": "684",
                    "UGYFEL_FK": "ANNAMARIAR",
                    "SZOBA_FK": "184",
                    "METTOL": "2016-07-18",
                    "MEDDIG": "2016-07-21",
                    "FELNOTT_SZAM": "1",
                    "GYERMEK_SZAM": "0",
                    "NEV": "Regős Annamária",
                    "Előző három foglalás átlaga": "NULL"
                },
                {
                    "FOGLALAS_PK": "689",
                    "UGYFEL_FK": "istvan1",
                    "SZOBA_FK": "102",
                    "METTOL": "2016-07-19",
                    "MEDDIG": "2016-07-24",
                    "FELNOTT_SZAM": "1",
                    "GYERMEK_SZAM": "0",
                    "NEV": "Vizi István",
                    "Előző három foglalás átlaga": "NULL"
                },
                {
                    "FOGLALAS_PK": "697",
                    "UGYFEL_FK": "andras21",
                    "SZOBA_FK": "12",
                    "METTOL": "2016-07-20",
                    "MEDDIG": "2016-07-22",
                    "FELNOTT_SZAM": "1",
                    "GYERMEK_SZAM": "0",
                    "NEV": "Molnár András",
                    "Előző három foglalás átlaga": "NULL"
                },
                {
                    "FOGLALAS_PK": "702",
                    "UGYFEL_FK": "balint2",
                    "SZOBA_FK": "62",
                    "METTOL": "2016-07-21",
                    "MEDDIG": "2016-07-26",
                    "FELNOTT_SZAM": "1",
                    "GYERMEK_SZAM": "0",
                    "NEV": "Vukasinovity Bálint",
                    "Előző három foglalás átlaga": "NULL"
                },
                {
                    "FOGLALAS_PK": "705",
                    "UGYFEL_FK": "akos",
                    "SZOBA_FK": "37",
                    "METTOL": "2016-07-22",
                    "MEDDIG": "2016-07-26",
                    "FELNOTT_SZAM": "1",
                    "GYERMEK_SZAM": "0",
                    "NEV": "Bíró Ákos",
                    "Előző három foglalás átlaga": "NULL"
                },
                {
                    "FOGLALAS_PK": "708",
                    "UGYFEL_FK": "MONIKAM",
                    "SZOBA_FK": "106",
                    "METTOL": "2016-07-23",
                    "MEDDIG": "2016-07-30",
                    "FELNOTT_SZAM": "1",
                    "GYERMEK_SZAM": "0",
                    "NEV": "Mohos Mónika",
                    "Előző három foglalás átlaga": "NULL"
                },
                {
                    "FOGLALAS_PK": "709",
                    "UGYFEL_FK": "valentin",
                    "SZOBA_FK": "172",
                    "METTOL": "2016-07-24",
                    "MEDDIG": "2016-07-29",
                    "FELNOTT_SZAM": "1",
                    "GYERMEK_SZAM": "0",
                    "NEV": "Feró Valentin",
                    "Előző három foglalás átlaga": "NULL"
                },
                {
                    "FOGLALAS_PK": "733",
                    "UGYFEL_FK": "katalin",
                    "SZOBA_FK": "140",
                    "METTOL": "2016-07-28",
                    "MEDDIG": "2016-07-29",
                    "FELNOTT_SZAM": "1",
                    "GYERMEK_SZAM": "0",
                    "NEV": "Horváth Katalin",
                    "Előző három foglalás átlaga": "NULL"
                },
                {
                    "FOGLALAS_PK": "755",
                    "UGYFEL_FK": "agnes3",
                    "SZOBA_FK": "20",
                    "METTOL": "2016-08-04",
                    "MEDDIG": "2016-08-10",
                    "FELNOTT_SZAM": "1",
                    "GYERMEK_SZAM": "0",
                    "NEV": "Hartyánszky Ágnes",
                    "Előző három foglalás átlaga": "NULL"
                },
                {
                    "FOGLALAS_PK": "757",
                    "UGYFEL_FK": "david",
                    "SZOBA_FK": "88",
                    "METTOL": "2016-08-05",
                    "MEDDIG": "2016-08-12",
                    "FELNOTT_SZAM": "1",
                    "GYERMEK_SZAM": "0",
                    "NEV": "Ambrus Dávid",
                    "Előző három foglalás átlaga": "NULL"
                },
                {
                    "FOGLALAS_PK": "779",
                    "UGYFEL_FK": "zoltan4",
                    "SZOBA_FK": "130",
                    "METTOL": "2016-08-15",
                    "MEDDIG": "2016-08-21",
                    "FELNOTT_SZAM": "1",
                    "GYERMEK_SZAM": "0",
                    "NEV": "Barna Zoltán",
                    "Előző három foglalás átlaga": "NULL"
                },
                {
                    "FOGLALAS_PK": "781",
                    "UGYFEL_FK": "PETERB",
                    "SZOBA_FK": "166",
                    "METTOL": "2016-08-16",
                    "MEDDIG": "2016-08-23",
                    "FELNOTT_SZAM": "1",
                    "GYERMEK_SZAM": "0",
                    "NEV": "Berendi Péter",
                    "Előző három foglalás átlaga": "NULL"
                },
                {
                    "FOGLALAS_PK": "782",
                    "UGYFEL_FK": "norbert2",
                    "SZOBA_FK": "163",
                    "METTOL": "2016-08-16",
                    "MEDDIG": "2016-08-19",
                    "FELNOTT_SZAM": "1",
                    "GYERMEK_SZAM": "0",
                    "NEV": "Hegedűs Norbert",
                    "Előző három foglalás átlaga": "NULL"
                },
                {
                    "FOGLALAS_PK": "787",
                    "UGYFEL_FK": "krisztian4",
                    "SZOBA_FK": "50",
                    "METTOL": "2016-08-16",
                    "MEDDIG": "2016-08-19",
                    "FELNOTT_SZAM": "1",
                    "GYERMEK_SZAM": "0",
                    "NEV": "Czérna Krisztián",
                    "Előző három foglalás átlaga": "NULL"
                },
                {
                    "FOGLALAS_PK": "790",
                    "UGYFEL_FK": "veronika4",
                    "SZOBA_FK": "10",
                    "METTOL": "2016-08-16",
                    "MEDDIG": "2016-08-21",
                    "FELNOTT_SZAM": "1",
                    "GYERMEK_SZAM": "0",
                    "NEV": "Tankó Veronika",
                    "Előző három foglalás átlaga": "NULL"
                },
                {
                    "FOGLALAS_PK": "799",
                    "UGYFEL_FK": "andras41",
                    "SZOBA_FK": "175",
                    "METTOL": "2016-08-19",
                    "MEDDIG": "2016-08-23",
                    "FELNOTT_SZAM": "1",
                    "GYERMEK_SZAM": "0",
                    "NEV": "Komjáti András",
                    "Előző három foglalás átlaga": "NULL"
                },
                {
                    "FOGLALAS_PK": "803",
                    "UGYFEL_FK": "adam1",
                    "SZOBA_FK": "1",
                    "METTOL": "2016-08-20",
                    "MEDDIG": "2016-08-24",
                    "FELNOTT_SZAM": "1",
                    "GYERMEK_SZAM": "0",
                    "NEV": "Kiss Ádám",
                    "Előző három foglalás átlaga": "NULL"
                },
                {
                    "FOGLALAS_PK": "818",
                    "UGYFEL_FK": "henrik3",
                    "SZOBA_FK": "8",
                    "METTOL": "2016-08-24",
                    "MEDDIG": "2016-08-28",
                    "FELNOTT_SZAM": "1",
                    "GYERMEK_SZAM": "0",
                    "NEV": "Nádudvari Henrik",
                    "Előző három foglalás átlaga": "NULL"
                },
                {
                    "FOGLALAS_PK": "834",
                    "UGYFEL_FK": "krisztian4",
                    "SZOBA_FK": "149",
                    "METTOL": "2016-08-29",
                    "MEDDIG": "2016-09-03",
                    "FELNOTT_SZAM": "1",
                    "GYERMEK_SZAM": "0",
                    "NEV": "Czérna Krisztián",
                    "Előző három foglalás átlaga": "NULL"
                },
                {
                    "FOGLALAS_PK": "839",
                    "UGYFEL_FK": "MIHALYJ",
                    "SZOBA_FK": "172",
                    "METTOL": "2016-08-29",
                    "MEDDIG": "2016-09-03",
                    "FELNOTT_SZAM": "1",
                    "GYERMEK_SZAM": "0",
                    "NEV": "Juhász Mihály",
                    "Előző három foglalás átlaga": "NULL"
                },
                {
                    "FOGLALAS_PK": "845",
                    "UGYFEL_FK": "eva2",
                    "SZOBA_FK": "63",
                    "METTOL": "2016-09-02",
                    "MEDDIG": "2016-09-03",
                    "FELNOTT_SZAM": "1",
                    "GYERMEK_SZAM": "0",
                    "NEV": "Perlinger Éva",
                    "Előző három foglalás átlaga": "NULL"
                },
                {
                    "FOGLALAS_PK": "846",
                    "UGYFEL_FK": "maria1",
                    "SZOBA_FK": "45",
                    "METTOL": "2016-09-02",
                    "MEDDIG": "2016-09-05",
                    "FELNOTT_SZAM": "1",
                    "GYERMEK_SZAM": "0",
                    "NEV": "Baráth Mária",
                    "Előző három foglalás átlaga": "NULL"
                },
                {
                    "FOGLALAS_PK": "852",
                    "UGYFEL_FK": "JOZSEFG",
                    "SZOBA_FK": "24",
                    "METTOL": "2016-05-23",
                    "MEDDIG": "2016-05-25",
                    "FELNOTT_SZAM": "1",
                    "GYERMEK_SZAM": "0",
                    "NEV": "Gyuris József",
                    "Előző három foglalás átlaga": "NULL"
                },
                {
                    "FOGLALAS_PK": "854",
                    "UGYFEL_FK": "KRISZTINAG",
                    "SZOBA_FK": "167",
                    "METTOL": "2016-05-24",
                    "MEDDIG": "2016-05-31",
                    "FELNOTT_SZAM": "1",
                    "GYERMEK_SZAM": "0",
                    "NEV": "Gyárfás Krisztina",
                    "Előző három foglalás átlaga": "NULL"
                },
                {
                    "FOGLALAS_PK": "857",
                    "UGYFEL_FK": "agnes",
                    "SZOBA_FK": "165",
                    "METTOL": "2016-05-25",
                    "MEDDIG": "2016-05-30",
                    "FELNOTT_SZAM": "1",
                    "GYERMEK_SZAM": "0",
                    "NEV": "Lengyel Ágnes",
                    "Előző három foglalás átlaga": "NULL"
                },
                {
                    "FOGLALAS_PK": "858",
                    "UGYFEL_FK": "sandor3",
                    "SZOBA_FK": "121",
                    "METTOL": "2016-05-25",
                    "MEDDIG": "2016-05-30",
                    "FELNOTT_SZAM": "1",
                    "GYERMEK_SZAM": "0",
                    "NEV": "Farkas Sándor",
                    "Előző három foglalás átlaga": "NULL"
                },
                {
                    "FOGLALAS_PK": "860",
                    "UGYFEL_FK": "andrea4",
                    "SZOBA_FK": "70",
                    "METTOL": "2016-05-27",
                    "MEDDIG": "2016-05-29",
                    "FELNOTT_SZAM": "1",
                    "GYERMEK_SZAM": "0",
                    "NEV": "Neizer Andrea",
                    "Előző három foglalás átlaga": "NULL"
                },
                {
                    "FOGLALAS_PK": "867",
                    "UGYFEL_FK": "ZSOLTJ",
                    "SZOBA_FK": "175",
                    "METTOL": "2016-05-28",
                    "MEDDIG": "2016-06-03",
                    "FELNOTT_SZAM": "1",
                    "GYERMEK_SZAM": "0",
                    "NEV": "Józsa Zsolt",
                    "Előző három foglalás átlaga": "NULL"
                },
                {
                    "FOGLALAS_PK": "872",
                    "UGYFEL_FK": "bence",
                    "SZOBA_FK": "28",
                    "METTOL": "2016-05-29",
                    "MEDDIG": "2016-06-03",
                    "FELNOTT_SZAM": "1",
                    "GYERMEK_SZAM": "0",
                    "NEV": "Győrffy Bence",
                    "Előző három foglalás átlaga": "NULL"
                },
                {
                    "FOGLALAS_PK": "878",
                    "UGYFEL_FK": "gabor4",
                    "SZOBA_FK": "83",
                    "METTOL": "2016-05-30",
                    "MEDDIG": "2016-06-05",
                    "FELNOTT_SZAM": "1",
                    "GYERMEK_SZAM": "0",
                    "NEV": "Telek Gábor",
                    "Előző három foglalás átlaga": "NULL"
                },
                {
                    "FOGLALAS_PK": "880",
                    "UGYFEL_FK": "andras3",
                    "SZOBA_FK": "184",
                    "METTOL": "2016-05-30",
                    "MEDDIG": "2016-06-03",
                    "FELNOTT_SZAM": "1",
                    "GYERMEK_SZAM": "0",
                    "NEV": "Vígh András",
                    "Előző három foglalás átlaga": "NULL"
                },
                {
                    "FOGLALAS_PK": "881",
                    "UGYFEL_FK": "tihamer",
                    "SZOBA_FK": "131",
                    "METTOL": "2016-05-30",
                    "MEDDIG": "2016-06-05",
                    "FELNOTT_SZAM": "1",
                    "GYERMEK_SZAM": "0",
                    "NEV": "Kazy Tihamér",
                    "Előző három foglalás átlaga": "NULL"
                },
                {
                    "FOGLALAS_PK": "884",
                    "UGYFEL_FK": "andras2",
                    "SZOBA_FK": "98",
                    "METTOL": "2016-05-30",
                    "MEDDIG": "2016-06-04",
                    "FELNOTT_SZAM": "1",
                    "GYERMEK_SZAM": "0",
                    "NEV": "Tóth András",
                    "Előző három foglalás átlaga": "NULL"
                },
                {
                    "FOGLALAS_PK": "891",
                    "UGYFEL_FK": "MATYASS",
                    "SZOBA_FK": "63",
                    "METTOL": "2016-06-02",
                    "MEDDIG": "2016-06-08",
                    "FELNOTT_SZAM": "1",
                    "GYERMEK_SZAM": "0",
                    "NEV": "Szilágyi Mátyás",
                    "Előző három foglalás átlaga": "NULL"
                },
                {
                    "FOGLALAS_PK": "892",
                    "UGYFEL_FK": "LASZLON",
                    "SZOBA_FK": "165",
                    "METTOL": "2016-06-03",
                    "MEDDIG": "2016-06-06",
                    "FELNOTT_SZAM": "1",
                    "GYERMEK_SZAM": "0",
                    "NEV": "Nagy László",
                    "Előző három foglalás átlaga": "NULL"
                },
                {
                    "FOGLALAS_PK": "893",
                    "UGYFEL_FK": "zoltan4",
                    "SZOBA_FK": "151",
                    "METTOL": "2016-06-03",
                    "MEDDIG": "2016-06-06",
                    "FELNOTT_SZAM": "1",
                    "GYERMEK_SZAM": "0",
                    "NEV": "Barna Zoltán",
                    "Előző három foglalás átlaga": "NULL"
                },
                {
                    "FOGLALAS_PK": "897",
                    "UGYFEL_FK": "nikolett3",
                    "SZOBA_FK": "165",
                    "METTOL": "2016-06-03",
                    "MEDDIG": "2016-06-09",
                    "FELNOTT_SZAM": "1",
                    "GYERMEK_SZAM": "0",
                    "NEV": "Horváth Nikolett",
                    "Előző három foglalás átlaga": "NULL"
                },
                {
                    "FOGLALAS_PK": "904",
                    "UGYFEL_FK": "janos3",
                    "SZOBA_FK": "34",
                    "METTOL": "2016-06-04",
                    "MEDDIG": "2016-06-06",
                    "FELNOTT_SZAM": "1",
                    "GYERMEK_SZAM": "0",
                    "NEV": "Harangozó János",
                    "Előző három foglalás átlaga": "NULL"
                },
                {
                    "FOGLALAS_PK": "923",
                    "UGYFEL_FK": "LASZLOA",
                    "SZOBA_FK": "123",
                    "METTOL": "2016-06-07",
                    "MEDDIG": "2016-06-11",
                    "FELNOTT_SZAM": "1",
                    "GYERMEK_SZAM": "0",
                    "NEV": "Antal László",
                    "Előző három foglalás átlaga": "NULL"
                },
                {
                    "FOGLALAS_PK": "935",
                    "UGYFEL_FK": "KRISZTINAG",
                    "SZOBA_FK": "56",
                    "METTOL": "2016-06-08",
                    "MEDDIG": "2016-06-12",
                    "FELNOTT_SZAM": "1",
                    "GYERMEK_SZAM": "0",
                    "NEV": "Gyárfás Krisztina",
                    "Előző három foglalás átlaga": "NULL"
                },
                {
                    "FOGLALAS_PK": "945",
                    "UGYFEL_FK": "GYONGYIK",
                    "SZOBA_FK": "23",
                    "METTOL": "2016-06-10",
                    "MEDDIG": "2016-06-17",
                    "FELNOTT_SZAM": "1",
                    "GYERMEK_SZAM": "0",
                    "NEV": "Kornseé Gyöngyi",
                    "Előző három foglalás átlaga": "NULL"
                },
                {
                    "FOGLALAS_PK": "948",
                    "UGYFEL_FK": "balint1",
                    "SZOBA_FK": "19",
                    "METTOL": "2016-06-10",
                    "MEDDIG": "2016-06-12",
                    "FELNOTT_SZAM": "1",
                    "GYERMEK_SZAM": "0",
                    "NEV": "Molnár Bálint",
                    "Előző három foglalás átlaga": "NULL"
                },
                {
                    "FOGLALAS_PK": "949",
                    "UGYFEL_FK": "andras3",
                    "SZOBA_FK": "1",
                    "METTOL": "2016-06-10",
                    "MEDDIG": "2016-06-11",
                    "FELNOTT_SZAM": "1",
                    "GYERMEK_SZAM": "0",
                    "NEV": "Vígh András",
                    "Előző három foglalás átlaga": "NULL"
                },
                {
                    "FOGLALAS_PK": "954",
                    "UGYFEL_FK": "katka",
                    "SZOBA_FK": "84",
                    "METTOL": "2016-06-13",
                    "MEDDIG": "2016-06-18",
                    "FELNOTT_SZAM": "1",
                    "GYERMEK_SZAM": "0",
                    "NEV": "Kovács Katalin",
                    "Előző három foglalás átlaga": "NULL"
                },
                {
                    "FOGLALAS_PK": "955",
                    "UGYFEL_FK": "andi",
                    "SZOBA_FK": "47",
                    "METTOL": "2016-06-13",
                    "MEDDIG": "2016-06-14",
                    "FELNOTT_SZAM": "1",
                    "GYERMEK_SZAM": "0",
                    "NEV": "Maródi Andrea",
                    "Előző három foglalás átlaga": "NULL"
                },
                {
                    "FOGLALAS_PK": "965",
                    "UGYFEL_FK": "ANIKOS",
                    "SZOBA_FK": "5",
                    "METTOL": "2016-06-16",
                    "MEDDIG": "2016-06-23",
                    "FELNOTT_SZAM": "1",
                    "GYERMEK_SZAM": "0",
                    "NEV": "Simon Anikó",
                    "Előző három foglalás átlaga": "NULL"
                },
                {
                    "FOGLALAS_PK": "974",
                    "UGYFEL_FK": "bertalan",
                    "SZOBA_FK": "169",
                    "METTOL": "2016-06-20",
                    "MEDDIG": "2016-06-21",
                    "FELNOTT_SZAM": "1",
                    "GYERMEK_SZAM": "0",
                    "NEV": "Csiger Bertalan",
                    "Előző három foglalás átlaga": "NULL"
                },
                {
                    "FOGLALAS_PK": "976",
                    "UGYFEL_FK": "nikolett3",
                    "SZOBA_FK": "76",
                    "METTOL": "2016-06-22",
                    "MEDDIG": "2016-06-24",
                    "FELNOTT_SZAM": "1",
                    "GYERMEK_SZAM": "0",
                    "NEV": "Horváth Nikolett",
                    "Előző három foglalás átlaga": "NULL"
                },
                {
                    "FOGLALAS_PK": "980",
                    "UGYFEL_FK": "AGNESH",
                    "SZOBA_FK": "143",
                    "METTOL": "2016-06-23",
                    "MEDDIG": "2016-06-26",
                    "FELNOTT_SZAM": "1",
                    "GYERMEK_SZAM": "0",
                    "NEV": "Horváth Ágnes",
                    "Előző három foglalás átlaga": "NULL"
                },
                {
                    "FOGLALAS_PK": "981",
                    "UGYFEL_FK": "maria1",
                    "SZOBA_FK": "171",
                    "METTOL": "2016-06-23",
                    "MEDDIG": "2016-06-27",
                    "FELNOTT_SZAM": "1",
                    "GYERMEK_SZAM": "0",
                    "NEV": "Baráth Mária",
                    "Előző három foglalás átlaga": "NULL"
                },
                {
                    "FOGLALAS_PK": "990",
                    "UGYFEL_FK": "MIHALYJ",
                    "SZOBA_FK": "6",
                    "METTOL": "2016-06-27",
                    "MEDDIG": "2016-07-01",
                    "FELNOTT_SZAM": "1",
                    "GYERMEK_SZAM": "0",
                    "NEV": "Juhász Mihály",
                    "Előző három foglalás átlaga": "NULL"
                },
                {
                    "FOGLALAS_PK": "997",
                    "UGYFEL_FK": "katalin4",
                    "SZOBA_FK": "82",
                    "METTOL": "2016-07-01",
                    "MEDDIG": "2016-07-07",
                    "FELNOTT_SZAM": "1",
                    "GYERMEK_SZAM": "0",
                    "NEV": "Kertész Katalin",
                    "Előző három foglalás átlaga": "NULL"
                },
                {
                    "FOGLALAS_PK": "1001",
                    "UGYFEL_FK": "aniko4",
                    "SZOBA_FK": "4",
                    "METTOL": "2016-07-02",
                    "MEDDIG": "2016-07-09",
                    "FELNOTT_SZAM": "1",
                    "GYERMEK_SZAM": "0",
                    "NEV": "Böröcz Anikó",
                    "Előző három foglalás átlaga": "NULL"
                },
                {
                    "FOGLALAS_PK": "1005",
                    "UGYFEL_FK": "beata4",
                    "SZOBA_FK": "22",
                    "METTOL": "2016-07-03",
                    "MEDDIG": "2016-07-06",
                    "FELNOTT_SZAM": "1",
                    "GYERMEK_SZAM": "0",
                    "NEV": "Bagi Beáta",
                    "Előző három foglalás átlaga": "NULL"
                },
                {
                    "FOGLALAS_PK": "1006",
                    "UGYFEL_FK": "kata",
                    "SZOBA_FK": "70",
                    "METTOL": "2016-07-03",
                    "MEDDIG": "2016-07-06",
                    "FELNOTT_SZAM": "1",
                    "GYERMEK_SZAM": "0",
                    "NEV": "Gondos Katalin",
                    "Előző három foglalás átlaga": "NULL"
                },
                {
                    "FOGLALAS_PK": "1015",
                    "UGYFEL_FK": "katalin",
                    "SZOBA_FK": "174",
                    "METTOL": "2016-07-06",
                    "MEDDIG": "2016-07-11",
                    "FELNOTT_SZAM": "1",
                    "GYERMEK_SZAM": "0",
                    "NEV": "Horváth Katalin",
                    "Előző három foglalás átlaga": "NULL"
                },
                {
                    "FOGLALAS_PK": "1017",
                    "UGYFEL_FK": "eszter2",
                    "SZOBA_FK": "190",
                    "METTOL": "2016-07-08",
                    "MEDDIG": "2016-07-09",
                    "FELNOTT_SZAM": "1",
                    "GYERMEK_SZAM": "0",
                    "NEV": "Balogh Eszter",
                    "Előző három foglalás átlaga": "NULL"
                },
                {
                    "FOGLALAS_PK": "1018",
                    "UGYFEL_FK": "norbert",
                    "SZOBA_FK": "40",
                    "METTOL": "2016-07-08",
                    "MEDDIG": "2016-07-13",
                    "FELNOTT_SZAM": "1",
                    "GYERMEK_SZAM": "0",
                    "NEV": "Szűcs Norbert",
                    "Előző három foglalás átlaga": "NULL"
                },
                {
                    "FOGLALAS_PK": "1026",
                    "UGYFEL_FK": "gabor1",
                    "SZOBA_FK": "119",
                    "METTOL": "2016-07-12",
                    "MEDDIG": "2016-07-15",
                    "FELNOTT_SZAM": "1",
                    "GYERMEK_SZAM": "0",
                    "NEV": "Köves Gábor",
                    "Előző három foglalás átlaga": "NULL"
                },
                {
                    "FOGLALAS_PK": "1034",
                    "UGYFEL_FK": "akos",
                    "SZOBA_FK": "127",
                    "METTOL": "2016-09-06",
                    "MEDDIG": "2016-09-12",
                    "FELNOTT_SZAM": "1",
                    "GYERMEK_SZAM": "0",
                    "NEV": "Bíró Ákos",
                    "Előző három foglalás átlaga": "NULL"
                },
                {
                    "FOGLALAS_PK": "1048",
                    "UGYFEL_FK": "krisztina",
                    "SZOBA_FK": "95",
                    "METTOL": "2016-09-13",
                    "MEDDIG": "2016-09-16",
                    "FELNOTT_SZAM": "1",
                    "GYERMEK_SZAM": "0",
                    "NEV": "Szedlár Krisztina",
                    "Előző három foglalás átlaga": "NULL"
                },
                {
                    "FOGLALAS_PK": "1056",
                    "UGYFEL_FK": "ARPADH",
                    "SZOBA_FK": "47",
                    "METTOL": "2016-09-16",
                    "MEDDIG": "2016-09-23",
                    "FELNOTT_SZAM": "1",
                    "GYERMEK_SZAM": "0",
                    "NEV": "Horváth Árpád",
                    "Előző három foglalás átlaga": "NULL"
                },
                {
                    "FOGLALAS_PK": "1057",
                    "UGYFEL_FK": "balint1",
                    "SZOBA_FK": "86",
                    "METTOL": "2016-09-16",
                    "MEDDIG": "2016-09-21",
                    "FELNOTT_SZAM": "1",
                    "GYERMEK_SZAM": "0",
                    "NEV": "Molnár Bálint",
                    "Előző három foglalás átlaga": "NULL"
                },
                {
                    "FOGLALAS_PK": "1066",
                    "UGYFEL_FK": "ARPADH",
                    "SZOBA_FK": "49",
                    "METTOL": "2016-09-18",
                    "MEDDIG": "2016-09-25",
                    "FELNOTT_SZAM": "1",
                    "GYERMEK_SZAM": "0",
                    "NEV": "Horváth Árpád",
                    "Előző három foglalás átlaga": "NULL"
                },
                {
                    "FOGLALAS_PK": "1074",
                    "UGYFEL_FK": "andras41",
                    "SZOBA_FK": "195",
                    "METTOL": "2016-09-22",
                    "MEDDIG": "2016-09-29",
                    "FELNOTT_SZAM": "1",
                    "GYERMEK_SZAM": "0",
                    "NEV": "Komjáti András",
                    "Előző három foglalás átlaga": "NULL"
                },
                {
                    "FOGLALAS_PK": "1079",
                    "UGYFEL_FK": "aladar",
                    "SZOBA_FK": "86",
                    "METTOL": "2016-09-24",
                    "MEDDIG": "2016-09-28",
                    "FELNOTT_SZAM": "1",
                    "GYERMEK_SZAM": "0",
                    "NEV": "Dunai Aladár",
                    "Előző három foglalás átlaga": "NULL"
                },
                {
                    "FOGLALAS_PK": "1102",
                    "UGYFEL_FK": "dani",
                    "SZOBA_FK": "108",
                    "METTOL": "2016-10-01",
                    "MEDDIG": "2016-10-02",
                    "FELNOTT_SZAM": "1",
                    "GYERMEK_SZAM": "0",
                    "NEV": "Vörös Dániel",
                    "Előző három foglalás átlaga": "NULL"
                },
                {
                    "FOGLALAS_PK": "1103",
                    "UGYFEL_FK": "vivien3",
                    "SZOBA_FK": "87",
                    "METTOL": "2016-10-01",
                    "MEDDIG": "2016-10-04",
                    "FELNOTT_SZAM": "1",
                    "GYERMEK_SZAM": "0",
                    "NEV": "Boros Vivien",
                    "Előző három foglalás átlaga": "NULL"
                },
                {
                    "FOGLALAS_PK": "1109",
                    "UGYFEL_FK": "eszter2",
                    "SZOBA_FK": "110",
                    "METTOL": "2016-10-01",
                    "MEDDIG": "2016-10-06",
                    "FELNOTT_SZAM": "1",
                    "GYERMEK_SZAM": "0",
                    "NEV": "Balogh Eszter",
                    "Előző három foglalás átlaga": "NULL"
                },
                {
                    "FOGLALAS_PK": "1112",
                    "UGYFEL_FK": "beata4",
                    "SZOBA_FK": "155",
                    "METTOL": "2016-10-01",
                    "MEDDIG": "2016-10-05",
                    "FELNOTT_SZAM": "1",
                    "GYERMEK_SZAM": "0",
                    "NEV": "Bagi Beáta",
                    "Előző három foglalás átlaga": "NULL"
                },
                {
                    "FOGLALAS_PK": "1134",
                    "UGYFEL_FK": "miklos2",
                    "SZOBA_FK": "126",
                    "METTOL": "2016-10-08",
                    "MEDDIG": "2016-10-09",
                    "FELNOTT_SZAM": "1",
                    "GYERMEK_SZAM": "0",
                    "NEV": "Gondos Miklós",
                    "Előző három foglalás átlaga": "NULL"
                },
                {
                    "FOGLALAS_PK": "1136",
                    "UGYFEL_FK": "LASZLON",
                    "SZOBA_FK": "30",
                    "METTOL": "2016-10-09",
                    "MEDDIG": "2016-10-14",
                    "FELNOTT_SZAM": "1",
                    "GYERMEK_SZAM": "0",
                    "NEV": "Nagy László",
                    "Előző három foglalás átlaga": "NULL"
                },
                {
                    "FOGLALAS_PK": "1154",
                    "UGYFEL_FK": "attila",
                    "SZOBA_FK": "115",
                    "METTOL": "2016-10-15",
                    "MEDDIG": "2016-10-19",
                    "FELNOTT_SZAM": "1",
                    "GYERMEK_SZAM": "0",
                    "NEV": "Csóti Attila",
                    "Előző három foglalás átlaga": "NULL"
                },
                {
                    "FOGLALAS_PK": "1156",
                    "UGYFEL_FK": "sandor4",
                    "SZOBA_FK": "140",
                    "METTOL": "2016-10-15",
                    "MEDDIG": "2016-10-18",
                    "FELNOTT_SZAM": "1",
                    "GYERMEK_SZAM": "0",
                    "NEV": "Nagy Sándor",
                    "Előző három foglalás átlaga": "NULL"
                },
                {
                    "FOGLALAS_PK": "1159",
                    "UGYFEL_FK": "anett3",
                    "SZOBA_FK": "73",
                    "METTOL": "2016-10-16",
                    "MEDDIG": "2016-10-21",
                    "FELNOTT_SZAM": "1",
                    "GYERMEK_SZAM": "0",
                    "NEV": "Pivarcsi Anett",
                    "Előző három foglalás átlaga": "NULL"
                },
                {
                    "FOGLALAS_PK": "1169",
                    "UGYFEL_FK": "gabor1",
                    "SZOBA_FK": "93",
                    "METTOL": "2016-10-20",
                    "MEDDIG": "2016-10-24",
                    "FELNOTT_SZAM": "1",
                    "GYERMEK_SZAM": "0",
                    "NEV": "Köves Gábor",
                    "Előző három foglalás átlaga": "NULL"
                },
                {
                    "FOGLALAS_PK": "1171",
                    "UGYFEL_FK": "eszter2",
                    "SZOBA_FK": "172",
                    "METTOL": "2016-10-20",
                    "MEDDIG": "2016-10-25",
                    "FELNOTT_SZAM": "1",
                    "GYERMEK_SZAM": "0",
                    "NEV": "Balogh Eszter",
                    "Előző három foglalás átlaga": "NULL"
                },
                {
                    "FOGLALAS_PK": "1172",
                    "UGYFEL_FK": "mark",
                    "SZOBA_FK": "197",
                    "METTOL": "2016-10-20",
                    "MEDDIG": "2016-10-27",
                    "FELNOTT_SZAM": "1",
                    "GYERMEK_SZAM": "0",
                    "NEV": "Kispál Márk",
                    "Előző három foglalás átlaga": "NULL"
                },
                {
                    "FOGLALAS_PK": "1177",
                    "UGYFEL_FK": "janos3",
                    "SZOBA_FK": "150",
                    "METTOL": "2016-10-22",
                    "MEDDIG": "2016-10-23",
                    "FELNOTT_SZAM": "1",
                    "GYERMEK_SZAM": "0",
                    "NEV": "Harangozó János",
                    "Előző három foglalás átlaga": "NULL"
                },
                {
                    "FOGLALAS_PK": "1186",
                    "UGYFEL_FK": "ROBERTI",
                    "SZOBA_FK": "58",
                    "METTOL": "2016-10-23",
                    "MEDDIG": "2016-10-29",
                    "FELNOTT_SZAM": "1",
                    "GYERMEK_SZAM": "0",
                    "NEV": "Iván Róbert",
                    "Előző három foglalás átlaga": "NULL"
                },
                {
                    "FOGLALAS_PK": "1187",
                    "UGYFEL_FK": "eszter2",
                    "SZOBA_FK": "46",
                    "METTOL": "2016-10-23",
                    "MEDDIG": "2016-10-30",
                    "FELNOTT_SZAM": "1",
                    "GYERMEK_SZAM": "0",
                    "NEV": "Balogh Eszter",
                    "Előző három foglalás átlaga": "NULL"
                },
                {
                    "FOGLALAS_PK": "1190",
                    "UGYFEL_FK": "MATYASS",
                    "SZOBA_FK": "161",
                    "METTOL": "2016-10-24",
                    "MEDDIG": "2016-10-31",
                    "FELNOTT_SZAM": "1",
                    "GYERMEK_SZAM": "0",
                    "NEV": "Szilágyi Mátyás",
                    "Előző három foglalás átlaga": "NULL"
                },
                {
                    "FOGLALAS_PK": "1202",
                    "UGYFEL_FK": "ZSUZSAV",
                    "SZOBA_FK": "52",
                    "METTOL": "2016-10-26",
                    "MEDDIG": "2016-10-28",
                    "FELNOTT_SZAM": "1",
                    "GYERMEK_SZAM": "0",
                    "NEV": "Vajda Zsuzsa",
                    "Előző három foglalás átlaga": "NULL"
                },
                {
                    "FOGLALAS_PK": "1213",
                    "UGYFEL_FK": "GYORGYO",
                    "SZOBA_FK": "91",
                    "METTOL": "2016-10-28",
                    "MEDDIG": "2016-10-31",
                    "FELNOTT_SZAM": "1",
                    "GYERMEK_SZAM": "0",
                    "NEV": "Oroszi György",
                    "Előző három foglalás átlaga": "NULL"
                },
                {
                    "FOGLALAS_PK": "1224",
                    "UGYFEL_FK": "RENATAK",
                    "SZOBA_FK": "50",
                    "METTOL": "2016-10-30",
                    "MEDDIG": "2016-10-31",
                    "FELNOTT_SZAM": "1",
                    "GYERMEK_SZAM": "0",
                    "NEV": "Kardos Renáta",
                    "Előző három foglalás átlaga": "NULL"
                },
                {
                    "FOGLALAS_PK": "1225",
                    "UGYFEL_FK": "AGNESH",
                    "SZOBA_FK": "69",
                    "METTOL": "2016-10-30",
                    "MEDDIG": "2016-11-04",
                    "FELNOTT_SZAM": "1",
                    "GYERMEK_SZAM": "0",
                    "NEV": "Horváth Ágnes",
                    "Előző három foglalás átlaga": "NULL"
                },
                {
                    "FOGLALAS_PK": "1230",
                    "UGYFEL_FK": "zoltan4",
                    "SZOBA_FK": "182",
                    "METTOL": "2016-10-30",
                    "MEDDIG": "2016-11-06",
                    "FELNOTT_SZAM": "1",
                    "GYERMEK_SZAM": "0",
                    "NEV": "Barna Zoltán",
                    "Előző három foglalás átlaga": "NULL"
                },
                {
                    "FOGLALAS_PK": "1250",
                    "UGYFEL_FK": "emese",
                    "SZOBA_FK": "107",
                    "METTOL": "2016-11-05",
                    "MEDDIG": "2016-11-09",
                    "FELNOTT_SZAM": "1",
                    "GYERMEK_SZAM": "0",
                    "NEV": "Kuruc Emese",
                    "Előző három foglalás átlaga": "NULL"
                },
                {
                    "FOGLALAS_PK": "1251",
                    "UGYFEL_FK": "tibor",
                    "SZOBA_FK": "184",
                    "METTOL": "2016-11-05",
                    "MEDDIG": "2016-11-09",
                    "FELNOTT_SZAM": "1",
                    "GYERMEK_SZAM": "0",
                    "NEV": "Gombos Tibor",
                    "Előző három foglalás átlaga": "NULL"
                },
                {
                    "FOGLALAS_PK": "1252",
                    "UGYFEL_FK": "norbert5",
                    "SZOBA_FK": "7",
                    "METTOL": "2016-11-05",
                    "MEDDIG": "2016-11-07",
                    "FELNOTT_SZAM": "1",
                    "GYERMEK_SZAM": "0",
                    "NEV": "Béres Norbert",
                    "Előző három foglalás átlaga": "NULL"
                },
                {
                    "FOGLALAS_PK": "1258",
                    "UGYFEL_FK": "julia4",
                    "SZOBA_FK": "52",
                    "METTOL": "2016-11-07",
                    "MEDDIG": "2016-11-12",
                    "FELNOTT_SZAM": "1",
                    "GYERMEK_SZAM": "0",
                    "NEV": "Nagy Júlia",
                    "Előző három foglalás átlaga": "NULL"
                },
                {
                    "FOGLALAS_PK": "1306",
                    "UGYFEL_FK": "krisztina",
                    "SZOBA_FK": "133",
                    "METTOL": "2016-11-22",
                    "MEDDIG": "2016-11-25",
                    "FELNOTT_SZAM": "1",
                    "GYERMEK_SZAM": "0",
                    "NEV": "Szedlár Krisztina",
                    "Előző három foglalás átlaga": "NULL"
                },
                {
                    "FOGLALAS_PK": "1308",
                    "UGYFEL_FK": "andras41",
                    "SZOBA_FK": "182",
                    "METTOL": "2016-11-23",
                    "MEDDIG": "2016-11-24",
                    "FELNOTT_SZAM": "1",
                    "GYERMEK_SZAM": "0",
                    "NEV": "Komjáti András",
                    "Előző három foglalás átlaga": "NULL"
                },
                {
                    "FOGLALAS_PK": "1312",
                    "UGYFEL_FK": "RENATAK",
                    "SZOBA_FK": "94",
                    "METTOL": "2016-11-23",
                    "MEDDIG": "2016-11-26",
                    "FELNOTT_SZAM": "1",
                    "GYERMEK_SZAM": "0",
                    "NEV": "Kardos Renáta",
                    "Előző három foglalás átlaga": "NULL"
                },
                {
                    "FOGLALAS_PK": "1329",
                    "UGYFEL_FK": "LASZLON",
                    "SZOBA_FK": "171",
                    "METTOL": "2016-11-29",
                    "MEDDIG": "2016-12-04",
                    "FELNOTT_SZAM": "1",
                    "GYERMEK_SZAM": "0",
                    "NEV": "Nagy László",
                    "Előző három foglalás átlaga": "NULL"
                },
                {
                    "FOGLALAS_PK": "1336",
                    "UGYFEL_FK": "eszter2",
                    "SZOBA_FK": "172",
                    "METTOL": "2016-12-02",
                    "MEDDIG": "2016-12-07",
                    "FELNOTT_SZAM": "1",
                    "GYERMEK_SZAM": "0",
                    "NEV": "Balogh Eszter",
                    "Előző három foglalás átlaga": "NULL"
                },
                {
                    "FOGLALAS_PK": "1338",
                    "UGYFEL_FK": "TAMASF",
                    "SZOBA_FK": "145",
                    "METTOL": "2016-12-02",
                    "MEDDIG": "2016-12-04",
                    "FELNOTT_SZAM": "1",
                    "GYERMEK_SZAM": "0",
                    "NEV": "Fényes Tamás",
                    "Előző három foglalás átlaga": "NULL"
                },
                {
                    "FOGLALAS_PK": "1339",
                    "UGYFEL_FK": "sandor4",
                    "SZOBA_FK": "120",
                    "METTOL": "2016-12-03",
                    "MEDDIG": "2016-12-09",
                    "FELNOTT_SZAM": "1",
                    "GYERMEK_SZAM": "0",
                    "NEV": "Nagy Sándor",
                    "Előző három foglalás átlaga": "NULL"
                },
                {
                    "FOGLALAS_PK": "1342",
                    "UGYFEL_FK": "ARPADH",
                    "SZOBA_FK": "170",
                    "METTOL": "2016-12-04",
                    "MEDDIG": "2016-12-10",
                    "FELNOTT_SZAM": "1",
                    "GYERMEK_SZAM": "0",
                    "NEV": "Horváth Árpád",
                    "Előző három foglalás átlaga": "NULL"
                },
                {
                    "FOGLALAS_PK": "1350",
                    "UGYFEL_FK": "BELAF",
                    "SZOBA_FK": "173",
                    "METTOL": "2016-12-06",
                    "MEDDIG": "2016-12-09",
                    "FELNOTT_SZAM": "1",
                    "GYERMEK_SZAM": "0",
                    "NEV": "Farkas Béla",
                    "Előző három foglalás átlaga": "NULL"
                },
                {
                    "FOGLALAS_PK": "1351",
                    "UGYFEL_FK": "sara",
                    "SZOBA_FK": "38",
                    "METTOL": "2016-12-06",
                    "MEDDIG": "2016-12-10",
                    "FELNOTT_SZAM": "1",
                    "GYERMEK_SZAM": "0",
                    "NEV": "Farkas Sára",
                    "Előző három foglalás átlaga": "NULL"
                },
                {
                    "FOGLALAS_PK": "1366",
                    "UGYFEL_FK": "fruzsina4",
                    "SZOBA_FK": "81",
                    "METTOL": "2016-12-16",
                    "MEDDIG": "2016-12-21",
                    "FELNOTT_SZAM": "1",
                    "GYERMEK_SZAM": "0",
                    "NEV": "Frank Fruzsina",
                    "Előző három foglalás átlaga": "NULL"
                },
                {
                    "FOGLALAS_PK": "1367",
                    "UGYFEL_FK": "bernadett2",
                    "SZOBA_FK": "80",
                    "METTOL": "2016-12-17",
                    "MEDDIG": "2016-12-20",
                    "FELNOTT_SZAM": "1",
                    "GYERMEK_SZAM": "0",
                    "NEV": "Kovács Bernadett",
                    "Előző három foglalás átlaga": "NULL"
                },
                {
                    "FOGLALAS_PK": "1372",
                    "UGYFEL_FK": "katalin",
                    "SZOBA_FK": "106",
                    "METTOL": "2016-12-17",
                    "MEDDIG": "2016-12-24",
                    "FELNOTT_SZAM": "1",
                    "GYERMEK_SZAM": "0",
                    "NEV": "Horváth Katalin",
                    "Előző három foglalás átlaga": "NULL"
                },
                {
                    "FOGLALAS_PK": "1374",
                    "UGYFEL_FK": "robert2",
                    "SZOBA_FK": "118",
                    "METTOL": "2016-12-17",
                    "MEDDIG": "2016-12-22",
                    "FELNOTT_SZAM": "1",
                    "GYERMEK_SZAM": "0",
                    "NEV": "Patay Róbert",
                    "Előző három foglalás átlaga": "NULL"
                },
                {
                    "FOGLALAS_PK": "1379",
                    "UGYFEL_FK": "JUDITH",
                    "SZOBA_FK": "83",
                    "METTOL": "2016-12-19",
                    "MEDDIG": "2016-12-26",
                    "FELNOTT_SZAM": "1",
                    "GYERMEK_SZAM": "0",
                    "NEV": "Hídasi Judit",
                    "Előző három foglalás átlaga": "NULL"
                },
                {
                    "FOGLALAS_PK": "1384",
                    "UGYFEL_FK": "roland1",
                    "SZOBA_FK": "84",
                    "METTOL": "2016-12-22",
                    "MEDDIG": "2016-12-29",
                    "FELNOTT_SZAM": "1",
                    "GYERMEK_SZAM": "0",
                    "NEV": "Ferencz Roland",
                    "Előző három foglalás átlaga": "NULL"
                },
                {
                    "FOGLALAS_PK": "1396",
                    "UGYFEL_FK": "peter3",
                    "SZOBA_FK": "72",
                    "METTOL": "2016-12-25",
                    "MEDDIG": "2016-12-28",
                    "FELNOTT_SZAM": "1",
                    "GYERMEK_SZAM": "0",
                    "NEV": "Szalai Péter",
                    "Előző három foglalás átlaga": "NULL"
                },
                {
                    "FOGLALAS_PK": "1403",
                    "UGYFEL_FK": "zoltan4",
                    "SZOBA_FK": "124",
                    "METTOL": "2016-12-29",
                    "MEDDIG": "2017-01-04",
                    "FELNOTT_SZAM": "1",
                    "GYERMEK_SZAM": "0",
                    "NEV": "Barna Zoltán",
                    "Előző három foglalás átlaga": "NULL"
                },
                {
                    "FOGLALAS_PK": "1420",
                    "UGYFEL_FK": "ARPADM",
                    "SZOBA_FK": "198",
                    "METTOL": "2017-01-05",
                    "MEDDIG": "2017-01-10",
                    "FELNOTT_SZAM": "1",
                    "GYERMEK_SZAM": "0",
                    "NEV": "Móricz Árpád",
                    "Előző három foglalás átlaga": "NULL"
                },
                {
                    "FOGLALAS_PK": "1422",
                    "UGYFEL_FK": "krisztian4",
                    "SZOBA_FK": "182",
                    "METTOL": "2017-01-06",
                    "MEDDIG": "2017-01-09",
                    "FELNOTT_SZAM": "1",
                    "GYERMEK_SZAM": "0",
                    "NEV": "Czérna Krisztián",
                    "Előző három foglalás átlaga": "NULL"
                },
                {
                    "FOGLALAS_PK": "1428",
                    "UGYFEL_FK": "zsuzsanna",
                    "SZOBA_FK": "126",
                    "METTOL": "2017-01-09",
                    "MEDDIG": "2017-01-16",
                    "FELNOTT_SZAM": "1",
                    "GYERMEK_SZAM": "0",
                    "NEV": "Barta Zsuzsanna",
                    "Előző három foglalás átlaga": "NULL"
                },
                {
                    "FOGLALAS_PK": "1430",
                    "UGYFEL_FK": "daniel",
                    "SZOBA_FK": "12",
                    "METTOL": "2017-01-09",
                    "MEDDIG": "2017-01-11",
                    "FELNOTT_SZAM": "1",
                    "GYERMEK_SZAM": "0",
                    "NEV": "Rácz Dániel",
                    "Előző három foglalás átlaga": "NULL"
                },
                {
                    "FOGLALAS_PK": "1434",
                    "UGYFEL_FK": "peter3",
                    "SZOBA_FK": "3",
                    "METTOL": "2017-01-12",
                    "MEDDIG": "2017-01-17",
                    "FELNOTT_SZAM": "1",
                    "GYERMEK_SZAM": "0",
                    "NEV": "Szalai Péter",
                    "Előző három foglalás átlaga": "NULL"
                },
                {
                    "FOGLALAS_PK": "1436",
                    "UGYFEL_FK": "alexandra",
                    "SZOBA_FK": "35",
                    "METTOL": "2017-01-13",
                    "MEDDIG": "2017-01-14",
                    "FELNOTT_SZAM": "1",
                    "GYERMEK_SZAM": "0",
                    "NEV": "Bagóczki Alexandra",
                    "Előző három foglalás átlaga": "NULL"
                },
                {
                    "FOGLALAS_PK": "1443",
                    "UGYFEL_FK": "KRISZTIANM",
                    "SZOBA_FK": "81",
                    "METTOL": "2017-01-16",
                    "MEDDIG": "2017-01-23",
                    "FELNOTT_SZAM": "1",
                    "GYERMEK_SZAM": "0",
                    "NEV": "Mogyródi Krisztián",
                    "Előző három foglalás átlaga": "NULL"
                },
                {
                    "FOGLALAS_PK": "1450",
                    "UGYFEL_FK": "MONIKAM",
                    "SZOBA_FK": "139",
                    "METTOL": "2017-01-17",
                    "MEDDIG": "2017-01-24",
                    "FELNOTT_SZAM": "1",
                    "GYERMEK_SZAM": "0",
                    "NEV": "Mohos Mónika",
                    "Előző három foglalás átlaga": "NULL"
                },
                {
                    "FOGLALAS_PK": "1461",
                    "UGYFEL_FK": "JOZSEFG",
                    "SZOBA_FK": "77",
                    "METTOL": "2017-01-22",
                    "MEDDIG": "2017-01-26",
                    "FELNOTT_SZAM": "1",
                    "GYERMEK_SZAM": "0",
                    "NEV": "Gyuris József",
                    "Előző három foglalás átlaga": "NULL"
                },
                {
                    "FOGLALAS_PK": "1466",
                    "UGYFEL_FK": "dani",
                    "SZOBA_FK": "57",
                    "METTOL": "2017-01-22",
                    "MEDDIG": "2017-01-29",
                    "FELNOTT_SZAM": "1",
                    "GYERMEK_SZAM": "0",
                    "NEV": "Vörös Dániel",
                    "Előző három foglalás átlaga": "NULL"
                },
                {
                    "FOGLALAS_PK": "1469",
                    "UGYFEL_FK": "brigitta",
                    "SZOBA_FK": "13",
                    "METTOL": "2017-01-23",
                    "MEDDIG": "2017-01-25",
                    "FELNOTT_SZAM": "1",
                    "GYERMEK_SZAM": "0",
                    "NEV": "Székely Brigitta",
                    "Előző három foglalás átlaga": "NULL"
                },
                {
                    "FOGLALAS_PK": "1480",
                    "UGYFEL_FK": "eszter2",
                    "SZOBA_FK": "35",
                    "METTOL": "2016-12-29",
                    "MEDDIG": "2017-02-04",
                    "FELNOTT_SZAM": "1",
                    "GYERMEK_SZAM": "0",
                    "NEV": "Balogh Eszter",
                    "Előző három foglalás átlaga": "NULL"
                },
                {
                    "FOGLALAS_PK": "1504",
                    "UGYFEL_FK": "adam3",
                    "SZOBA_FK": "57",
                    "METTOL": "2017-02-06",
                    "MEDDIG": "2017-02-10",
                    "FELNOTT_SZAM": "1",
                    "GYERMEK_SZAM": "0",
                    "NEV": "Barkóci Ádám",
                    "Előző három foglalás átlaga": "NULL"
                },
                {
                    "FOGLALAS_PK": "1508",
                    "UGYFEL_FK": "SZILARDS",
                    "SZOBA_FK": "191",
                    "METTOL": "2017-02-08",
                    "MEDDIG": "2017-02-15",
                    "FELNOTT_SZAM": "1",
                    "GYERMEK_SZAM": "0",
                    "NEV": "Szalai Szilárd",
                    "Előző három foglalás átlaga": "NULL"
                },
                {
                    "FOGLALAS_PK": "1523",
                    "UGYFEL_FK": "lajos",
                    "SZOBA_FK": "11",
                    "METTOL": "2017-02-12",
                    "MEDDIG": "2017-02-13",
                    "FELNOTT_SZAM": "1",
                    "GYERMEK_SZAM": "0",
                    "NEV": "Kiss Lajos",
                    "Előző három foglalás átlaga": "NULL"
                },
                {
                    "FOGLALAS_PK": "1529",
                    "UGYFEL_FK": "RENATAS",
                    "SZOBA_FK": "35",
                    "METTOL": "2017-02-13",
                    "MEDDIG": "2017-02-17",
                    "FELNOTT_SZAM": "1",
                    "GYERMEK_SZAM": "0",
                    "NEV": "Szirmai Renáta",
                    "Előző három foglalás átlaga": "NULL"
                },
                {
                    "FOGLALAS_PK": "1541",
                    "UGYFEL_FK": "norbert4",
                    "SZOBA_FK": "155",
                    "METTOL": "2017-02-16",
                    "MEDDIG": "2017-02-17",
                    "FELNOTT_SZAM": "1",
                    "GYERMEK_SZAM": "0",
                    "NEV": "Mile Norbert",
                    "Előző három foglalás átlaga": "NULL"
                },
                {
                    "FOGLALAS_PK": "1543",
                    "UGYFEL_FK": "RENATAK",
                    "SZOBA_FK": "95",
                    "METTOL": "2017-02-16",
                    "MEDDIG": "2017-02-23",
                    "FELNOTT_SZAM": "1",
                    "GYERMEK_SZAM": "0",
                    "NEV": "Kardos Renáta",
                    "Előző három foglalás átlaga": "NULL"
                },
                {
                    "FOGLALAS_PK": "1568",
                    "UGYFEL_FK": "bernadett1",
                    "SZOBA_FK": "29",
                    "METTOL": "2017-02-24",
                    "MEDDIG": "2017-03-03",
                    "FELNOTT_SZAM": "1",
                    "GYERMEK_SZAM": "0",
                    "NEV": "Simon Bernadett",
                    "Előző három foglalás átlaga": "NULL"
                },
                {
                    "FOGLALAS_PK": "1576",
                    "UGYFEL_FK": "norbert",
                    "SZOBA_FK": "189",
                    "METTOL": "2017-02-26",
                    "MEDDIG": "2017-03-01",
                    "FELNOTT_SZAM": "1",
                    "GYERMEK_SZAM": "0",
                    "NEV": "Szűcs Norbert",
                    "Előző három foglalás átlaga": "NULL"
                },
                {
                    "FOGLALAS_PK": "1578",
                    "UGYFEL_FK": "balazs2",
                    "SZOBA_FK": "148",
                    "METTOL": "2017-02-27",
                    "MEDDIG": "2017-03-06",
                    "FELNOTT_SZAM": "1",
                    "GYERMEK_SZAM": "0",
                    "NEV": "Szűcs Balázs",
                    "Előző három foglalás átlaga": "NULL"
                },
                {
                    "FOGLALAS_PK": "1581",
                    "UGYFEL_FK": "RENATAK",
                    "SZOBA_FK": "48",
                    "METTOL": "2017-03-01",
                    "MEDDIG": "2017-03-06",
                    "FELNOTT_SZAM": "1",
                    "GYERMEK_SZAM": "0",
                    "NEV": "Kardos Renáta",
                    "Előző három foglalás átlaga": "NULL"
                }
            ]
        },
        "text/html": [
            "<table>",
            "<tr><th>FOGLALAS_PK</th><th>UGYFEL_FK</th><th>SZOBA_FK</th><th>METTOL</th><th>MEDDIG</th><th>FELNOTT_SZAM</th><th>GYERMEK_SZAM</th><th>NEV</th><th>Előző három foglalás átlaga</th></tr>",
            "<tr><td>562</td><td>PETERB</td><td>7</td><td>2016-04-06</td><td>2016-04-10</td><td>1</td><td>0</td><td>Berendi Péter</td><td>NULL</td></tr>",
            "<tr><td>567</td><td>anett3</td><td>170</td><td>2016-04-10</td><td>2016-04-17</td><td>1</td><td>0</td><td>Pivarcsi Anett</td><td>NULL</td></tr>",
            "<tr><td>586</td><td>BEATRIXS</td><td>107</td><td>2016-04-18</td><td>2016-04-24</td><td>1</td><td>0</td><td>Szekendi Beatrix</td><td>NULL</td></tr>",
            "<tr><td>587</td><td>norbert2</td><td>123</td><td>2016-04-19</td><td>2016-04-26</td><td>1</td><td>0</td><td>Hegedűs Norbert</td><td>NULL</td></tr>",
            "<tr><td>600</td><td>ANDRASE</td><td>190</td><td>2016-04-24</td><td>2016-05-01</td><td>1</td><td>0</td><td>Erdei András</td><td>NULL</td></tr>",
            "<tr><td>601</td><td>kata</td><td>39</td><td>2016-04-25</td><td>2016-05-01</td><td>1</td><td>0</td><td>Gondos Katalin</td><td>NULL</td></tr>",
            "<tr><td>610</td><td>VIKTORIAU</td><td>106</td><td>2016-04-30</td><td>2016-05-03</td><td>1</td><td>0</td><td>Urbán Viktoria</td><td>NULL</td></tr>",
            "<tr><td>620</td><td>marton</td><td>1</td><td>2016-05-05</td><td>2016-05-10</td><td>1</td><td>0</td><td>Kalacsi Márton</td><td>NULL</td></tr>",
            "<tr><td>631</td><td>JANOSG</td><td>98</td><td>2016-05-09</td><td>2016-05-15</td><td>1</td><td>0</td><td>Giliga János</td><td>NULL</td></tr>",
            "<tr><td>638</td><td>julia</td><td>67</td><td>2016-05-12</td><td>2016-05-17</td><td>1</td><td>0</td><td>Tóth Júlia</td><td>NULL</td></tr>",
            "<tr><td>648</td><td>krisztina1</td><td>157</td><td>2016-05-16</td><td>2016-05-20</td><td>1</td><td>0</td><td>Bori Krisztina</td><td>NULL</td></tr>",
            "<tr><td>651</td><td>aladar</td><td>4</td><td>2016-05-17</td><td>2016-05-24</td><td>1</td><td>0</td><td>Dunai Aladár</td><td>NULL</td></tr>",
            "<tr><td>652</td><td>maria1</td><td>149</td><td>2016-05-18</td><td>2016-05-19</td><td>1</td><td>0</td><td>Baráth Mária</td><td>NULL</td></tr>",
            "<tr><td>657</td><td>attila1</td><td>137</td><td>2016-05-20</td><td>2016-05-26</td><td>1</td><td>0</td><td>Gulyás Attila</td><td>NULL</td></tr>",
            "<tr><td>661</td><td>katalin</td><td>136</td><td>2016-05-21</td><td>2016-05-26</td><td>1</td><td>0</td><td>Horváth Katalin</td><td>NULL</td></tr>",
            "<tr><td>669</td><td>tunde</td><td>173</td><td>2016-07-14</td><td>2016-07-21</td><td>1</td><td>0</td><td>Turcsik Tünde</td><td>NULL</td></tr>",
            "<tr><td>684</td><td>ANNAMARIAR</td><td>184</td><td>2016-07-18</td><td>2016-07-21</td><td>1</td><td>0</td><td>Regős Annamária</td><td>NULL</td></tr>",
            "<tr><td>689</td><td>istvan1</td><td>102</td><td>2016-07-19</td><td>2016-07-24</td><td>1</td><td>0</td><td>Vizi István</td><td>NULL</td></tr>",
            "<tr><td>697</td><td>andras21</td><td>12</td><td>2016-07-20</td><td>2016-07-22</td><td>1</td><td>0</td><td>Molnár András</td><td>NULL</td></tr>",
            "<tr><td>702</td><td>balint2</td><td>62</td><td>2016-07-21</td><td>2016-07-26</td><td>1</td><td>0</td><td>Vukasinovity Bálint</td><td>NULL</td></tr>",
            "<tr><td>705</td><td>akos</td><td>37</td><td>2016-07-22</td><td>2016-07-26</td><td>1</td><td>0</td><td>Bíró Ákos</td><td>NULL</td></tr>",
            "<tr><td>708</td><td>MONIKAM</td><td>106</td><td>2016-07-23</td><td>2016-07-30</td><td>1</td><td>0</td><td>Mohos Mónika</td><td>NULL</td></tr>",
            "<tr><td>709</td><td>valentin</td><td>172</td><td>2016-07-24</td><td>2016-07-29</td><td>1</td><td>0</td><td>Feró Valentin</td><td>NULL</td></tr>",
            "<tr><td>733</td><td>katalin</td><td>140</td><td>2016-07-28</td><td>2016-07-29</td><td>1</td><td>0</td><td>Horváth Katalin</td><td>NULL</td></tr>",
            "<tr><td>755</td><td>agnes3</td><td>20</td><td>2016-08-04</td><td>2016-08-10</td><td>1</td><td>0</td><td>Hartyánszky Ágnes</td><td>NULL</td></tr>",
            "<tr><td>757</td><td>david</td><td>88</td><td>2016-08-05</td><td>2016-08-12</td><td>1</td><td>0</td><td>Ambrus Dávid</td><td>NULL</td></tr>",
            "<tr><td>779</td><td>zoltan4</td><td>130</td><td>2016-08-15</td><td>2016-08-21</td><td>1</td><td>0</td><td>Barna Zoltán</td><td>NULL</td></tr>",
            "<tr><td>781</td><td>PETERB</td><td>166</td><td>2016-08-16</td><td>2016-08-23</td><td>1</td><td>0</td><td>Berendi Péter</td><td>NULL</td></tr>",
            "<tr><td>782</td><td>norbert2</td><td>163</td><td>2016-08-16</td><td>2016-08-19</td><td>1</td><td>0</td><td>Hegedűs Norbert</td><td>NULL</td></tr>",
            "<tr><td>787</td><td>krisztian4</td><td>50</td><td>2016-08-16</td><td>2016-08-19</td><td>1</td><td>0</td><td>Czérna Krisztián</td><td>NULL</td></tr>",
            "<tr><td>790</td><td>veronika4</td><td>10</td><td>2016-08-16</td><td>2016-08-21</td><td>1</td><td>0</td><td>Tankó Veronika</td><td>NULL</td></tr>",
            "<tr><td>799</td><td>andras41</td><td>175</td><td>2016-08-19</td><td>2016-08-23</td><td>1</td><td>0</td><td>Komjáti András</td><td>NULL</td></tr>",
            "<tr><td>803</td><td>adam1</td><td>1</td><td>2016-08-20</td><td>2016-08-24</td><td>1</td><td>0</td><td>Kiss Ádám</td><td>NULL</td></tr>",
            "<tr><td>818</td><td>henrik3</td><td>8</td><td>2016-08-24</td><td>2016-08-28</td><td>1</td><td>0</td><td>Nádudvari Henrik</td><td>NULL</td></tr>",
            "<tr><td>834</td><td>krisztian4</td><td>149</td><td>2016-08-29</td><td>2016-09-03</td><td>1</td><td>0</td><td>Czérna Krisztián</td><td>NULL</td></tr>",
            "<tr><td>839</td><td>MIHALYJ</td><td>172</td><td>2016-08-29</td><td>2016-09-03</td><td>1</td><td>0</td><td>Juhász Mihály</td><td>NULL</td></tr>",
            "<tr><td>845</td><td>eva2</td><td>63</td><td>2016-09-02</td><td>2016-09-03</td><td>1</td><td>0</td><td>Perlinger Éva</td><td>NULL</td></tr>",
            "<tr><td>846</td><td>maria1</td><td>45</td><td>2016-09-02</td><td>2016-09-05</td><td>1</td><td>0</td><td>Baráth Mária</td><td>NULL</td></tr>",
            "<tr><td>852</td><td>JOZSEFG</td><td>24</td><td>2016-05-23</td><td>2016-05-25</td><td>1</td><td>0</td><td>Gyuris József</td><td>NULL</td></tr>",
            "<tr><td>854</td><td>KRISZTINAG</td><td>167</td><td>2016-05-24</td><td>2016-05-31</td><td>1</td><td>0</td><td>Gyárfás Krisztina</td><td>NULL</td></tr>",
            "<tr><td>857</td><td>agnes</td><td>165</td><td>2016-05-25</td><td>2016-05-30</td><td>1</td><td>0</td><td>Lengyel Ágnes</td><td>NULL</td></tr>",
            "<tr><td>858</td><td>sandor3</td><td>121</td><td>2016-05-25</td><td>2016-05-30</td><td>1</td><td>0</td><td>Farkas Sándor</td><td>NULL</td></tr>",
            "<tr><td>860</td><td>andrea4</td><td>70</td><td>2016-05-27</td><td>2016-05-29</td><td>1</td><td>0</td><td>Neizer Andrea</td><td>NULL</td></tr>",
            "<tr><td>867</td><td>ZSOLTJ</td><td>175</td><td>2016-05-28</td><td>2016-06-03</td><td>1</td><td>0</td><td>Józsa Zsolt</td><td>NULL</td></tr>",
            "<tr><td>872</td><td>bence</td><td>28</td><td>2016-05-29</td><td>2016-06-03</td><td>1</td><td>0</td><td>Győrffy Bence</td><td>NULL</td></tr>",
            "<tr><td>878</td><td>gabor4</td><td>83</td><td>2016-05-30</td><td>2016-06-05</td><td>1</td><td>0</td><td>Telek Gábor</td><td>NULL</td></tr>",
            "<tr><td>880</td><td>andras3</td><td>184</td><td>2016-05-30</td><td>2016-06-03</td><td>1</td><td>0</td><td>Vígh András</td><td>NULL</td></tr>",
            "<tr><td>881</td><td>tihamer</td><td>131</td><td>2016-05-30</td><td>2016-06-05</td><td>1</td><td>0</td><td>Kazy Tihamér</td><td>NULL</td></tr>",
            "<tr><td>884</td><td>andras2</td><td>98</td><td>2016-05-30</td><td>2016-06-04</td><td>1</td><td>0</td><td>Tóth András</td><td>NULL</td></tr>",
            "<tr><td>891</td><td>MATYASS</td><td>63</td><td>2016-06-02</td><td>2016-06-08</td><td>1</td><td>0</td><td>Szilágyi Mátyás</td><td>NULL</td></tr>",
            "<tr><td>892</td><td>LASZLON</td><td>165</td><td>2016-06-03</td><td>2016-06-06</td><td>1</td><td>0</td><td>Nagy László</td><td>NULL</td></tr>",
            "<tr><td>893</td><td>zoltan4</td><td>151</td><td>2016-06-03</td><td>2016-06-06</td><td>1</td><td>0</td><td>Barna Zoltán</td><td>NULL</td></tr>",
            "<tr><td>897</td><td>nikolett3</td><td>165</td><td>2016-06-03</td><td>2016-06-09</td><td>1</td><td>0</td><td>Horváth Nikolett</td><td>NULL</td></tr>",
            "<tr><td>904</td><td>janos3</td><td>34</td><td>2016-06-04</td><td>2016-06-06</td><td>1</td><td>0</td><td>Harangozó János</td><td>NULL</td></tr>",
            "<tr><td>923</td><td>LASZLOA</td><td>123</td><td>2016-06-07</td><td>2016-06-11</td><td>1</td><td>0</td><td>Antal László</td><td>NULL</td></tr>",
            "<tr><td>935</td><td>KRISZTINAG</td><td>56</td><td>2016-06-08</td><td>2016-06-12</td><td>1</td><td>0</td><td>Gyárfás Krisztina</td><td>NULL</td></tr>",
            "<tr><td>945</td><td>GYONGYIK</td><td>23</td><td>2016-06-10</td><td>2016-06-17</td><td>1</td><td>0</td><td>Kornseé Gyöngyi</td><td>NULL</td></tr>",
            "<tr><td>948</td><td>balint1</td><td>19</td><td>2016-06-10</td><td>2016-06-12</td><td>1</td><td>0</td><td>Molnár Bálint</td><td>NULL</td></tr>",
            "<tr><td>949</td><td>andras3</td><td>1</td><td>2016-06-10</td><td>2016-06-11</td><td>1</td><td>0</td><td>Vígh András</td><td>NULL</td></tr>",
            "<tr><td>954</td><td>katka</td><td>84</td><td>2016-06-13</td><td>2016-06-18</td><td>1</td><td>0</td><td>Kovács Katalin</td><td>NULL</td></tr>",
            "<tr><td>955</td><td>andi</td><td>47</td><td>2016-06-13</td><td>2016-06-14</td><td>1</td><td>0</td><td>Maródi Andrea</td><td>NULL</td></tr>",
            "<tr><td>965</td><td>ANIKOS</td><td>5</td><td>2016-06-16</td><td>2016-06-23</td><td>1</td><td>0</td><td>Simon Anikó</td><td>NULL</td></tr>",
            "<tr><td>974</td><td>bertalan</td><td>169</td><td>2016-06-20</td><td>2016-06-21</td><td>1</td><td>0</td><td>Csiger Bertalan</td><td>NULL</td></tr>",
            "<tr><td>976</td><td>nikolett3</td><td>76</td><td>2016-06-22</td><td>2016-06-24</td><td>1</td><td>0</td><td>Horváth Nikolett</td><td>NULL</td></tr>",
            "<tr><td>980</td><td>AGNESH</td><td>143</td><td>2016-06-23</td><td>2016-06-26</td><td>1</td><td>0</td><td>Horváth Ágnes</td><td>NULL</td></tr>",
            "<tr><td>981</td><td>maria1</td><td>171</td><td>2016-06-23</td><td>2016-06-27</td><td>1</td><td>0</td><td>Baráth Mária</td><td>NULL</td></tr>",
            "<tr><td>990</td><td>MIHALYJ</td><td>6</td><td>2016-06-27</td><td>2016-07-01</td><td>1</td><td>0</td><td>Juhász Mihály</td><td>NULL</td></tr>",
            "<tr><td>997</td><td>katalin4</td><td>82</td><td>2016-07-01</td><td>2016-07-07</td><td>1</td><td>0</td><td>Kertész Katalin</td><td>NULL</td></tr>",
            "<tr><td>1001</td><td>aniko4</td><td>4</td><td>2016-07-02</td><td>2016-07-09</td><td>1</td><td>0</td><td>Böröcz Anikó</td><td>NULL</td></tr>",
            "<tr><td>1005</td><td>beata4</td><td>22</td><td>2016-07-03</td><td>2016-07-06</td><td>1</td><td>0</td><td>Bagi Beáta</td><td>NULL</td></tr>",
            "<tr><td>1006</td><td>kata</td><td>70</td><td>2016-07-03</td><td>2016-07-06</td><td>1</td><td>0</td><td>Gondos Katalin</td><td>NULL</td></tr>",
            "<tr><td>1015</td><td>katalin</td><td>174</td><td>2016-07-06</td><td>2016-07-11</td><td>1</td><td>0</td><td>Horváth Katalin</td><td>NULL</td></tr>",
            "<tr><td>1017</td><td>eszter2</td><td>190</td><td>2016-07-08</td><td>2016-07-09</td><td>1</td><td>0</td><td>Balogh Eszter</td><td>NULL</td></tr>",
            "<tr><td>1018</td><td>norbert</td><td>40</td><td>2016-07-08</td><td>2016-07-13</td><td>1</td><td>0</td><td>Szűcs Norbert</td><td>NULL</td></tr>",
            "<tr><td>1026</td><td>gabor1</td><td>119</td><td>2016-07-12</td><td>2016-07-15</td><td>1</td><td>0</td><td>Köves Gábor</td><td>NULL</td></tr>",
            "<tr><td>1034</td><td>akos</td><td>127</td><td>2016-09-06</td><td>2016-09-12</td><td>1</td><td>0</td><td>Bíró Ákos</td><td>NULL</td></tr>",
            "<tr><td>1048</td><td>krisztina</td><td>95</td><td>2016-09-13</td><td>2016-09-16</td><td>1</td><td>0</td><td>Szedlár Krisztina</td><td>NULL</td></tr>",
            "<tr><td>1056</td><td>ARPADH</td><td>47</td><td>2016-09-16</td><td>2016-09-23</td><td>1</td><td>0</td><td>Horváth Árpád</td><td>NULL</td></tr>",
            "<tr><td>1057</td><td>balint1</td><td>86</td><td>2016-09-16</td><td>2016-09-21</td><td>1</td><td>0</td><td>Molnár Bálint</td><td>NULL</td></tr>",
            "<tr><td>1066</td><td>ARPADH</td><td>49</td><td>2016-09-18</td><td>2016-09-25</td><td>1</td><td>0</td><td>Horváth Árpád</td><td>NULL</td></tr>",
            "<tr><td>1074</td><td>andras41</td><td>195</td><td>2016-09-22</td><td>2016-09-29</td><td>1</td><td>0</td><td>Komjáti András</td><td>NULL</td></tr>",
            "<tr><td>1079</td><td>aladar</td><td>86</td><td>2016-09-24</td><td>2016-09-28</td><td>1</td><td>0</td><td>Dunai Aladár</td><td>NULL</td></tr>",
            "<tr><td>1102</td><td>dani</td><td>108</td><td>2016-10-01</td><td>2016-10-02</td><td>1</td><td>0</td><td>Vörös Dániel</td><td>NULL</td></tr>",
            "<tr><td>1103</td><td>vivien3</td><td>87</td><td>2016-10-01</td><td>2016-10-04</td><td>1</td><td>0</td><td>Boros Vivien</td><td>NULL</td></tr>",
            "<tr><td>1109</td><td>eszter2</td><td>110</td><td>2016-10-01</td><td>2016-10-06</td><td>1</td><td>0</td><td>Balogh Eszter</td><td>NULL</td></tr>",
            "<tr><td>1112</td><td>beata4</td><td>155</td><td>2016-10-01</td><td>2016-10-05</td><td>1</td><td>0</td><td>Bagi Beáta</td><td>NULL</td></tr>",
            "<tr><td>1134</td><td>miklos2</td><td>126</td><td>2016-10-08</td><td>2016-10-09</td><td>1</td><td>0</td><td>Gondos Miklós</td><td>NULL</td></tr>",
            "<tr><td>1136</td><td>LASZLON</td><td>30</td><td>2016-10-09</td><td>2016-10-14</td><td>1</td><td>0</td><td>Nagy László</td><td>NULL</td></tr>",
            "<tr><td>1154</td><td>attila</td><td>115</td><td>2016-10-15</td><td>2016-10-19</td><td>1</td><td>0</td><td>Csóti Attila</td><td>NULL</td></tr>",
            "<tr><td>1156</td><td>sandor4</td><td>140</td><td>2016-10-15</td><td>2016-10-18</td><td>1</td><td>0</td><td>Nagy Sándor</td><td>NULL</td></tr>",
            "<tr><td>1159</td><td>anett3</td><td>73</td><td>2016-10-16</td><td>2016-10-21</td><td>1</td><td>0</td><td>Pivarcsi Anett</td><td>NULL</td></tr>",
            "<tr><td>1169</td><td>gabor1</td><td>93</td><td>2016-10-20</td><td>2016-10-24</td><td>1</td><td>0</td><td>Köves Gábor</td><td>NULL</td></tr>",
            "<tr><td>1171</td><td>eszter2</td><td>172</td><td>2016-10-20</td><td>2016-10-25</td><td>1</td><td>0</td><td>Balogh Eszter</td><td>NULL</td></tr>",
            "<tr><td>1172</td><td>mark</td><td>197</td><td>2016-10-20</td><td>2016-10-27</td><td>1</td><td>0</td><td>Kispál Márk</td><td>NULL</td></tr>",
            "<tr><td>1177</td><td>janos3</td><td>150</td><td>2016-10-22</td><td>2016-10-23</td><td>1</td><td>0</td><td>Harangozó János</td><td>NULL</td></tr>",
            "<tr><td>1186</td><td>ROBERTI</td><td>58</td><td>2016-10-23</td><td>2016-10-29</td><td>1</td><td>0</td><td>Iván Róbert</td><td>NULL</td></tr>",
            "<tr><td>1187</td><td>eszter2</td><td>46</td><td>2016-10-23</td><td>2016-10-30</td><td>1</td><td>0</td><td>Balogh Eszter</td><td>NULL</td></tr>",
            "<tr><td>1190</td><td>MATYASS</td><td>161</td><td>2016-10-24</td><td>2016-10-31</td><td>1</td><td>0</td><td>Szilágyi Mátyás</td><td>NULL</td></tr>",
            "<tr><td>1202</td><td>ZSUZSAV</td><td>52</td><td>2016-10-26</td><td>2016-10-28</td><td>1</td><td>0</td><td>Vajda Zsuzsa</td><td>NULL</td></tr>",
            "<tr><td>1213</td><td>GYORGYO</td><td>91</td><td>2016-10-28</td><td>2016-10-31</td><td>1</td><td>0</td><td>Oroszi György</td><td>NULL</td></tr>",
            "<tr><td>1224</td><td>RENATAK</td><td>50</td><td>2016-10-30</td><td>2016-10-31</td><td>1</td><td>0</td><td>Kardos Renáta</td><td>NULL</td></tr>",
            "<tr><td>1225</td><td>AGNESH</td><td>69</td><td>2016-10-30</td><td>2016-11-04</td><td>1</td><td>0</td><td>Horváth Ágnes</td><td>NULL</td></tr>",
            "<tr><td>1230</td><td>zoltan4</td><td>182</td><td>2016-10-30</td><td>2016-11-06</td><td>1</td><td>0</td><td>Barna Zoltán</td><td>NULL</td></tr>",
            "<tr><td>1250</td><td>emese</td><td>107</td><td>2016-11-05</td><td>2016-11-09</td><td>1</td><td>0</td><td>Kuruc Emese</td><td>NULL</td></tr>",
            "<tr><td>1251</td><td>tibor</td><td>184</td><td>2016-11-05</td><td>2016-11-09</td><td>1</td><td>0</td><td>Gombos Tibor</td><td>NULL</td></tr>",
            "<tr><td>1252</td><td>norbert5</td><td>7</td><td>2016-11-05</td><td>2016-11-07</td><td>1</td><td>0</td><td>Béres Norbert</td><td>NULL</td></tr>",
            "<tr><td>1258</td><td>julia4</td><td>52</td><td>2016-11-07</td><td>2016-11-12</td><td>1</td><td>0</td><td>Nagy Júlia</td><td>NULL</td></tr>",
            "<tr><td>1306</td><td>krisztina</td><td>133</td><td>2016-11-22</td><td>2016-11-25</td><td>1</td><td>0</td><td>Szedlár Krisztina</td><td>NULL</td></tr>",
            "<tr><td>1308</td><td>andras41</td><td>182</td><td>2016-11-23</td><td>2016-11-24</td><td>1</td><td>0</td><td>Komjáti András</td><td>NULL</td></tr>",
            "<tr><td>1312</td><td>RENATAK</td><td>94</td><td>2016-11-23</td><td>2016-11-26</td><td>1</td><td>0</td><td>Kardos Renáta</td><td>NULL</td></tr>",
            "<tr><td>1329</td><td>LASZLON</td><td>171</td><td>2016-11-29</td><td>2016-12-04</td><td>1</td><td>0</td><td>Nagy László</td><td>NULL</td></tr>",
            "<tr><td>1336</td><td>eszter2</td><td>172</td><td>2016-12-02</td><td>2016-12-07</td><td>1</td><td>0</td><td>Balogh Eszter</td><td>NULL</td></tr>",
            "<tr><td>1338</td><td>TAMASF</td><td>145</td><td>2016-12-02</td><td>2016-12-04</td><td>1</td><td>0</td><td>Fényes Tamás</td><td>NULL</td></tr>",
            "<tr><td>1339</td><td>sandor4</td><td>120</td><td>2016-12-03</td><td>2016-12-09</td><td>1</td><td>0</td><td>Nagy Sándor</td><td>NULL</td></tr>",
            "<tr><td>1342</td><td>ARPADH</td><td>170</td><td>2016-12-04</td><td>2016-12-10</td><td>1</td><td>0</td><td>Horváth Árpád</td><td>NULL</td></tr>",
            "<tr><td>1350</td><td>BELAF</td><td>173</td><td>2016-12-06</td><td>2016-12-09</td><td>1</td><td>0</td><td>Farkas Béla</td><td>NULL</td></tr>",
            "<tr><td>1351</td><td>sara</td><td>38</td><td>2016-12-06</td><td>2016-12-10</td><td>1</td><td>0</td><td>Farkas Sára</td><td>NULL</td></tr>",
            "<tr><td>1366</td><td>fruzsina4</td><td>81</td><td>2016-12-16</td><td>2016-12-21</td><td>1</td><td>0</td><td>Frank Fruzsina</td><td>NULL</td></tr>",
            "<tr><td>1367</td><td>bernadett2</td><td>80</td><td>2016-12-17</td><td>2016-12-20</td><td>1</td><td>0</td><td>Kovács Bernadett</td><td>NULL</td></tr>",
            "<tr><td>1372</td><td>katalin</td><td>106</td><td>2016-12-17</td><td>2016-12-24</td><td>1</td><td>0</td><td>Horváth Katalin</td><td>NULL</td></tr>",
            "<tr><td>1374</td><td>robert2</td><td>118</td><td>2016-12-17</td><td>2016-12-22</td><td>1</td><td>0</td><td>Patay Róbert</td><td>NULL</td></tr>",
            "<tr><td>1379</td><td>JUDITH</td><td>83</td><td>2016-12-19</td><td>2016-12-26</td><td>1</td><td>0</td><td>Hídasi Judit</td><td>NULL</td></tr>",
            "<tr><td>1384</td><td>roland1</td><td>84</td><td>2016-12-22</td><td>2016-12-29</td><td>1</td><td>0</td><td>Ferencz Roland</td><td>NULL</td></tr>",
            "<tr><td>1396</td><td>peter3</td><td>72</td><td>2016-12-25</td><td>2016-12-28</td><td>1</td><td>0</td><td>Szalai Péter</td><td>NULL</td></tr>",
            "<tr><td>1403</td><td>zoltan4</td><td>124</td><td>2016-12-29</td><td>2017-01-04</td><td>1</td><td>0</td><td>Barna Zoltán</td><td>NULL</td></tr>",
            "<tr><td>1420</td><td>ARPADM</td><td>198</td><td>2017-01-05</td><td>2017-01-10</td><td>1</td><td>0</td><td>Móricz Árpád</td><td>NULL</td></tr>",
            "<tr><td>1422</td><td>krisztian4</td><td>182</td><td>2017-01-06</td><td>2017-01-09</td><td>1</td><td>0</td><td>Czérna Krisztián</td><td>NULL</td></tr>",
            "<tr><td>1428</td><td>zsuzsanna</td><td>126</td><td>2017-01-09</td><td>2017-01-16</td><td>1</td><td>0</td><td>Barta Zsuzsanna</td><td>NULL</td></tr>",
            "<tr><td>1430</td><td>daniel</td><td>12</td><td>2017-01-09</td><td>2017-01-11</td><td>1</td><td>0</td><td>Rácz Dániel</td><td>NULL</td></tr>",
            "<tr><td>1434</td><td>peter3</td><td>3</td><td>2017-01-12</td><td>2017-01-17</td><td>1</td><td>0</td><td>Szalai Péter</td><td>NULL</td></tr>",
            "<tr><td>1436</td><td>alexandra</td><td>35</td><td>2017-01-13</td><td>2017-01-14</td><td>1</td><td>0</td><td>Bagóczki Alexandra</td><td>NULL</td></tr>",
            "<tr><td>1443</td><td>KRISZTIANM</td><td>81</td><td>2017-01-16</td><td>2017-01-23</td><td>1</td><td>0</td><td>Mogyródi Krisztián</td><td>NULL</td></tr>",
            "<tr><td>1450</td><td>MONIKAM</td><td>139</td><td>2017-01-17</td><td>2017-01-24</td><td>1</td><td>0</td><td>Mohos Mónika</td><td>NULL</td></tr>",
            "<tr><td>1461</td><td>JOZSEFG</td><td>77</td><td>2017-01-22</td><td>2017-01-26</td><td>1</td><td>0</td><td>Gyuris József</td><td>NULL</td></tr>",
            "<tr><td>1466</td><td>dani</td><td>57</td><td>2017-01-22</td><td>2017-01-29</td><td>1</td><td>0</td><td>Vörös Dániel</td><td>NULL</td></tr>",
            "<tr><td>1469</td><td>brigitta</td><td>13</td><td>2017-01-23</td><td>2017-01-25</td><td>1</td><td>0</td><td>Székely Brigitta</td><td>NULL</td></tr>",
            "<tr><td>1480</td><td>eszter2</td><td>35</td><td>2016-12-29</td><td>2017-02-04</td><td>1</td><td>0</td><td>Balogh Eszter</td><td>NULL</td></tr>",
            "<tr><td>1504</td><td>adam3</td><td>57</td><td>2017-02-06</td><td>2017-02-10</td><td>1</td><td>0</td><td>Barkóci Ádám</td><td>NULL</td></tr>",
            "<tr><td>1508</td><td>SZILARDS</td><td>191</td><td>2017-02-08</td><td>2017-02-15</td><td>1</td><td>0</td><td>Szalai Szilárd</td><td>NULL</td></tr>",
            "<tr><td>1523</td><td>lajos</td><td>11</td><td>2017-02-12</td><td>2017-02-13</td><td>1</td><td>0</td><td>Kiss Lajos</td><td>NULL</td></tr>",
            "<tr><td>1529</td><td>RENATAS</td><td>35</td><td>2017-02-13</td><td>2017-02-17</td><td>1</td><td>0</td><td>Szirmai Renáta</td><td>NULL</td></tr>",
            "<tr><td>1541</td><td>norbert4</td><td>155</td><td>2017-02-16</td><td>2017-02-17</td><td>1</td><td>0</td><td>Mile Norbert</td><td>NULL</td></tr>",
            "<tr><td>1543</td><td>RENATAK</td><td>95</td><td>2017-02-16</td><td>2017-02-23</td><td>1</td><td>0</td><td>Kardos Renáta</td><td>NULL</td></tr>",
            "<tr><td>1568</td><td>bernadett1</td><td>29</td><td>2017-02-24</td><td>2017-03-03</td><td>1</td><td>0</td><td>Simon Bernadett</td><td>NULL</td></tr>",
            "<tr><td>1576</td><td>norbert</td><td>189</td><td>2017-02-26</td><td>2017-03-01</td><td>1</td><td>0</td><td>Szűcs Norbert</td><td>NULL</td></tr>",
            "<tr><td>1578</td><td>balazs2</td><td>148</td><td>2017-02-27</td><td>2017-03-06</td><td>1</td><td>0</td><td>Szűcs Balázs</td><td>NULL</td></tr>",
            "<tr><td>1581</td><td>RENATAK</td><td>48</td><td>2017-03-01</td><td>2017-03-06</td><td>1</td><td>0</td><td>Kardos Renáta</td><td>NULL</td></tr>",
            "</table>"
        ]
    }
}
],
            "execution_count": 43
        }
    ]
}